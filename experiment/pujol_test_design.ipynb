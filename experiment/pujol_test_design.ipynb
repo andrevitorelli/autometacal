{
 "cells": [
  {
   "cell_type": "markdown",
   "id": "048f4d54-2095-4348-a42c-b30f7a69547e",
   "metadata": {},
   "source": [
    "# Make a simple pujol test example"
   ]
  },
  {
   "cell_type": "code",
   "execution_count": 3,
   "id": "06dc72f0-9994-493f-ba3b-76521de8ada7",
   "metadata": {},
   "outputs": [
    {
     "name": "stdout",
     "output_type": "stream",
     "text": [
      "Populating the interactive namespace from numpy and matplotlib\n"
     ]
    }
   ],
   "source": [
    "%pylab inline"
   ]
  },
  {
   "cell_type": "code",
   "execution_count": 4,
   "id": "63a3e8a8-2ab6-48f9-93ad-ea1d9c23005b",
   "metadata": {},
   "outputs": [],
   "source": [
    "import numpy as np"
   ]
  },
  {
   "cell_type": "code",
   "execution_count": 19,
   "id": "9d5bdddb-44a0-449c-a043-ab4625ad27a1",
   "metadata": {},
   "outputs": [],
   "source": [
    "import galsim\n",
    "import autometacal as amc\n",
    "import tensorflow as tf"
   ]
  },
  {
   "cell_type": "code",
   "execution_count": 14,
   "id": "fe92a6f3-fc91-4a54-8903-4d19814c10e2",
   "metadata": {},
   "outputs": [],
   "source": [
    "stamp_size = 51\n",
    "batch_size = 1\n",
    "shear_true = [0.,0.]\n",
    "true_epsf = [0.,0.]\n",
    "noise_level = 1e-3\n",
    "gal_hlr = 0.5\n",
    "flux = 1.\n",
    "scale = 0.263\n",
    "psf_fwhm = 0.7\n",
    "method = 'auto'\n",
    "window_fwhm = 1.7"
   ]
  },
  {
   "cell_type": "code",
   "execution_count": 7,
   "id": "2522159a-2b41-4080-b3a2-d2240b2148fb",
   "metadata": {},
   "outputs": [],
   "source": [
    "psf_obj = galsim.Moffat(beta=4.8, fwhm=psf_fwhm).shear(g1=true_epsf[0],g2=true_epsf[1])"
   ]
  },
  {
   "cell_type": "code",
   "execution_count": 8,
   "id": "4ba8b985-3674-496f-b132-0c5d35b1b406",
   "metadata": {},
   "outputs": [],
   "source": [
    "noise_imgs = np.random.normal(scale=noise_level,size=[batch_size,stamp_size,stamp_size])"
   ]
  },
  {
   "cell_type": "code",
   "execution_count": 9,
   "id": "e4caa74c-3c6f-49ce-9c3e-482258ab1187",
   "metadata": {},
   "outputs": [],
   "source": [
    "intrinsic_shape = [0,0]\n",
    "obj = galsim.Exponential(half_light_radius=gal_hlr).shear(g1=intrinsic_shape[0],g2=intrinsic_shape[1])\n",
    "\n",
    "obj = obj.shear(g1=shear_true[0] ,g2=shear_true[1] )\n",
    "#convolve\n",
    "obj = galsim.Convolve([obj,psf_obj])\n",
    "#draw\n",
    "gal_image = obj.drawImage(nx=stamp_size, ny=stamp_size, scale=scale,method=method).array\n",
    "psf_image = psf_obj.drawImage(nx=stamp_size, ny=stamp_size, scale=scale,method=method).array\n",
    "\n"
   ]
  },
  {
   "cell_type": "code",
   "execution_count": 10,
   "id": "142111b0-6210-4325-a9d3-9a1a1b1b654a",
   "metadata": {},
   "outputs": [
    {
     "data": {
      "text/plain": [
       "<matplotlib.image.AxesImage at 0x7f14bf9ba610>"
      ]
     },
     "execution_count": 10,
     "metadata": {},
     "output_type": "execute_result"
    },
    {
     "data": {
      "image/png": "[encoded data removed]",
      "text/plain": [
       "<Figure size 640x480 with 1 Axes>"
      ]
     },
     "metadata": {},
     "output_type": "display_data"
    }
   ],
   "source": [
    "gal_image += noise_imgs[0]\n",
    "imshow(gal_image)"
   ]
  },
  {
   "cell_type": "code",
   "execution_count": 16,
   "id": "539d19fd-b3f2-4594-b359-51f77953ed19",
   "metadata": {},
   "outputs": [],
   "source": [
    "def method(im):\n",
    "  return amc.get_moment_ellipticities(im, scale=scale, fwhm=window_fwhm)"
   ]
  },
  {
   "cell_type": "code",
   "execution_count": 21,
   "id": "7f4ba1ca-70ce-47fc-af14-4af0090f8c01",
   "metadata": {},
   "outputs": [
    {
     "data": {
      "text/plain": [
       "<tf.Tensor: shape=(1, 2), dtype=float32, numpy=array([[0.00158031, 0.00916819]], dtype=float32)>"
      ]
     },
     "execution_count": 21,
     "metadata": {},
     "output_type": "execute_result"
    }
   ],
   "source": [
    "method(tf.convert_to_tensor(gal_image,dtype=tf.float32)[tf.newaxis] )"
   ]
  },
  {
   "cell_type": "code",
   "execution_count": null,
   "id": "11f2e4dd-2d2b-466c-b2f2-f3a778f61686",
   "metadata": {},
   "outputs": [],
   "source": [
    "def generate_exponential(**kwargs):\n",
    "  options = {\n",
    "  'gal_hlr' : 0.5,\n",
    "  'flux' : 1.,\n",
    "  'psf_fwhm' : 0.7,\n",
    "  'method' : 'auto', #pixel integration in GalSim\n",
    "  'scale': 0.263, #DECam\n",
    "  }\n",
    " \n",
    "  obj = galsim.Exponential(half_light_radius=options['gal_hlr']).shear(g1=intrinsic_shape[0],g2=intrinsic_shape[1])\n",
    "  gal_obj = galsim.Exponential(flux=options)\n",
    "  \n",
    "  galaxy =\n",
    "  \n",
    "  return galaxy\n",
    "  \n",
    "  "
   ]
  },
  {
   "cell_type": "code",
   "execution_count": 12,
   "id": "c0c2904a-b4f7-40e0-b9bd-568b972841ed",
   "metadata": {},
   "outputs": [
    {
     "ename": "SyntaxError",
     "evalue": "invalid syntax (<ipython-input-12-1a0fabcc877b>, line 4)",
     "output_type": "error",
     "traceback": [
      "\u001b[0;36m  File \u001b[0;32m\"<ipython-input-12-1a0fabcc877b>\"\u001b[0;36m, line \u001b[0;32m4\u001b[0m\n\u001b[0;31m    'gal_hlr' : 0.5,\u001b[0m\n\u001b[0m            ^\u001b[0m\n\u001b[0;31mSyntaxError\u001b[0m\u001b[0;31m:\u001b[0m invalid syntax\n"
     ]
    }
   ],
   "source": [
    "def pujol(method,gal_generator,psf_generator,**kwargs):\n",
    "  options = {\n",
    "  'batch_size' : 30  \n",
    "  'step': 0.02 #\n",
    "  }\n",
    "  options.update(kwargs)\n",
    "  \n",
    "  #get some galaxy models\n",
    "   galaxy = generator(kwargs)\n",
    "  \n",
    "  #create basic model stamp\n",
    " \n",
    "  \n",
    "  #shear model with step in each component\n",
    "  \n",
    "  #shear g1\n",
    "  gal2 = galaxy.shear(g1=0,g2=step)\n",
    "  #shear g2\n",
    "  gal2 = galaxy.shear(g1=0,g2=step)\n",
    "  \n",
    "  #get ellipticities\n",
    "  = method(galaxies)\n",
    "  #average ellipticities?\n",
    "  \n",
    "  #calibrate ellipticities\n",
    "  \n",
    "  #return residual R\n",
    "  R11 = (g1p[0]-g1m[0])/(2*step)\n",
    "  R21 = (g1p[1]-g1m[1])/(2*step) \n",
    "  R12 = (g2p[0]-g2m[0])/(2*step)\n",
    "  R22 = (g2p[1]-g2m[1])/(2*step)\n",
    "  \n",
    "  R = np.array(\n",
    "    [[R11,R12],\n",
    "     [R21,R22]])\n",
    "  \n",
    "  return R"
   ]
  },
  {
   "cell_type": "code",
   "execution_count": null,
   "id": "dfb8f3a6-fada-45a9-8d12-2007f5163578",
   "metadata": {},
   "outputs": [],
   "source": []
  },
  {
   "cell_type": "code",
   "execution_count": 9,
   "id": "75e74dde-74fc-445e-8d9c-c9ad12639004",
   "metadata": {},
   "outputs": [
    {
     "ename": "SyntaxError",
     "evalue": "invalid syntax (<ipython-input-9-af44731a6432>, line 18)",
     "output_type": "error",
     "traceback": [
      "\u001b[0;36m  File \u001b[0;32m\"<ipython-input-9-af44731a6432>\"\u001b[0;36m, line \u001b[0;32m18\u001b[0m\n\u001b[0;31m    psf_fwhm =\u001b[0m\n\u001b[0m              ^\u001b[0m\n\u001b[0;31mSyntaxError\u001b[0m\u001b[0;31m:\u001b[0m invalid syntax\n"
     ]
    }
   ],
   "source": [
    "galsimrot90 = galsim.Angle(90,galsim.AngleUnit(np.pi/180.))\n",
    "\n",
    "def make_noise(noise_level,batch_size,stamp_size):\n",
    "  '''make a simple gaussian noise stamp'''\n",
    "  noise_imgs = np.random.normal(scale=noise_level,size=[batch_size,stamp_size,stamp_size])\n",
    "  return noise_imgs\n",
    "\n",
    "def observer(batch_size=25, \n",
    "             shear_true = [0.,0.] ,\n",
    "             true_epsf = [0.,0.], \n",
    "             noise_level = 1e-6,\n",
    "             shape_noise = False,\n",
    "             symmetric = True, **kwargs):\n",
    "  '''creates observations for ngmix and amc'''\n",
    "  \n",
    "  #galaxy intrinsic properties\n",
    "  options = {\n",
    "  'gal_hlr' : 0.5,\n",
    "  'flux' : 1.,\n",
    "  'psf_fwhm' : 0.7,\n",
    "  'method' : 'auto'  \n",
    "  }\n",
    "  options.update(kwargs)\n",
    "  #psf properties\n",
    "  psf_obj = galsim.Moffat(beta=4.8, fwhm=options['psf_fwhm']).shear(g1=true_epsf[0],g2=true_epsf[1]) \n",
    "  psf_images_list = []\n",
    "  gal_images_list = []\n",
    "  method ='auto'\n",
    "  for i in range(batch_size):\n",
    "    #intrinsic shape\n",
    "    intrinsic_shape = [0,0] #for the future, add shape noise\n",
    "    \n",
    "    obj = galsim.Exponential(half_light_radius=options['gal_hlr']).shear(g1=intrinsic_shape[0],g2=intrinsic_shape[1])\n",
    "    #shear\n",
    "    obj = obj.shear(g1=shear_true[0] ,g2=shear_true[1] )\n",
    "    #convolve\n",
    "    obj = galsim.Convolve([obj,psf_obj])\n",
    "    #draw\n",
    "    gal_image = obj.drawImage(nx=stamp_size, ny=stamp_size, scale=scale,method=options['method']).array\n",
    "    psf_image = psf_obj.drawImage(nx=stamp_size, ny=stamp_size, scale=scale,method=options['method']).array\n",
    "    \n",
    "    psf_images_list += [psf_image]\n",
    "    gal_images_list += [gal_image]\n",
    "  \n",
    "  psf_images = tf.convert_to_tensor(np.array(psf_images_list),dtype=tf.float32)\n",
    "  gal_images = tf.convert_to_tensor(np.array(gal_images_list),dtype=tf.float32)\n",
    "  \n",
    "  #add noise\n",
    "  noise_images = make_noise(noise_level,batch_size,stamp_size)\n",
    "  gal_images += noise_images\n",
    "  \n",
    "  #add noise to the psf model after convolution to make it an observed model\n",
    "  psf_noise_images = make_noise(psf_noise_level,batch_size,stamp_size)\n",
    "  psf_images += psf_noise_images\n",
    "    \n",
    "  #images to be used for fixnoise are different from the\n",
    "  #actual noise, but with the same level\n",
    "  noise_images_out = make_noise(noise_level,batch_size,stamp_size)\n",
    "  \n",
    "  if symmetric:\n",
    "    \n",
    "    psf_images90_list = []\n",
    "    gal_images90_list = []\n",
    "    for i in range(batch_size):\n",
    "      #intrinsic shape\n",
    "      intrinsic_shape = [0,0] #for the future, add shape noise\n",
    "      \n",
    "      obj90 = galsim.Exponential(half_light_radius=options['gal_hlr']).shear(g1=intrinsic_shape[0],g2=intrinsic_shape[1]).rotate(galsimrot90)\n",
    "      #shear\n",
    "      obj90 = obj90.shear(g1=shear_true[0] ,g2=shear_true[1])\n",
    "      #convolve\n",
    "      obj90 = galsim.Convolve([obj90,psf_obj])\n",
    "      #draw\n",
    "      gal_image90 = obj90.drawImage(nx=stamp_size, ny=stamp_size, scale=scale,method=options['method']).array\n",
    "      psf_image90 = psf_obj.drawImage(nx=stamp_size, ny=stamp_size, scale=scale,method=options['method']).array\n",
    "\n",
    "      psf_images90_list += [psf_image90]\n",
    "      gal_images90_list += [gal_image90]\n",
    "\n",
    "    psf_images90 = tf.convert_to_tensor(np.array(psf_images90_list),dtype=tf.float32)\n",
    "    gal_images90 = tf.convert_to_tensor(np.array(gal_images90_list),dtype=tf.float32)\n",
    "   \n",
    "    #add noise\n",
    "    noise_images90 = make_noise(noise_level,batch_size,stamp_size)\n",
    "    gal_images90 += noise_images90\n",
    "    \n",
    "    #add noise to the psf model\n",
    "    psf_noise_images90 = make_noise(psf_noise_level,batch_size,stamp_size)\n",
    "    psf_images90 += psf_noise_images90\n",
    "    \n",
    "    #images to be used for fixnoise are different from the\n",
    "    #actual noise, but with the same level\n",
    "    noise_images_out90 = make_noise(noise_level,batch_size,stamp_size)\n",
    "    \n",
    "    #concatenate symmetrised obs\n",
    "    gal_images= np.concatenate([gal_images,gal_images90])\n",
    "    psf_images = np.concatenate([psf_images,psf_images90])\n",
    "    noise_images_out = np.concatenate([noise_images_out,noise_images_out90])\n",
    "  \n",
    "  #generate observations for ngmix\n",
    "  obslist = []\n",
    "  import ngmix\n",
    "  for im, psf_im in zip(gal_images,psf_images):\n",
    "    cen = (np.array(im.shape))//2\n",
    "    psf_cen = (np.array(psf_im.shape))//2\n",
    "\n",
    "    jacobian = ngmix.DiagonalJacobian(\n",
    "        row=cen[0], col=cen[1], scale=scale,\n",
    "    )\n",
    "    psf_jacobian = ngmix.DiagonalJacobian(\n",
    "        row=psf_cen[0], col=psf_cen[1], scale=scale,\n",
    "    )\n",
    "    wt = im*0 + 1.0/noise_level**2\n",
    "    psf_wt = psf_im*0 + 1.0/psf_noise_level**2\n",
    "\n",
    "    psf_obs = ngmix.Observation(\n",
    "        psf_im,\n",
    "        weight=psf_wt,\n",
    "        jacobian=psf_jacobian,\n",
    "    )\n",
    "\n",
    "    obs = ngmix.Observation(\n",
    "        im,\n",
    "        weight=wt,\n",
    "        jacobian=jacobian,\n",
    "        psf=psf_obs,\n",
    "    )\n",
    "    obslist += [obs]\n",
    "  \n",
    "  return gal_images, psf_images ,noise_images_out, obslist"
   ]
  }
 ],
 "metadata": {
  "kernelspec": {
   "display_name": "Python 3",
   "language": "python",
   "name": "python3"
  },
  "language_info": {
   "codemirror_mode": {
    "name": "ipython",
    "version": 3
   },
   "file_extension": ".py",
   "mimetype": "text/x-python",
   "name": "python",
   "nbconvert_exporter": "python",
   "pygments_lexer": "ipython3",
   "version": "3.7.13"
  }
 },
 "nbformat": 4,
 "nbformat_minor": 5
}
