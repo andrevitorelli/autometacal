{
 "cells": [
  {
   "cell_type": "markdown",
   "id": "048f4d54-2095-4348-a42c-b30f7a69547e",
   "metadata": {},
   "source": [
    "# Make a simple pujol test example"
   ]
  },
  {
   "cell_type": "code",
   "execution_count": 1,
   "id": "06dc72f0-9994-493f-ba3b-76521de8ada7",
   "metadata": {},
   "outputs": [
    {
     "name": "stdout",
     "output_type": "stream",
     "text": [
      "Populating the interactive namespace from numpy and matplotlib\n"
     ]
    }
   ],
   "source": [
    "%pylab inline"
   ]
  },
  {
   "cell_type": "code",
   "execution_count": 2,
   "id": "63a3e8a8-2ab6-48f9-93ad-ea1d9c23005b",
   "metadata": {},
   "outputs": [],
   "source": [
    "import numpy as np"
   ]
  },
  {
   "cell_type": "code",
   "execution_count": 3,
   "id": "9d5bdddb-44a0-449c-a043-ab4625ad27a1",
   "metadata": {},
   "outputs": [],
   "source": [
    "import galsim\n",
    "import autometacal as amc\n",
    "import tensorflow as tf"
   ]
  },
  {
   "cell_type": "code",
   "execution_count": 4,
   "id": "fe92a6f3-fc91-4a54-8903-4d19814c10e2",
   "metadata": {},
   "outputs": [],
   "source": [
    "stamp_size = 51\n",
    "batch_size = 1\n",
    "shear_true = [0.,0.]\n",
    "true_epsf = [0.,0.]\n",
    "noise_level = 1e-3\n",
    "gal_hlr = 0.5\n",
    "flux = 1.\n",
    "scale = 0.263\n",
    "psf_fwhm = 0.7\n",
    "method = 'auto'\n",
    "window_fwhm = 1.7"
   ]
  },
  {
   "cell_type": "code",
   "execution_count": 5,
   "id": "2522159a-2b41-4080-b3a2-d2240b2148fb",
   "metadata": {},
   "outputs": [],
   "source": [
    "psf_obj = galsim.Moffat(beta=4.8, fwhm=psf_fwhm).shear(g1=true_epsf[0],g2=true_epsf[1])"
   ]
  },
  {
   "cell_type": "code",
   "execution_count": 6,
   "id": "4ba8b985-3674-496f-b132-0c5d35b1b406",
   "metadata": {},
   "outputs": [],
   "source": [
    "noise_imgs = np.random.normal(scale=noise_level,size=[batch_size,stamp_size,stamp_size])"
   ]
  },
  {
   "cell_type": "code",
   "execution_count": 7,
   "id": "e4caa74c-3c6f-49ce-9c3e-482258ab1187",
   "metadata": {},
   "outputs": [],
   "source": [
    "intrinsic_shape = [0,0]\n",
    "obj = galsim.Exponential(half_light_radius=gal_hlr).shear(g1=intrinsic_shape[0],g2=intrinsic_shape[1])\n",
    "\n",
    "obj = obj.shear(g1=shear_true[0] ,g2=shear_true[1] )\n",
    "#convolve\n",
    "obj = galsim.Convolve([obj,psf_obj])\n",
    "#draw\n",
    "gal_image = obj.drawImage(nx=stamp_size, ny=stamp_size, scale=scale,method=method).array\n",
    "psf_image = psf_obj.drawImage(nx=stamp_size, ny=stamp_size, scale=scale,method=method).array\n",
    "\n"
   ]
  },
  {
   "cell_type": "code",
   "execution_count": 8,
   "id": "142111b0-6210-4325-a9d3-9a1a1b1b654a",
   "metadata": {},
   "outputs": [
    {
     "data": {
      "text/plain": [
       "<matplotlib.image.AxesImage at 0x7f18c8f65910>"
      ]
     },
     "execution_count": 8,
     "metadata": {},
     "output_type": "execute_result"
    },
    {
     "data": {
      "image/png": "[encoded data removed]",
      "text/plain": [
       "<Figure size 640x480 with 1 Axes>"
      ]
     },
     "metadata": {},
     "output_type": "display_data"
    }
   ],
   "source": [
    "gal_image += noise_imgs[0]\n",
    "imshow(gal_image)"
   ]
  },
  {
   "cell_type": "code",
   "execution_count": 56,
   "id": "539d19fd-b3f2-4594-b359-51f77953ed19",
   "metadata": {},
   "outputs": [],
   "source": [
    "def method(im):\n",
    "  im = tf.convert_to_tensor(im.reshape([-1,len(im),len(im)]),dtype=tf.float32)\n",
    "  return amc.get_moment_ellipticities(im, scale=scale, fwhm=window_fwhm)"
   ]
  },
  {
   "cell_type": "code",
   "execution_count": 68,
   "id": "7f4ba1ca-70ce-47fc-af14-4af0090f8c01",
   "metadata": {},
   "outputs": [
    {
     "data": {
      "text/plain": [
       "<tf.Tensor: shape=(2,), dtype=float32, numpy=array([0., 0.], dtype=float32)>"
      ]
     },
     "execution_count": 68,
     "metadata": {},
     "output_type": "execute_result"
    }
   ],
   "source": [
    "method(gal_image)[0] - method(gal_image)[0]"
   ]
  },
  {
   "cell_type": "code",
   "execution_count": 20,
   "id": "11f2e4dd-2d2b-466c-b2f2-f3a778f61686",
   "metadata": {},
   "outputs": [],
   "source": [
    "def generate_exponential(shape=[0.,0.],**kwargs):\n",
    "  options = {\n",
    "  'gal_hlr' : 0.5,\n",
    "  'flux' : 1.,\n",
    "  'method' : 'auto', #pixel integration in GalSim\n",
    "  'scale': 0.263, #DECam\n",
    "  }\n",
    "  options.update(kwargs)\n",
    "  galaxy = galsim.Exponential(half_light_radius=options['gal_hlr']).shear(g1=shape[0],g2=shape[1])\n",
    "  \n",
    "  return galaxy\n",
    "\n",
    "def generate_kolmogorov(**kwargs):\n",
    "  options = {\n",
    "    'psf_fwhm' : 0.7    \n",
    "  }\n",
    "  options.update(kwargs)\n",
    "  \n",
    "  psf = galsim.Kolmogorov(options['psf_fwhm'])\n",
    "  \n",
    "  return psf"
   ]
  },
  {
   "cell_type": "code",
   "execution_count": 21,
   "id": "41e681fb-efda-415b-b820-059fde30f8f1",
   "metadata": {},
   "outputs": [
    {
     "data": {
      "text/plain": [
       "galsim.Kolmogorov(lam_over_r0=0.7, flux=1.0, gsparams=galsim.GSParams(128,8192,0.005,5.0,0.001,1e-05,1e-05,1,0.0001,1e-06,1e-06,1e-08,1e-05))"
      ]
     },
     "execution_count": 21,
     "metadata": {},
     "output_type": "execute_result"
    }
   ],
   "source": [
    "generate_kolmogorov(psf_fwhm=.7)"
   ]
  },
  {
   "cell_type": "code",
   "execution_count": 22,
   "id": "7ae45c41-4b47-484b-bd80-49600e0888cb",
   "metadata": {},
   "outputs": [
    {
     "data": {
      "text/plain": [
       "galsim.Transformation(galsim.Exponential(scale_radius=0.2979121736888488, flux=1.0, gsparams=galsim.GSParams(128,8192,0.005,5.0,0.001,1e-05,1e-05,1,0.0001,1e-06,1e-06,1e-08,1e-05)), jac=[[1.0, 0.0], [0.0, 1.0]], offset=galsim.PositionD(x=0.0, y=0.0), flux_ratio=1.0, gsparams=galsim.GSParams(128,8192,0.005,5.0,0.001,1e-05,1e-05,1,0.0001,1e-06,1e-06,1e-08,1e-05), propagate_gsparams=True)"
      ]
     },
     "execution_count": 22,
     "metadata": {},
     "output_type": "execute_result"
    }
   ],
   "source": [
    "generate_exponential()"
   ]
  },
  {
   "cell_type": "code",
   "execution_count": null,
   "id": "e944222e-312f-4c18-8d52-5882973f4e6f",
   "metadata": {},
   "outputs": [],
   "source": []
  },
  {
   "cell_type": "code",
   "execution_count": 81,
   "id": "c0c2904a-b4f7-40e0-b9bd-568b972841ed",
   "metadata": {},
   "outputs": [],
   "source": [
    "def pujol(ellip_method,gal_generator,psf_generator,gal_noise_img,psf_noise_img,**kwargs):\n",
    "  options = {  \n",
    "  'step': 0.02,\n",
    "  'psf_fwhm' : 0.7,\n",
    "  'method' : 'auto',\n",
    "  'stamp_size' : 51,\n",
    "  'scale' : 0.263\n",
    "   \n",
    "  }\n",
    "  options.update(kwargs)\n",
    "  \n",
    "  #make a real psf\n",
    "  psf = psf_generator(psf_fwhm=options['psf_fwhm'])\n",
    "  \n",
    "  #get some galaxy model\n",
    "  gal0 = gal_generator()\n",
    "  \n",
    "  #shear model with step in each component\n",
    "  #shear g1\n",
    "  gal1 = gal0.shear(g1=options['step'],g2=0)\n",
    "  #shear g2\n",
    "  gal2 = gal0.shear(g1=0,g2=options['step'])\n",
    "  \n",
    "  \n",
    "  gal0 = galsim.Convolve([gal0,psf])\n",
    "  gal1 = galsim.Convolve([gal1,psf])\n",
    "  gal2 = galsim.Convolve([gal2,psf])\n",
    "  \n",
    "  #get array from images\n",
    "  gal0im = gal0.drawImage(nx=options['stamp_size'],ny=options['stamp_size'],scale=options['scale'],method=options['method']).array + gal_noise_img\n",
    "  gal1im = gal1.drawImage(nx=options['stamp_size'],ny=options['stamp_size'],scale=options['scale'],method=options['method']).array + gal_noise_img \n",
    "  gal2im = gal2.drawImage(nx=options['stamp_size'],ny=options['stamp_size'],scale=options['scale'],method=options['method']).array + gal_noise_img\n",
    "  \n",
    "  #make an estimation of the psf\n",
    "  psf_obs = psf.drawImage(nx=options['stamp_size'],ny=options['stamp_size'],scale=options['scale'],method=options['method']).array + psf_noise_img\n",
    "\n",
    "  #get estimated ellipticities\n",
    "  print(gal0im.shape)\n",
    "  g0p = ellip_method(gal0im).numpy()[0]\n",
    "  g1p = ellip_method(gal1im).numpy()[0]\n",
    "  g2p = ellip_method(gal2im).numpy()[0]\n",
    "  \n",
    "\n",
    "  #return residual R\n",
    "  R11 = (g1p[0]-g0p[0])/(options['step'])\n",
    "  R21 = (g1p[1]-g0p[1])/(options['step']) \n",
    "  R12 = (g2p[0]-g0p[0])/(options['step'])\n",
    "  R22 = (g2p[1]-g0p[1])/(options['step'])\n",
    "  \n",
    "  Residual = np.array(\n",
    "    [[R11,R12],\n",
    "     [R21,R22]])\n",
    "  \n",
    "  return Residual"
   ]
  },
  {
   "cell_type": "code",
   "execution_count": 83,
   "id": "ceeade13-3458-481a-aaae-d01bbbc55f36",
   "metadata": {},
   "outputs": [],
   "source": [
    "gal_pix_noise = np.random.normal(0,noise_level,size=[stamp_size,stamp_size])\n",
    "psf_pix_noise = np.random.normal(0,noise_level/10,size=[stamp_size,stamp_size])"
   ]
  },
  {
   "cell_type": "code",
   "execution_count": 86,
   "id": "dfb8f3a6-fada-45a9-8d12-2007f5163578",
   "metadata": {},
   "outputs": [
    {
     "name": "stdout",
     "output_type": "stream",
     "text": [
      "(51, 51)\n"
     ]
    },
    {
     "data": {
      "text/plain": [
       "array([[ 7.03647127e-01, -3.30619514e-05],\n",
       "       [ 1.42026693e-05,  7.03713903e-01]])"
      ]
     },
     "execution_count": 86,
     "metadata": {},
     "output_type": "execute_result"
    }
   ],
   "source": [
    "pujol(method,generate_exponential,generate_kolmogorov,gal_pix_noise,psf_pix_noise)"
   ]
  },
  {
   "cell_type": "code",
   "execution_count": null,
   "id": "75e74dde-74fc-445e-8d9c-c9ad12639004",
   "metadata": {},
   "outputs": [],
   "source": [
    "galsimrot90 = galsim.Angle(90,galsim.AngleUnit(np.pi/180.))\n",
    "\n",
    "def make_noise(noise_level,batch_size,stamp_size):\n",
    "  '''make a simple gaussian noise stamp'''\n",
    "  noise_imgs = np.random.normal(scale=noise_level,size=[batch_size,stamp_size,stamp_size])\n",
    "  return noise_imgs\n",
    "\n",
    "def observer(batch_size=25, \n",
    "             shear_true = [0.,0.] ,\n",
    "             true_epsf = [0.,0.], \n",
    "             noise_level = 1e-6,\n",
    "             shape_noise = False,\n",
    "             symmetric = True, **kwargs):\n",
    "  '''creates observations for ngmix and amc'''\n",
    "  \n",
    "  #galaxy intrinsic properties\n",
    "  options = {\n",
    "  'gal_hlr' : 0.5,\n",
    "  'flux' : 1.,\n",
    "  'psf_fwhm' : 0.7,\n",
    "  'method' : 'auto'  \n",
    "  }\n",
    "  options.update(kwargs)\n",
    "  #psf properties\n",
    "  psf_obj = galsim.Moffat(beta=4.8, fwhm=options['psf_fwhm']).shear(g1=true_epsf[0],g2=true_epsf[1]) \n",
    "  psf_images_list = []\n",
    "  gal_images_list = []\n",
    "  method ='auto'\n",
    "  for i in range(batch_size):\n",
    "    #intrinsic shape\n",
    "    intrinsic_shape = [0,0] #for the future, add shape noise\n",
    "    \n",
    "    obj = galsim.Exponential(half_light_radius=options['gal_hlr']).shear(g1=intrinsic_shape[0],g2=intrinsic_shape[1])\n",
    "    #shear\n",
    "    obj = obj.shear(g1=shear_true[0] ,g2=shear_true[1] )\n",
    "    #convolve\n",
    "    obj = galsim.Convolve([obj,psf_obj])\n",
    "    #draw\n",
    "    gal_image = obj.drawImage(nx=stamp_size, ny=stamp_size, scale=scale,method=options['method']).array\n",
    "    psf_image = psf_obj.drawImage(nx=stamp_size, ny=stamp_size, scale=scale,method=options['method']).array\n",
    "    \n",
    "    psf_images_list += [psf_image]\n",
    "    gal_images_list += [gal_image]\n",
    "  \n",
    "  psf_images = tf.convert_to_tensor(np.array(psf_images_list),dtype=tf.float32)\n",
    "  gal_images = tf.convert_to_tensor(np.array(gal_images_list),dtype=tf.float32)\n",
    "  \n",
    "  #add noise\n",
    "  noise_images = make_noise(noise_level,batch_size,stamp_size)\n",
    "  gal_images += noise_images\n",
    "  \n",
    "  #add noise to the psf model after convolution to make it an observed model\n",
    "  psf_noise_images = make_noise(psf_noise_level,batch_size,stamp_size)\n",
    "  psf_images += psf_noise_images\n",
    "    \n",
    "  #images to be used for fixnoise are different from the\n",
    "  #actual noise, but with the same level\n",
    "  noise_images_out = make_noise(noise_level,batch_size,stamp_size)\n",
    "  \n",
    "  if symmetric:\n",
    "    \n",
    "    psf_images90_list = []\n",
    "    gal_images90_list = []\n",
    "    for i in range(batch_size):\n",
    "      #intrinsic shape\n",
    "      intrinsic_shape = [0,0] #for the future, add shape noise\n",
    "      \n",
    "      obj90 = galsim.Exponential(half_light_radius=options['gal_hlr']).shear(g1=intrinsic_shape[0],g2=intrinsic_shape[1]).rotate(galsimrot90)\n",
    "      #shear\n",
    "      obj90 = obj90.shear(g1=shear_true[0] ,g2=shear_true[1])\n",
    "      #convolve\n",
    "      obj90 = galsim.Convolve([obj90,psf_obj])\n",
    "      #draw\n",
    "      gal_image90 = obj90.drawImage(nx=stamp_size, ny=stamp_size, scale=scale,method=options['method']).array\n",
    "      psf_image90 = psf_obj.drawImage(nx=stamp_size, ny=stamp_size, scale=scale,method=options['method']).array\n",
    "\n",
    "      psf_images90_list += [psf_image90]\n",
    "      gal_images90_list += [gal_image90]\n",
    "\n",
    "    psf_images90 = tf.convert_to_tensor(np.array(psf_images90_list),dtype=tf.float32)\n",
    "    gal_images90 = tf.convert_to_tensor(np.array(gal_images90_list),dtype=tf.float32)\n",
    "   \n",
    "    #add noise\n",
    "    noise_images90 = make_noise(noise_level,batch_size,stamp_size)\n",
    "    gal_images90 += noise_images90\n",
    "    \n",
    "    #add noise to the psf model\n",
    "    psf_noise_images90 = make_noise(psf_noise_level,batch_size,stamp_size)\n",
    "    psf_images90 += psf_noise_images90\n",
    "    \n",
    "    #images to be used for fixnoise are different from the\n",
    "    #actual noise, but with the same level\n",
    "    noise_images_out90 = make_noise(noise_level,batch_size,stamp_size)\n",
    "    \n",
    "    #concatenate symmetrised obs\n",
    "    gal_images= np.concatenate([gal_images,gal_images90])\n",
    "    psf_images = np.concatenate([psf_images,psf_images90])\n",
    "    noise_images_out = np.concatenate([noise_images_out,noise_images_out90])\n",
    "  \n",
    "  #generate observations for ngmix\n",
    "  obslist = []\n",
    "  import ngmix\n",
    "  for im, psf_im in zip(gal_images,psf_images):\n",
    "    cen = (np.array(im.shape))//2\n",
    "    psf_cen = (np.array(psf_im.shape))//2\n",
    "\n",
    "    jacobian = ngmix.DiagonalJacobian(\n",
    "        row=cen[0], col=cen[1], scale=scale,\n",
    "    )\n",
    "    psf_jacobian = ngmix.DiagonalJacobian(\n",
    "        row=psf_cen[0], col=psf_cen[1], scale=scale,\n",
    "    )\n",
    "    wt = im*0 + 1.0/noise_level**2\n",
    "    psf_wt = psf_im*0 + 1.0/psf_noise_level**2\n",
    "\n",
    "    psf_obs = ngmix.Observation(\n",
    "        psf_im,\n",
    "        weight=psf_wt,\n",
    "        jacobian=psf_jacobian,\n",
    "    )\n",
    "\n",
    "    obs = ngmix.Observation(\n",
    "        im,\n",
    "        weight=wt,\n",
    "        jacobian=jacobian,\n",
    "        psf=psf_obs,\n",
    "    )\n",
    "    obslist += [obs]\n",
    "  \n",
    "  return gal_images, psf_images ,noise_images_out, obslist"
   ]
  }
 ],
 "metadata": {
  "kernelspec": {
   "display_name": "Python 3",
   "language": "python",
   "name": "python3"
  },
  "language_info": {
   "codemirror_mode": {
    "name": "ipython",
    "version": 3
   },
   "file_extension": ".py",
   "mimetype": "text/x-python",
   "name": "python",
   "nbconvert_exporter": "python",
   "pygments_lexer": "ipython3",
   "version": "3.7.13"
  }
 },
 "nbformat": 4,
 "nbformat_minor": 5
}
