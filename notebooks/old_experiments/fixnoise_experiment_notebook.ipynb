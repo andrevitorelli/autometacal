{
 "cells": [
  {
   "cell_type": "markdown",
   "id": "641295d1-11d6-4530-bfcb-6cfce654a256",
   "metadata": {},
   "source": [
    "# Fixnoise Experiment Notebook"
   ]
  },
  {
   "cell_type": "markdown",
   "id": "6108fb88-795c-451c-bbe9-bae50cc74fa8",
   "metadata": {},
   "source": [
    "The goal is to get (at least some of) the following experiments running:\n",
    "\n",
    "\n",
    "5. How can we add less noise in the metacal procedure?"
   ]
  },
  {
   "cell_type": "code",
   "execution_count": 1,
   "id": "62f484bc-7342-4ced-9fc1-d909da447991",
   "metadata": {},
   "outputs": [
    {
     "name": "stdout",
     "output_type": "stream",
     "text": [
      "Populating the interactive namespace from numpy and matplotlib\n"
     ]
    }
   ],
   "source": [
    "%pylab inline"
   ]
  },
  {
   "cell_type": "code",
   "execution_count": 2,
   "id": "b1a8187a-5c2a-4ff8-8aec-854df3876842",
   "metadata": {},
   "outputs": [
    {
     "name": "stderr",
     "output_type": "stream",
     "text": [
      "<frozen importlib._bootstrap>:219: RuntimeWarning: scipy._lib.messagestream.MessageStream size changed, may indicate binary incompatibility. Expected 56 from C header, got 64 from PyObject\n"
     ]
    }
   ],
   "source": [
    "import os\n",
    "#os.environ[\"CUDA_VISIBLE_DEVICES\"] = \"1\"\n",
    "import tqdm\n",
    "\n",
    "import autometacal as amc\n",
    "import tensorflow_datasets as tfds\n",
    "import tensorflow as tf\n",
    "import tensorflow_probability as tfp\n",
    "import galflow as gf\n",
    "import galsim as gs\n",
    "import ngmix"
   ]
  },
  {
   "cell_type": "markdown",
   "id": "32f9346b-c409-4641-ad87-0495bac23c04",
   "metadata": {},
   "source": [
    "### Test setup"
   ]
  },
  {
   "cell_type": "code",
   "execution_count": 3,
   "id": "a523a9cc-b39d-4c2d-8c0c-6970418ea227",
   "metadata": {},
   "outputs": [],
   "source": [
    "#global values\n",
    "fixnoise = True\n",
    "batch_size=10\n",
    "scale= .2\n",
    "stamp_size = 51\n",
    "rng = np.random.RandomState(31415)\n",
    "real_shear = [0.01,0.0]\n",
    "noise_level = 5e-3"
   ]
  },
  {
   "cell_type": "markdown",
   "id": "8d6f99bc-f55a-464a-b2ed-ce1708027d9a",
   "metadata": {},
   "source": [
    "### Data"
   ]
  },
  {
   "cell_type": "code",
   "execution_count": 4,
   "id": "1370720d-c5d2-444e-878e-08682a376d06",
   "metadata": {},
   "outputs": [],
   "source": [
    "#dataset\n",
    "data= tfds.load('GalGen/small_stamp_100k')\n",
    "data = data['train'].cache()\n",
    "data = data.batch(batch_size)\n",
    "data = data.prefetch(tf.data.experimental.AUTOTUNE)\n",
    "batchit = data.as_numpy_iterator()\n",
    "onebatch = batchit.next()"
   ]
  },
  {
   "cell_type": "code",
   "execution_count": 5,
   "id": "01950209-60c6-4747-bfda-fb1e48aaf6fe",
   "metadata": {},
   "outputs": [],
   "source": [
    "#set up jacobian\n",
    "jacobian = ngmix.DiagonalJacobian(\n",
    "  row=stamp_size//2, \n",
    "  col=stamp_size//2,\n",
    "  scale=scale,\n",
    ")\n",
    "psf_jacobian = ngmix.DiagonalJacobian(\n",
    "  row=stamp_size//2, \n",
    "  col=stamp_size//2,\n",
    "  scale=scale,\n",
    ")\n",
    "\n",
    "# We will measure moments with a fixed gaussian weight function\n",
    "weight_fwhm = 1.2\n",
    "fitter = ngmix.gaussmom.GaussMom(fwhm=weight_fwhm)\n",
    "psf_fitter = ngmix.gaussmom.GaussMom(fwhm=weight_fwhm)\n",
    "\n",
    "# these \"runners\" run the measurement code on observations\n",
    "psf_runner = ngmix.runners.PSFRunner(fitter=psf_fitter)\n",
    "runner = ngmix.runners.Runner(fitter=fitter)\n",
    "\n",
    "# this \"bootstrapper\" runs the metacal image shearing as well as both \n",
    "# psf and object measurements\n",
    "\n",
    "types = ['noshear', '1p', '1m','2p','2m']"
   ]
  },
  {
   "cell_type": "code",
   "execution_count": 6,
   "id": "5b26a3d9-1ad0-44ab-98aa-9de47bf23fdb",
   "metadata": {},
   "outputs": [],
   "source": [
    "psf_fwhm=0.7"
   ]
  },
  {
   "cell_type": "code",
   "execution_count": 7,
   "id": "e58a9e49-5fc3-4a7d-8be2-6e7006b8036c",
   "metadata": {},
   "outputs": [],
   "source": [
    "#create 1 batch of observed images\n",
    "gal_images=amc.noiseless_real_mcal_image(onebatch['gal_model'],\n",
    "                                         onebatch['psf_image'],              \n",
    "                                         tf.repeat([real_shear],len(onebatch['gal_model']),axis=0)\n",
    "                                                      )\n",
    "\n",
    "noise = np.random.normal(scale=1e-3,size=[batch_size,51,51])\n",
    "gal_images += noise\n",
    "psf_images = onebatch['psf_image']\n",
    "im = gal_images[0]\n",
    "psf_im = psf_images[0]"
   ]
  },
  {
   "cell_type": "code",
   "execution_count": 8,
   "id": "01a3403d-26ea-45bd-93d3-939e0b8dc3c1",
   "metadata": {},
   "outputs": [],
   "source": [
    "step = .5\n",
    "g = [[step,0.]]\n",
    "reconv_psf = gf.dilate(psf_images[0][tf.newaxis,...,tf.newaxis],1+2*abs(step))[...,0]\n",
    "mcalimg = amc.generate_mcal_image(gal_images[0][tf.newaxis], \n",
    "                                  psf_images[0][tf.newaxis],\n",
    "                                  reconv_psf,\n",
    "                                  g,\n",
    "                                  padfactor=3)\n",
    "\n",
    "def generate_fixnoise(noise,psf_image,reconvolution_psf_image,g):\n",
    "  \n",
    "  shearednoise = amc.generate_mcal_image(noise,\n",
    "                                   psf_image,\n",
    "                                   reconvolution_psf_image,g )\n",
    "  rotshearednoise = tf.image.rot90(shearednoise[...,tf.newaxis],k=-1)[...,0]\n",
    "  return rotshearednoise\n",
    "\n",
    "input_data = gal_images[0]\n",
    "fixnoise_level = 1.4*tfp.stats.percentile(tf.math.abs(input_data - tfp.stats.percentile(input_data,50)),50)\n",
    "noise = tf.random.normal([1,51,51],0,fixnoise_level)\n",
    "fixnoise_img = generate_fixnoise(noise,psf_images[0][tf.newaxis],reconv_psf,g)"
   ]
  },
  {
   "cell_type": "code",
   "execution_count": 9,
   "id": "861a8f3d-5c89-4a3c-8a4c-f1e1c72052b2",
   "metadata": {},
   "outputs": [
    {
     "data": {
      "text/plain": [
       "<matplotlib.image.AxesImage at 0x7f3d60376520>"
      ]
     },
     "execution_count": 9,
     "metadata": {},
     "output_type": "execute_result"
    },
    {
     "data": {
      "image/png": "[encoded data removed]",
      "text/plain": [
       "<Figure size 432x288 with 1 Axes>"
      ]
     },
     "metadata": {
      "needs_background": "light"
     },
     "output_type": "display_data"
    }
   ],
   "source": [
    "imshow(noise[0])"
   ]
  },
  {
   "cell_type": "code",
   "execution_count": 10,
   "id": "143a985e-927d-4a69-98ea-9a53b6e1c905",
   "metadata": {},
   "outputs": [
    {
     "data": {
      "text/plain": [
       "<matplotlib.image.AxesImage at 0x7f3d204f0520>"
      ]
     },
     "execution_count": 10,
     "metadata": {},
     "output_type": "execute_result"
    },
    {
     "data": {
      "image/png": "[encoded data removed]",
      "text/plain": [
       "<Figure size 432x288 with 1 Axes>"
      ]
     },
     "metadata": {
      "needs_background": "light"
     },
     "output_type": "display_data"
    }
   ],
   "source": [
    "imshow(fixnoise_img[0])"
   ]
  },
  {
   "cell_type": "code",
   "execution_count": 11,
   "id": "5f59cf22-238b-46e3-8478-2d3d9f0a3308",
   "metadata": {
    "tags": []
   },
   "outputs": [],
   "source": [
    "boot = ngmix.metacal.MetacalBootstrapper(\n",
    "  runner=runner, psf_runner=psf_runner,\n",
    "  rng=rng,\n",
    "  psf='gauss',\n",
    "  types=types,\n",
    "  fixnoise=fixnoise,\n",
    "  step=step\n",
    ")\n",
    "\n",
    "wt = tf.reduce_mean(1.0/(noise)**2,axis=0)\n",
    "psf_wt = tf.reduce_mean(1.0/(noise/100)**2,axis=0)\n",
    "\n",
    "psf_obs = ngmix.Observation(\n",
    "  psf_im,\n",
    "  weight=psf_wt,\n",
    "  jacobian=psf_jacobian,\n",
    ")\n",
    "obs = ngmix.Observation(\n",
    "  im,\n",
    "  jacobian=jacobian,\n",
    "  weight=wt,\n",
    "  psf=psf_obs,\n",
    ")\n",
    "\n",
    "resdict, obsdict = boot.go(obs)"
   ]
  },
  {
   "cell_type": "code",
   "execution_count": 12,
   "id": "59c56b5c-12bf-4889-9f12-4b66b4940425",
   "metadata": {},
   "outputs": [],
   "source": [
    "fixnoised = mcalimg[0] + fixnoise_img[0]"
   ]
  },
  {
   "cell_type": "code",
   "execution_count": 13,
   "id": "fb7664c9-2c37-4e2f-823e-2024cc2b8153",
   "metadata": {},
   "outputs": [
    {
     "data": {
      "image/png": "[encoded data removed]",
      "text/plain": [
       "<Figure size 2520x720 with 6 Axes>"
      ]
     },
     "metadata": {
      "needs_background": "light"
     },
     "output_type": "display_data"
    }
   ],
   "source": [
    "figure(figsize=(35,10))\n",
    "subplot(131)\n",
    "imshow(fixnoised,origin='lower');colorbar()\n",
    "subplot(132)\n",
    "imshow(obsdict['1p'].image,origin='lower');colorbar()\n",
    "subplot(133)\n",
    "imshow(log10(abs(obsdict['1p'].image - fixnoised)/abs(obsdict['1p'].image)),origin='lower');colorbar()\n",
    "subplots_adjust(wspace=0,hspace=0)"
   ]
  },
  {
   "cell_type": "code",
   "execution_count": 14,
   "id": "b199b397-aa52-4528-b4d6-2c506084ccc7",
   "metadata": {},
   "outputs": [
    {
     "ename": "NameError",
     "evalue": "name 'banana' is not defined",
     "output_type": "error",
     "traceback": [
      "\u001b[0;31m---------------------------------------------------------------------------\u001b[0m",
      "\u001b[0;31mNameError\u001b[0m                                 Traceback (most recent call last)",
      "\u001b[0;32m<ipython-input-14-749e03177f1e>\u001b[0m in \u001b[0;36m<module>\u001b[0;34m\u001b[0m\n\u001b[0;32m----> 1\u001b[0;31m \u001b[0mbanana\u001b[0m\u001b[0;34m(\u001b[0m\u001b[0;34m)\u001b[0m\u001b[0;34m;\u001b[0m\u001b[0;34m\u001b[0m\u001b[0;34m\u001b[0m\u001b[0m\n\u001b[0m",
      "\u001b[0;31mNameError\u001b[0m: name 'banana' is not defined"
     ]
    }
   ],
   "source": [
    "banana();"
   ]
  },
  {
   "cell_type": "markdown",
   "id": "b0199d6f-8733-4144-8a1e-318424d6b9cb",
   "metadata": {},
   "source": [
    "Display a range of galaxy models:"
   ]
  },
  {
   "cell_type": "code",
   "execution_count": null,
   "id": "986a3812-8f50-4cad-a884-ff3184cee2c7",
   "metadata": {},
   "outputs": [],
   "source": [
    "batchit = data.as_numpy_iterator()\n",
    "onebatch = batchit.next()\n",
    "gal_images = onebatch['gal_model'] \n",
    "labels = onebatch['label'] \n",
    "style.use('default')\n",
    "figure(figsize=(10,10))\n",
    "for i in range(16):\n",
    "  subplot(4,4,i+1)\n",
    "  imshow(gal_images[i],origin='lower')\n",
    "  title(f\"e1= {labels[i][0]:.4f},e2={labels[i][1]:.4f}\",fontsize=10)\n",
    "  axis('off')"
   ]
  },
  {
   "cell_type": "markdown",
   "id": "b57effa1-336c-421a-bf18-9cff801573f9",
   "metadata": {},
   "source": [
    "We transform these models by:\n",
    "1. Adding a constant shear\n",
    "3. Convolving with a PSF\n",
    "2. Adding some noise\n",
    "\n",
    "Both 1 and 2 are taken care by the noiseless_real_mcal_image function developed for the LearnR project."
   ]
  },
  {
   "cell_type": "code",
   "execution_count": null,
   "id": "446abd93-b82b-4372-91c5-4ecea9f23cc7",
   "metadata": {},
   "outputs": [],
   "source": [
    "#create 1 batch of observed images\n",
    "gal_images=amc.noiseless_real_mcal_image(onebatch['gal_model'],onebatch['psf_image'],\n",
    "                          tf.repeat([real_shear],len(onebatch['gal_model']),axis=0))\n",
    "\n",
    "noise = np.random.normal(scale=noise_level,size=[batch_size,51,51])\n",
    "gal_images += noise\n",
    "psf_images = onebatch['psf_image']"
   ]
  },
  {
   "cell_type": "code",
   "execution_count": null,
   "id": "5064cf06-08bd-4da3-afa4-be1dcabd23f0",
   "metadata": {},
   "outputs": [],
   "source": [
    "batchit = data.as_numpy_iterator()\n",
    "onebatch = batchit.next()\n",
    "style.use('default')\n",
    "figure(figsize=(10,10))\n",
    "for i in range(16):\n",
    "  subplot(4,4,i+1)\n",
    "  imshow(gal_images[i],origin= 'lower')\n",
    "  title(f\"e1= {labels[i][0]:.4f},e2={labels[i][1]:.4f}\",fontsize=10)\n",
    "  axis('off')"
   ]
  },
  {
   "cell_type": "markdown",
   "id": "0e43d553-f26b-46dd-b1b8-974f3658b0b9",
   "metadata": {},
   "source": [
    "## Set up ngmix"
   ]
  },
  {
   "cell_type": "code",
   "execution_count": null,
   "id": "9a8089cf-2487-4dda-9635-5bc66f96b8ec",
   "metadata": {},
   "outputs": [],
   "source": [
    "#set up jacobian\n",
    "jacobian = ngmix.DiagonalJacobian(\n",
    "  row=stamp_size//2, \n",
    "  col=stamp_size//2,\n",
    "  scale=scale,\n",
    ")\n",
    "psf_jacobian = ngmix.DiagonalJacobian(\n",
    "  row=stamp_size//2, \n",
    "  col=stamp_size//2,\n",
    "  scale=scale,\n",
    ")"
   ]
  },
  {
   "cell_type": "code",
   "execution_count": null,
   "id": "86d0574d-d468-46b4-b10f-c95bc08b9621",
   "metadata": {},
   "outputs": [],
   "source": [
    "# We will measure moments with a fixed gaussian weight function\n",
    "weight_fwhm = 1.2\n",
    "fitter = ngmix.gaussmom.GaussMom(fwhm=weight_fwhm)\n",
    "psf_fitter = ngmix.gaussmom.GaussMom(fwhm=weight_fwhm)\n",
    "\n",
    "# these \"runners\" run the measurement code on observations\n",
    "psf_runner = ngmix.runners.PSFRunner(fitter=psf_fitter)\n",
    "runner = ngmix.runners.Runner(fitter=fitter)\n",
    "\n",
    "# this \"bootstrapper\" runs the metacal image shearing as well as both \n",
    "# psf and object measurements\n",
    "\n",
    "types = ['noshear', '1p', '1m','2p','2m']\n",
    "boot = ngmix.metacal.MetacalBootstrapper(\n",
    "  runner=runner, psf_runner=psf_runner,\n",
    "  rng=rng,\n",
    "  psf='gauss',\n",
    "  types=types,\n",
    "  fixnoise=fixnoise,\n",
    ")"
   ]
  },
  {
   "cell_type": "markdown",
   "id": "bea0a6f0-68c5-4744-963d-0050fd9f91ca",
   "metadata": {},
   "source": [
    "Set up functions to get responses from AMC and ngmix"
   ]
  },
  {
   "cell_type": "code",
   "execution_count": null,
   "id": "0259904c-d5c0-4d95-b94b-17ce9d1be828",
   "metadata": {},
   "outputs": [],
   "source": [
    "#for ngmix\n",
    "def get_metacal_response_ngmix(resdict):\n",
    "  step=0.01\n",
    "\n",
    "  e1, e2 = resdict['noshear']['e1'], resdict['noshear']['e2']\n",
    " \n",
    "  g0s = np.array([resdict['noshear']['e1'], resdict['noshear']['e2']])\n",
    "  g1p = np.array([resdict['1p']['e1'], resdict['1p']['e2']])\n",
    "  g1m = np.array([resdict['1m']['e1'], resdict['1m']['e2']])\n",
    "  g2p = np.array([resdict['2p']['e1'], resdict['2p']['e2']])\n",
    "  g2m = np.array([resdict['2m']['e1'], resdict['2m']['e2']])    \n",
    "  \n",
    "  R11 = (g1p[0]-g1m[0])/(2*step)\n",
    "  R21 = (g1p[1]-g1m[1])/(2*step) \n",
    "  R12 = (g2p[0]-g2m[0])/(2*step)\n",
    "  R22 = (g2p[1]-g2m[1])/(2*step)  \n",
    "   \n",
    "  ellip_dict = {\n",
    "    'noshear':g0s,\n",
    "    '1p':g1p,\n",
    "    '1m':g1m,\n",
    "    '2p':g2p,\n",
    "    '2m':g2m,    \n",
    "  } \n",
    "  \n",
    "  R = np.array(\n",
    "    [[R11,R12],\n",
    "     [R21,R22]])\n",
    "    \n",
    "  return ellip_dict, R \n",
    "\n",
    "#AutoMetaCal runner\n",
    "method = lambda im: amc.get_moment_ellipticities(im, scale=0.2, fwhm=1.2)\n",
    "\n",
    "#for amc\n",
    "@tf.function\n",
    "def response(gal_images,psf_images):\n",
    "  return amc.get_metacal_response(gal_images, psf_images,psf_images,method)"
   ]
  },
  {
   "cell_type": "markdown",
   "id": "ad5fc570-383d-4abf-9f20-b6a7315ab7dc",
   "metadata": {},
   "source": [
    "## Shakedown Test!"
   ]
  },
  {
   "cell_type": "markdown",
   "id": "1312151e-1c33-4ba4-8e72-1afbd9b9fbba",
   "metadata": {},
   "source": [
    "Let's make a measurement on a single image."
   ]
  },
  {
   "cell_type": "code",
   "execution_count": null,
   "id": "44c53ad9-7205-41f1-8ca6-a229034c3de7",
   "metadata": {},
   "outputs": [],
   "source": [
    "im = gal_images[0]\n",
    "psf_im = psf_images[0] "
   ]
  },
  {
   "cell_type": "code",
   "execution_count": null,
   "id": "071d1177-f7a0-445b-9b22-da390c77ed70",
   "metadata": {},
   "outputs": [],
   "source": [
    "wt = tf.reduce_mean(1.0/(noise)**2,axis=0)\n",
    "psf_wt = tf.reduce_mean(1.0/(noise/100)**2,axis=0)\n",
    "\n",
    "psf_obs = ngmix.Observation(\n",
    "  psf_im,\n",
    "  weight=psf_wt,\n",
    "  jacobian=psf_jacobian,\n",
    ")\n",
    "obs = ngmix.Observation(\n",
    "  im,\n",
    "  jacobian=jacobian,\n",
    "  weight=wt,\n",
    "  psf=psf_obs,\n",
    ")"
   ]
  },
  {
   "cell_type": "markdown",
   "id": "76b6811c-c24b-4975-941d-897b1ab4ba05",
   "metadata": {},
   "source": [
    "Run one ngmix measurement:"
   ]
  },
  {
   "cell_type": "code",
   "execution_count": null,
   "id": "138ec3d3-9bd6-47f9-907f-c167fe2a5add",
   "metadata": {},
   "outputs": [],
   "source": [
    "resdict, obsdict = boot.go(obs)"
   ]
  },
  {
   "cell_type": "code",
   "execution_count": null,
   "id": "553ae8d2-8ad7-49ac-815b-24385857617d",
   "metadata": {},
   "outputs": [],
   "source": [
    "true = labels[0]\n",
    "\n",
    "#ngmix calibration\n",
    "ellips, R_ngmix = get_metacal_response_ngmix(resdict)\n",
    "calibrated_ngmix = linalg.inv(R_ngmix) @ ellips['noshear']\n",
    "\n",
    "e_amc, R_auto = response(im[tf.newaxis], psf_im[tf.newaxis])\n",
    "calibrated_amc = linalg.inv(R_auto[0].numpy()) @ e_amc[0].numpy()"
   ]
  },
  {
   "cell_type": "code",
   "execution_count": null,
   "id": "08fd946e-432f-406f-a487-5096f7ce2da7",
   "metadata": {},
   "outputs": [],
   "source": [
    "print(\"True:\")\n",
    "print(f\"e1={true[0]:.6f}, e2={true[1]:.6f}.\")\n",
    "\n",
    "print(\"\\nngmix:\")\n",
    "print(f\"e1={calibrated_ngmix[0]:.6f}, e2={calibrated_ngmix[1]:.6f}.\")\n",
    "\n",
    "print(\"\\nAutoMetaCal\")\n",
    "print(f\"e1={calibrated_amc[0]:.6f}, e2={calibrated_amc[1]:.6f}.\")"
   ]
  },
  {
   "cell_type": "markdown",
   "id": "68a8faba-4db2-4d1b-9733-ee34e4b1e7fe",
   "metadata": {},
   "source": [
    "Different Reconvolution PSFs if needed"
   ]
  },
  {
   "cell_type": "raw",
   "id": "5ae481d3-5f55-44d4-9450-a13d4199a35a",
   "metadata": {},
   "source": [
    "import galsim\n",
    "\n",
    "psf_fwhm = 0.7\n",
    "reconv_psf = galsim.Moffat(beta=5.0, \n",
    "                    fwhm=psf_fwhm*1.4)\n",
    "reconv_psf_image = tf.expand_dims(tf.convert_to_tensor(reconv_psf.drawImage(nx=stamp_size, ny=stamp_size, scale=scale).array),axis=0)\n",
    "\n",
    "\n",
    "reconv_psf_image = obs.psf.image.reshape(1,51,51).astype('float32') "
   ]
  },
  {
   "cell_type": "markdown",
   "id": "561e4957-d8ad-418b-b777-fa1793eee4a2",
   "metadata": {},
   "source": [
    "## One Batch Test"
   ]
  },
  {
   "cell_type": "code",
   "execution_count": null,
   "id": "880d7f75-ed5a-479e-8cce-a53050757700",
   "metadata": {},
   "outputs": [],
   "source": [
    "#reset data\n",
    "batchit = data.as_numpy_iterator()\n",
    "onebatch = batchit.next()"
   ]
  },
  {
   "cell_type": "code",
   "execution_count": null,
   "id": "b5c64129-7373-4622-95f3-3dd8b4c26602",
   "metadata": {},
   "outputs": [],
   "source": [
    "#get response and noshear ellipticities\n",
    "e_amc, R_auto = response(gal_images, psf_images)\n",
    "e_amc=tf.concat([e_amc],axis=0)\n",
    "R_auto=tf.concat([R_auto],axis=0)\n",
    "\n",
    "#averaging procedure\n",
    "uncalibrated_shear_amc = tf.reduce_mean(e_amc,axis=0)\n",
    "calibrated_shear_amc = tf.linalg.inv(tf.reduce_mean(R_auto[:],axis=0)) @ tf.reduce_mean(tf.reshape(e_amc,[-1,2,1]),axis=0)\n",
    "calibrated_shear_amc_err = tf.linalg.inv(tf.reduce_mean(R_auto[:],axis=0)) @ tf.math.reduce_std(tf.reshape(e_amc,[-1,2,1]),axis=0)/sqrt(batch_size)"
   ]
  },
  {
   "cell_type": "markdown",
   "id": "16e38281-1f86-4b26-9dbe-d0403eecfb1d",
   "metadata": {},
   "source": [
    "Testing AMC speed: "
   ]
  },
  {
   "cell_type": "code",
   "execution_count": null,
   "id": "6d9b2042-8e5f-4d59-843e-7145573ff92c",
   "metadata": {},
   "outputs": [],
   "source": [
    "%%timeit\n",
    "e_amc_batch, R_auto_batch = response(gal_images, psf_images)"
   ]
  },
  {
   "cell_type": "markdown",
   "id": "14906510-c6fe-4f30-8bdc-2737cdc3140c",
   "metadata": {},
   "source": [
    "To be fair, let's use ngmix in parallel. "
   ]
  },
  {
   "cell_type": "code",
   "execution_count": null,
   "id": "cf8418e7-bc71-4390-b9f3-2955ce30982e",
   "metadata": {},
   "outputs": [],
   "source": [
    "#parallelisable function to map the data to\n",
    "def response_ngmix(im_psf):\n",
    "  im, psf = im_psf\n",
    "  \n",
    "  psf_obs = ngmix.Observation(\n",
    "    psf_im,\n",
    "    weight=psf_wt,\n",
    "    jacobian=psf_jacobian,\n",
    "  )\n",
    "  obs = ngmix.Observation(\n",
    "    im,\n",
    "    jacobian=jacobian,\n",
    "    weight=wt,\n",
    "    psf=psf_obs,\n",
    "  )\n",
    "  \n",
    "  #get moment ellipticities\n",
    "  resdict, obsdict = boot.go(obs)\n",
    "  e_ngmix, R_ngmix = get_metacal_response_ngmix(resdict)\n",
    "  \n",
    "  return e_ngmix['noshear'], R_ngmix"
   ]
  },
  {
   "cell_type": "code",
   "execution_count": null,
   "id": "4d55ba10-c217-43cb-98ba-64cb0db79a9a",
   "metadata": {},
   "outputs": [],
   "source": [
    "from multiprocessing import Pool, freeze_support, cpu_count\n",
    "pool = Pool(cpu_count()) "
   ]
  },
  {
   "cell_type": "code",
   "execution_count": null,
   "id": "6ad3e9f6-0827-43d3-84d6-d124cb2b20dd",
   "metadata": {},
   "outputs": [],
   "source": [
    "gal_imlist = [gal_images.numpy()[i] for i in range(len(gal_images))]\n",
    "psf_imlist = [psf_images[i] for i in range(len(gal_images))]\n",
    "ims_psfs = zip(gal_imlist,psf_imlist)"
   ]
  },
  {
   "cell_type": "markdown",
   "id": "d81396d8-0e0c-4060-a909-a2eb26b4941b",
   "metadata": {},
   "source": [
    "Testing ngmix speed:"
   ]
  },
  {
   "cell_type": "code",
   "execution_count": null,
   "id": "0a0d76bc-cbe2-4d60-a961-e949d2bd87ae",
   "metadata": {},
   "outputs": [],
   "source": [
    "t = time.time()\n",
    "results = pool.map(response_ngmix, ims_psfs)\n",
    "print(f\"Finished in: {time.time()-t} s.\")"
   ]
  },
  {
   "cell_type": "code",
   "execution_count": null,
   "id": "27b7aeee-2f88-4ed6-a275-5ceff0d4fd06",
   "metadata": {},
   "outputs": [],
   "source": [
    "pool.close()"
   ]
  },
  {
   "cell_type": "code",
   "execution_count": null,
   "id": "d31c5daa-0cf6-4002-8391-d8276fd5ed03",
   "metadata": {},
   "outputs": [],
   "source": [
    "e_ngmix_list = [result[0] for result in results]\n",
    "R_ngmix_list = [result[1] for result in results]"
   ]
  },
  {
   "cell_type": "code",
   "execution_count": null,
   "id": "512f31d5-3080-4756-a419-26dbbb5c6312",
   "metadata": {},
   "outputs": [],
   "source": [
    "calibrated_shear_ngmix = linalg.inv(mean(array(R_ngmix_list),axis=0)) @ mean(array(e_ngmix_list),axis=0)\n",
    "calibrated_shear_ngmix_err = linalg.inv(mean(array(R_ngmix_list),axis=0)) @ std(array(e_ngmix_list),axis=0)/sqrt(batch_size)"
   ]
  },
  {
   "cell_type": "code",
   "execution_count": null,
   "id": "b1863127-de9f-470a-9da1-51278478bc73",
   "metadata": {},
   "outputs": [],
   "source": [
    "print(\"True:\")\n",
    "print(f\"e1={real_shear[0]:.6f}, e2={real_shear[1]:.6f}.\")\n",
    "\n",
    "print(\"\\nUncalibrated shear estimation over 1k\")\n",
    "print(f\"e1={uncalibrated_shear_amc[0]:.6f}, e2={uncalibrated_shear_amc[1]:.6f}.\")\n",
    "\n",
    "print(\"\\nAutoMetaCal shear estimation over 1k\")\n",
    "print(f\"e1={calibrated_shear_amc[0,0]:.6f}, e2={calibrated_shear_amc[1,0]:.6f}.\")\n",
    "\n",
    "print(\"\\nngmix shear estimation over 1k\")\n",
    "print(f\"e1={calibrated_shear_ngmix[0]:.6f}, e2={calibrated_shear_ngmix[1]:.6f}.\")"
   ]
  },
  {
   "cell_type": "code",
   "execution_count": null,
   "id": "4b2ebc7c-d18d-4e96-9781-c0c03bdcd37c",
   "metadata": {},
   "outputs": [],
   "source": [
    "m1_amc =  calibrated_shear_amc[0,0]/real_shear[0] - 1 \n",
    "m1_amc_err =  calibrated_shear_amc_err[0,0]/real_shear[0]\n",
    "print(\"Autometacal:\")\n",
    "print(f\"m_1 = {m1_amc: .6f} +/- {m1_amc_err: .6f}\")\n",
    "\n",
    "m1_ngmix =  calibrated_shear_ngmix[0]/real_shear[0] -1 \n",
    "m1_ngmix_err =  calibrated_shear_ngmix_err[0]/real_shear[0] \n",
    "print(\"\\nngmix:\")\n",
    "print(f\"m_1 = {m1_ngmix: .6f} +/- {m1_ngmix_err: .6f}\")"
   ]
  },
  {
   "cell_type": "markdown",
   "id": "f6dff184-3a04-4fd1-988c-9aa74b5d7319",
   "metadata": {},
   "source": [
    "## All Batches Test"
   ]
  },
  {
   "cell_type": "code",
   "execution_count": null,
   "id": "c17c244a-44d6-47dc-b1de-e67d410340b5",
   "metadata": {},
   "outputs": [],
   "source": [
    "#reset data\n",
    "batchit = data.as_numpy_iterator()"
   ]
  },
  {
   "cell_type": "code",
   "execution_count": null,
   "id": "0e761b19-9139-455d-800c-63768a934ba0",
   "metadata": {},
   "outputs": [],
   "source": [
    "e_amc = []\n",
    "R_auto = []\n",
    "e_ngmix_list = []\n",
    "R_ngmix_list = []\n",
    "\n",
    "for _ in tqdm.tqdm(range(100)):\n",
    "  onebatch = batchit.next()\n",
    "  \n",
    "  #prepare batch\n",
    "  gal_images=amc.noiseless_real_mcal_image(onebatch['gal_model'],onebatch['psf_image'],\n",
    "                            tf.repeat([real_shear],len(onebatch['gal_model']),axis=0))\n",
    "\n",
    "  noise = np.random.normal(scale=noise_level,size=[len(gal_images),51,51])\n",
    "  \n",
    "  gal_images += noise\n",
    "  psf_images = onebatch['psf_image']\n",
    "\n",
    "  #run amc\n",
    "  e_amc_batch, R_auto_batch = response(gal_images, psf_images)\n",
    "  #gather amc results\n",
    "  e_amc.append(e_amc_batch)\n",
    "  R_auto.append(R_auto_batch)\n",
    "  \n",
    "  #prepare list for parallel map\n",
    "  gal_imlist = [gal_images.numpy()[i] for i in range(len(gal_images))]\n",
    "  psf_imlist = [psf_images[i] for i in range(len(gal_images))]\n",
    "  ims_psfs = zip(gal_imlist,psf_imlist)\n",
    "  \n",
    "  #start and run parallel pool\n",
    "  pool = Pool(cpu_count()//2)\n",
    "  results = pool.map(response_ngmix, ims_psfs)\n",
    "  pool.close()\n",
    "  \n",
    "  #append ngmix results\n",
    "  e_ngmix_list += [result[0] for result in results]\n",
    "  R_ngmix_list += [result[1] for result in results]\n",
    "  \n",
    "e_amc=tf.concat(e_amc,axis=0)\n",
    "R_auto=tf.concat(R_auto,axis=0)"
   ]
  },
  {
   "cell_type": "code",
   "execution_count": null,
   "id": "a0decd2c-44b9-42eb-8caa-46f7975aa765",
   "metadata": {},
   "outputs": [],
   "source": [
    "#averaging amc results\n",
    "uncalibrated_shear_amc = tf.reduce_mean(e_amc,axis=0)\n",
    "calibrated_shear_amc = tf.linalg.inv(tf.reduce_mean(R_auto[:],axis=0)) @ tf.reduce_mean(tf.reshape(e_amc,[-1,2,1]),axis=0)\n",
    "calibrated_shear_amc_err = tf.linalg.inv(tf.reduce_mean(R_auto[:],axis=0)) @ tf.math.reduce_std(tf.reshape(e_amc,[-1,2,1]),axis=0)/sqrt(batch_size*100)\n",
    "\n",
    "#averaging ngmix results\n",
    "calibrated_shear_ngmix = linalg.inv(mean(array(R_ngmix_list),axis=0)) @ mean(array(e_ngmix_list),axis=0)\n",
    "calibrated_shear_ngmix_err = linalg.inv(mean(array(R_ngmix_list),axis=0)) @ std(array(e_ngmix_list),axis=0)/sqrt(batch_size*100)"
   ]
  },
  {
   "cell_type": "code",
   "execution_count": null,
   "id": "054b5c75-679a-4598-a720-9cd4120cec90",
   "metadata": {},
   "outputs": [],
   "source": [
    "m1_amc =  calibrated_shear_amc[0,0]/real_shear[0] -1 \n",
    "m1_amc_err = calibrated_shear_amc_err[0,0]/real_shear[0]\n",
    "\n",
    "print(\"Autometacal:\")\n",
    "print(f\"m_1 = {m1_amc: .6f} +/- {m1_amc_err: .6f}\")\n",
    "\n",
    "m1_ngmix =  calibrated_shear_ngmix[0]/real_shear[0] -1 \n",
    "m1_ngmix_err = calibrated_shear_ngmix_err[0]/real_shear[0]\n",
    "\n",
    "print(\"\\nngmix:\")\n",
    "print(f\"m_1 = {m1_ngmix: .6f} +/- {m1_ngmix_err: .6f}\")"
   ]
  },
  {
   "cell_type": "markdown",
   "id": "2a8d02eb-5258-456f-83e4-841085a1d843",
   "metadata": {},
   "source": [
    "## Fixnoise"
   ]
  },
  {
   "cell_type": "code",
   "execution_count": null,
   "id": "b9becafc-b4cf-4e32-b005-86ce54e231ec",
   "metadata": {},
   "outputs": [],
   "source": [
    "#create 1 batch of observed images\n",
    "gal_images=amc.noiseless_real_mcal_image(onebatch['gal_model'],onebatch['psf_image'],\n",
    "                          tf.repeat([real_shear],len(onebatch['gal_model']),axis=0))\n",
    "\n",
    "noise = np.random.normal(scale=1e-3,size=[batch_size,51,51])\n",
    "gal_images += noise\n",
    "psf_images = onebatch['psf_image']\n",
    "\n",
    "#for amc\n",
    "@tf.function\n",
    "def response(gal_images,psf_images):\n",
    "  return amc.get_metacal_response(gal_images, psf_images,psf_images,method,fixnoise=True)\n",
    "\n",
    "\n",
    "\n",
    "def mad(input_data):\n",
    "    r\"\"\"Median absolute deviation.\n",
    "    This method calculates the median absolute deviation of the input data.\n",
    "    Parameters\n",
    "    ----------\n",
    "    input_data : numpy.ndarray\n",
    "        Input data array\n",
    "    Returns\n",
    "    -------\n",
    "    float\n",
    "        MAD value\n",
    "    Examples\n",
    "    --------\n",
    "    >>> import numpy as np\n",
    "    >>> from modopt.math.stats import mad\n",
    "    >>> a = np.arange(9).reshape(3, 3)\n",
    "    >>> mad(a)\n",
    "    2.0\n",
    "    Notes\n",
    "    -----\n",
    "    The MAD is calculated as follows:\n",
    "    .. math::\n",
    "        \\mathrm{MAD} = \\mathrm{median}\\left(|X_i - \\mathrm{median}(X)|\\right)\n",
    "    See Also\n",
    "    --------\n",
    "    numpy.median : median function used\n",
    "    \"\"\"\n",
    "    return tfp.stats.median(tf.math.abs(input_data - tfp.stats.median(input_data)))\n",
    "\n",
    "def sigma_mad(input_data):\n",
    "    r\"\"\"MAD Standard Deviation.\n",
    "    This method calculates the standard deviation of the input data from the\n",
    "    MAD.\n",
    "    Parameters\n",
    "    ----------\n",
    "    input_data : numpy.ndarray\n",
    "        Input data array\n",
    "    Returns\n",
    "    -------\n",
    "    float\n",
    "        Sigma value\n",
    "    Examples\n",
    "    --------\n",
    "    >>> import numpy as np\n",
    "    >>> from modopt.math.stats import sigma_mad\n",
    "    >>> a = np.arange(9).reshape(3, 3)\n",
    "    >>> sigma_mad(a)\n",
    "    2.9652\n",
    "    Notes\n",
    "    -----\n",
    "    This function can be used for estimating the standeviation of the noise in\n",
    "    imgaes.\n",
    "    Sigma is calculated as follows:\n",
    "    .. math::\n",
    "        \\sigma = 1.4826 \\mathrm{MAD}(X)\n",
    "    \"\"\"\n",
    "    return 1.4826 * mad(input_data)\n",
    "\n",
    "\n",
    "\n",
    "\n"
   ]
  },
  {
   "cell_type": "code",
   "execution_count": null,
   "id": "0d817ba5-40b9-4c75-93b5-0f781e20e691",
   "metadata": {},
   "outputs": [],
   "source": [
    "import tensorflow_probability as tfp"
   ]
  },
  {
   "cell_type": "code",
   "execution_count": null,
   "id": "76245a6d-88ab-41da-b3ad-85930246ae51",
   "metadata": {},
   "outputs": [],
   "source": [
    "input_data = gal_images[0]\n"
   ]
  },
  {
   "cell_type": "code",
   "execution_count": null,
   "id": "8ac59d2b-125f-4d90-a4fa-315dae8c3f76",
   "metadata": {},
   "outputs": [],
   "source": []
  },
  {
   "cell_type": "code",
   "execution_count": null,
   "id": "392966b1-f693-4553-ac06-9e763f37a03a",
   "metadata": {},
   "outputs": [],
   "source": [
    "fixnoise_img=generate_fixnoise([1,51,51,1], psf_images[0][tf.newaxis],psf_images[0][tf.newaxis],[[0.3,0.]],std=sigma_mad(gal_images[0]))"
   ]
  },
  {
   "cell_type": "code",
   "execution_count": null,
   "id": "d4a7d442-94ac-4863-a4e0-c1949a11756c",
   "metadata": {},
   "outputs": [],
   "source": [
    "imshow(mcalimg[0]+fixnoise_img[0,...,0])"
   ]
  },
  {
   "cell_type": "code",
   "execution_count": null,
   "id": "6a0d33e3-454f-4360-aa87-b7cf728d8da0",
   "metadata": {},
   "outputs": [],
   "source": []
  }
 ],
 "metadata": {
  "kernelspec": {
   "display_name": "Python 3",
   "language": "python",
   "name": "python3"
  },
  "language_info": {
   "codemirror_mode": {
    "name": "ipython",
    "version": 3
   },
   "file_extension": ".py",
   "mimetype": "text/x-python",
   "name": "python",
   "nbconvert_exporter": "python",
   "pygments_lexer": "ipython3",
   "version": "3.8.8"
  }
 },
 "nbformat": 4,
 "nbformat_minor": 5
}
