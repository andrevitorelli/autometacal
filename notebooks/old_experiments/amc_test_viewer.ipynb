{
 "cells": [
  {
   "cell_type": "code",
   "execution_count": null,
   "id": "320f48c2-3345-4969-a45a-0834e678df21",
   "metadata": {},
   "outputs": [],
   "source": [
    "errorbar(shearlist,array(gcalib)[...,0][:,0]-shearlist,array(gcaliberr)[...,0][:,0],fmt=\".\",label=\"circular psf\")\n",
    "xlabel(\"g true\")\n",
    "ylabel(\"residual\")\n",
    "errorbar(shearlist,array(gcalib1)[...,0][:,0]-shearlist,array(gcaliberr1)[...,0][:,0],fmt=\".\",label=\"elliptical psf\")\n",
    "xlabel(\"$g_{1,true}$\")\n",
    "ylabel(\"$g_{1,obs}-g_{1,true}$\")\n",
    "legend()\n",
    "title(\"circular vs. elliptical psfs correction test\")\n",
    "savefig(\"psf_test_zero2.png\",bbox_inches=\"tight\")"
   ]
  }
 ],
 "metadata": {
  "kernelspec": {
   "display_name": "Python 3",
   "language": "python",
   "name": "python3"
  },
  "language_info": {
   "codemirror_mode": {
    "name": "ipython",
    "version": 3
   },
   "file_extension": ".py",
   "mimetype": "text/x-python",
   "name": "python",
   "nbconvert_exporter": "python",
   "pygments_lexer": "ipython3",
   "version": "3.8.8"
  }
 },
 "nbformat": 4,
 "nbformat_minor": 5
}
