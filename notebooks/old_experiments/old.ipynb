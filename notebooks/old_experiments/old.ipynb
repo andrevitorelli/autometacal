{
 "cells": [
  {
   "cell_type": "markdown",
   "id": "641295d1-11d6-4530-bfcb-6cfce654a256",
   "metadata": {},
   "source": [
    "# Automatic vs Finite Differences in Metacalibration"
   ]
  },
  {
   "cell_type": "markdown",
   "id": "6108fb88-795c-451c-bbe9-bae50cc74fa8",
   "metadata": {},
   "source": [
    "This notebook tests metacalibration by using automatic or finite differentiation, in a realistic CFIS-like galaxy images derived from the COSMOS catalogue."
   ]
  },
  {
   "cell_type": "code",
   "execution_count": 1,
   "id": "62f484bc-7342-4ced-9fc1-d909da447991",
   "metadata": {},
   "outputs": [
    {
     "name": "stdout",
     "output_type": "stream",
     "text": [
      "Populating the interactive namespace from numpy and matplotlib\n"
     ]
    }
   ],
   "source": [
    "%pylab inline"
   ]
  },
  {
   "cell_type": "code",
   "execution_count": 2,
   "id": "b1a8187a-5c2a-4ff8-8aec-854df3876842",
   "metadata": {},
   "outputs": [
    {
     "name": "stderr",
     "output_type": "stream",
     "text": [
      "<frozen importlib._bootstrap>:219: RuntimeWarning: scipy._lib.messagestream.MessageStream size changed, may indicate binary incompatibility. Expected 56 from C header, got 64 from PyObject\n"
     ]
    }
   ],
   "source": [
    "import os\n",
    "#os.environ[\"CUDA_VISIBLE_DEVICES\"] = \"-1\"\n",
    "import tqdm\n",
    "\n",
    "import autometacal as amc\n",
    "import tensorflow_datasets as tfds\n",
    "import tensorflow as tf\n",
    "import galflow as gf\n",
    "import ngmix"
   ]
  },
  {
   "cell_type": "code",
   "execution_count": 3,
   "id": "3b32b2e5-ece2-4115-a8a4-ae97e456aecc",
   "metadata": {},
   "outputs": [
    {
     "name": "stdout",
     "output_type": "stream",
     "text": [
      "\u001b[1mDownloading and preparing dataset Unknown size (download: Unknown size, generated: Unknown size, total: Unknown size) to /local/home/az264973/tensorflow_datasets/cfis/parametric_1k/0.5.0...\u001b[0m\n"
     ]
    },
    {
     "data": {
      "application/vnd.jupyter.widget-view+json": {
       "model_id": "",
       "version_major": 2,
       "version_minor": 0
      },
      "text/plain": [
       "Generating splits...:   0%|          | 0/1 [00:00<?, ? splits/s]"
      ]
     },
     "metadata": {},
     "output_type": "display_data"
    },
    {
     "data": {
      "application/vnd.jupyter.widget-view+json": {
       "model_id": "",
       "version_major": 2,
       "version_minor": 0
      },
      "text/plain": [
       "Generating train examples...: 0 examples [00:00, ? examples/s]"
      ]
     },
     "metadata": {},
     "output_type": "display_data"
    },
    {
     "data": {
      "application/vnd.jupyter.widget-view+json": {
       "model_id": "",
       "version_major": 2,
       "version_minor": 0
      },
      "text/plain": [
       "Shuffling cfis-train.tfrecord...:   0%|          | 0/1000 [00:00<?, ? examples/s]"
      ]
     },
     "metadata": {},
     "output_type": "display_data"
    },
    {
     "name": "stdout",
     "output_type": "stream",
     "text": [
      "\u001b[1mDataset cfis downloaded and prepared to /local/home/az264973/tensorflow_datasets/cfis/parametric_1k/0.5.0. Subsequent calls will reuse this data.\u001b[0m\n"
     ]
    }
   ],
   "source": [
    "batch_size=1000\n",
    "data= tfds.load('CFIS')\n",
    "data = data['train'].cache()\n",
    "data = data.repeat()\n",
    "data = data.shuffle(1000)\n",
    "data = data.batch(batch_size)\n",
    "data = data.prefetch(tf.data.experimental.AUTOTUNE)"
   ]
  },
  {
   "cell_type": "code",
   "execution_count": 4,
   "id": "986a3812-8f50-4cad-a884-ff3184cee2c7",
   "metadata": {},
   "outputs": [
    {
     "ename": "KeyError",
     "evalue": "'gal_model'",
     "output_type": "error",
     "traceback": [
      "\u001b[0;31m---------------------------------------------------------------------------\u001b[0m",
      "\u001b[0;31mKeyError\u001b[0m                                  Traceback (most recent call last)",
      "\u001b[0;32m<ipython-input-4-58d65e9bf365>\u001b[0m in \u001b[0;36m<module>\u001b[0;34m\u001b[0m\n\u001b[1;32m      1\u001b[0m \u001b[0mbatchit\u001b[0m \u001b[0;34m=\u001b[0m \u001b[0mdata\u001b[0m\u001b[0;34m.\u001b[0m\u001b[0mas_numpy_iterator\u001b[0m\u001b[0;34m(\u001b[0m\u001b[0;34m)\u001b[0m\u001b[0;34m\u001b[0m\u001b[0;34m\u001b[0m\u001b[0m\n\u001b[1;32m      2\u001b[0m \u001b[0monebatch\u001b[0m \u001b[0;34m=\u001b[0m \u001b[0mbatchit\u001b[0m\u001b[0;34m.\u001b[0m\u001b[0mnext\u001b[0m\u001b[0;34m(\u001b[0m\u001b[0;34m)\u001b[0m\u001b[0;34m\u001b[0m\u001b[0;34m\u001b[0m\u001b[0m\n\u001b[0;32m----> 3\u001b[0;31m \u001b[0mgal_images\u001b[0m \u001b[0;34m=\u001b[0m \u001b[0monebatch\u001b[0m\u001b[0;34m[\u001b[0m\u001b[0;34m'gal_model'\u001b[0m\u001b[0;34m]\u001b[0m\u001b[0;34m\u001b[0m\u001b[0;34m\u001b[0m\u001b[0m\n\u001b[0m\u001b[1;32m      4\u001b[0m \u001b[0mlabels\u001b[0m \u001b[0;34m=\u001b[0m \u001b[0monebatch\u001b[0m\u001b[0;34m[\u001b[0m\u001b[0;34m'label'\u001b[0m\u001b[0;34m]\u001b[0m\u001b[0;34m\u001b[0m\u001b[0;34m\u001b[0m\u001b[0m\n\u001b[1;32m      5\u001b[0m \u001b[0mstyle\u001b[0m\u001b[0;34m.\u001b[0m\u001b[0muse\u001b[0m\u001b[0;34m(\u001b[0m\u001b[0;34m'default'\u001b[0m\u001b[0;34m)\u001b[0m\u001b[0;34m\u001b[0m\u001b[0;34m\u001b[0m\u001b[0m\n",
      "\u001b[0;31mKeyError\u001b[0m: 'gal_model'"
     ]
    }
   ],
   "source": [
    "batchit = data.as_numpy_iterator()\n",
    "onebatch = batchit.next()\n",
    "gal_images = onebatch['gal_model'] \n",
    "labels = onebatch['label'] \n",
    "style.use('default')\n",
    "figure(figsize=(10,10))\n",
    "for i in range(16):\n",
    "  subplot(4,4,i+1)\n",
    "  imshow(gal_images[i],origin='lower')\n",
    "  title(f\"g1= {labels[i][0]:.4f},g2={labels[i][1]:.4f}\",fontsize=10)\n",
    "  axis('off')"
   ]
  },
  {
   "cell_type": "code",
   "execution_count": 9,
   "id": "69f41657-5727-43e5-97ad-be8067faa592",
   "metadata": {},
   "outputs": [
    {
     "data": {
      "text/plain": [
       "<matplotlib.image.AxesImage at 0x7f1544429ac0>"
      ]
     },
     "execution_count": 9,
     "metadata": {},
     "output_type": "execute_result"
    },
    {
     "data": {
      "image/png": "[encoded data removed]",
      "text/plain": [
       "<Figure size 432x288 with 1 Axes>"
      ]
     },
     "metadata": {
      "needs_background": "light"
     },
     "output_type": "display_data"
    }
   ],
   "source": [
    "imshow(onebatch['obs'][0])"
   ]
  },
  {
   "cell_type": "code",
   "execution_count": 5,
   "id": "446abd93-b82b-4372-91c5-4ecea9f23cc7",
   "metadata": {},
   "outputs": [],
   "source": [
    "sheared=amc.noiseless_real_mcal_image(onebatch['gal_model'],onebatch['psf_image'],\n",
    "                          tf.repeat([[0.,0.05]],len(onebatch['gal_model']),axis=0))\n",
    "\n",
    "noise_level = 1e-6\n",
    "noise = np.random.normal(scale=noise_level,size=[1000,51,51])\n",
    "sheared += noise"
   ]
  },
  {
   "cell_type": "code",
   "execution_count": 6,
   "id": "5064cf06-08bd-4da3-afa4-be1dcabd23f0",
   "metadata": {},
   "outputs": [
    {
     "data": {
      "image/png": "[encoded data removed]",
      "text/plain": [
       "<Figure size 1000x1000 with 16 Axes>"
      ]
     },
     "metadata": {},
     "output_type": "display_data"
    }
   ],
   "source": [
    "batchit = data.as_numpy_iterator()\n",
    "onebatch = batchit.next()\n",
    "style.use('default')\n",
    "figure(figsize=(10,10))\n",
    "for i in range(16):\n",
    "  subplot(4,4,i+1)\n",
    "  imshow(sheared[i],origin= 'lower')\n",
    "  title(f\"g1= {labels[i][0]:.4f},g2={labels[i][1]:.4f}\",fontsize=10)\n",
    "  axis('off')"
   ]
  },
  {
   "cell_type": "code",
   "execution_count": 7,
   "id": "4ad54b04-feea-4d8a-99f9-f5021914da7b",
   "metadata": {},
   "outputs": [],
   "source": [
    "im = sheared[0]\n",
    "psf_im = onebatch['psf_image'][0] "
   ]
  },
  {
   "cell_type": "code",
   "execution_count": 8,
   "id": "9a8089cf-2487-4dda-9635-5bc66f96b8ec",
   "metadata": {},
   "outputs": [],
   "source": [
    "scale= .2\n",
    "stamp_size = 51\n",
    "\n",
    "jacobian = ngmix.DiagonalJacobian(\n",
    "  row=stamp_size//2, \n",
    "  col=stamp_size//2,\n",
    "  scale=scale,\n",
    ")\n",
    "psf_jacobian = ngmix.DiagonalJacobian(\n",
    "  row=stamp_size//2, \n",
    "  col=stamp_size//2,\n",
    "  scale=scale,\n",
    ")"
   ]
  },
  {
   "cell_type": "code",
   "execution_count": 9,
   "id": "61587f82-4601-4118-9228-1878a99c6cf9",
   "metadata": {},
   "outputs": [],
   "source": [
    "wt = tf.reduce_mean(1.0/(noise)**2,axis=0)\n",
    "psf_wt = tf.reduce_mean(1.0/(noise/100)**2,axis=0)\n",
    "\n",
    "psf_obs = ngmix.Observation(\n",
    "  psf_im,\n",
    "  weight=psf_wt,\n",
    "  jacobian=psf_jacobian,\n",
    ")\n",
    "obs = ngmix.Observation(\n",
    "  im,\n",
    "  jacobian=jacobian,\n",
    "  weight=wt,\n",
    "  psf=psf_obs,\n",
    ")"
   ]
  },
  {
   "cell_type": "code",
   "execution_count": 10,
   "id": "86d0574d-d468-46b4-b10f-c95bc08b9621",
   "metadata": {},
   "outputs": [],
   "source": [
    "rng = np.random.RandomState(31415)\n",
    "\n",
    "# We will measure moments with a fixed gaussian weight function\n",
    "weight_fwhm = 1.2\n",
    "fitter = ngmix.gaussmom.GaussMom(fwhm=weight_fwhm)\n",
    "psf_fitter = ngmix.gaussmom.GaussMom(fwhm=weight_fwhm)\n",
    "\n",
    "# these \"runners\" run the measurement code on observations\n",
    "psf_runner = ngmix.runners.PSFRunner(fitter=psf_fitter)\n",
    "runner = ngmix.runners.Runner(fitter=fitter)\n",
    "\n",
    "# this \"bootstrapper\" runs the metacal image shearing as well as both \n",
    "# psf and object measurements\n",
    "#\n",
    "# We will just do R11 for simplicity and to speed up this example;\n",
    "# typically the off diagonal terms are negligible, and R11 and R22 are\n",
    "# usually consistent\n",
    "\n",
    "types = ['noshear', '1p', '1m','2p','2m']\n",
    "boot = ngmix.metacal.MetacalBootstrapper(\n",
    "  runner=runner, psf_runner=psf_runner,\n",
    "  rng=rng,\n",
    "  psf='gauss',\n",
    "  types=types,\n",
    "  fixnoise=True,\n",
    ")"
   ]
  },
  {
   "cell_type": "code",
   "execution_count": 11,
   "id": "d3fccc7c-bbd1-47d0-bc7b-507f0562a34d",
   "metadata": {},
   "outputs": [],
   "source": [
    "resdict, obsdict = boot.go(obs)"
   ]
  },
  {
   "cell_type": "code",
   "execution_count": 12,
   "id": "0259904c-d5c0-4d95-b94b-17ce9d1be828",
   "metadata": {},
   "outputs": [],
   "source": [
    "def get_metacal_response_ngmix(resdict):\n",
    "  step=0.01\n",
    "  types = ['noshear', '1p', '1m','2p','2m']\n",
    "  e1, e2 = resdict['noshear']['e1'], resdict['noshear']['e2']\n",
    " \n",
    "  g0s = np.array([resdict['noshear']['e1'], resdict['noshear']['e2']])\n",
    "  g1p = np.array([resdict['1p']['e1'], resdict['1p']['e2']])\n",
    "  g1m = np.array([resdict['1m']['e1'], resdict['1m']['e2']])\n",
    "  g2p = np.array([resdict['2p']['e1'], resdict['2p']['e2']])\n",
    "  g2m = np.array([resdict['2m']['e1'], resdict['2m']['e2']])    \n",
    "  \n",
    "  R11 = (g1p[0]-g1m[0])/(2*step)\n",
    "  R21 = (g1p[1]-g1m[1])/(2*step) \n",
    "  R12 = (g2p[0]-g2m[0])/(2*step)\n",
    "  R22 = (g2p[1]-g2m[1])/(2*step)  \n",
    "   \n",
    "  ellip_dict = {\n",
    "    'noshear':g0s,\n",
    "    '1p':g1p,\n",
    "    '1m':g1m,\n",
    "    '2p':g2p,\n",
    "    '2m':g2m,    \n",
    "  } \n",
    "  \n",
    "  R = np.array(\n",
    "    [[R11,R12],\n",
    "     [R21,R22]])\n",
    "    \n",
    "  return ellip_dict, R  "
   ]
  },
  {
   "cell_type": "markdown",
   "id": "ad5fc570-383d-4abf-9f20-b6a7315ab7dc",
   "metadata": {},
   "source": [
    "## Shakedown Test!"
   ]
  },
  {
   "cell_type": "code",
   "execution_count": 13,
   "id": "553ae8d2-8ad7-49ac-815b-24385857617d",
   "metadata": {},
   "outputs": [
    {
     "name": "stdout",
     "output_type": "stream",
     "text": [
      "WARNING:tensorflow:Using a while_loop for converting Addons>ResamplerGrad\n"
     ]
    },
    {
     "name": "stderr",
     "output_type": "stream",
     "text": [
      "WARNING:tensorflow:Using a while_loop for converting Addons>ResamplerGrad\n"
     ]
    },
    {
     "name": "stdout",
     "output_type": "stream",
     "text": [
      "WARNING:tensorflow:Using a while_loop for converting Addons>ResamplerGrad\n"
     ]
    },
    {
     "name": "stderr",
     "output_type": "stream",
     "text": [
      "WARNING:tensorflow:Using a while_loop for converting Addons>ResamplerGrad\n"
     ]
    }
   ],
   "source": [
    "true = labels[0]\n",
    "#ngmix calibration\n",
    "ellips, R_ngmix = get_metacal_response_ngmix(resdict)\n",
    "calibrated_ngmix = linalg.inv(R_ngmix) @ ellips['noshear']\n",
    "#AutoMetaCal run\n",
    "method = lambda im: amc.get_moment_ellipticities(im, scale=0.2, fwhm=1.2)\n",
    "R_auto = amc.get_metacal_response(im[tf.newaxis], psf_im[tf.newaxis],psf_im[tf.newaxis],method)\n",
    "e_amc=method(im[tf.newaxis])\n",
    "calibrated_amc = linalg.inv(R_auto[1][0].numpy()) @ e_amc[0].numpy()"
   ]
  },
  {
   "cell_type": "code",
   "execution_count": 14,
   "id": "08fd946e-432f-406f-a487-5096f7ce2da7",
   "metadata": {},
   "outputs": [
    {
     "name": "stdout",
     "output_type": "stream",
     "text": [
      "True:\n",
      "e1=-0.134935, e2=0.129653.\n",
      "\n",
      "ngmix:\n",
      "e1=-0.138429, e2=0.186786.\n",
      "\n",
      "AutoMetaCal\n",
      "e1=-0.138443, e2=0.186821.\n"
     ]
    }
   ],
   "source": [
    "print(\"True:\")\n",
    "print(f\"e1={true[0]:.6f}, e2={true[1]:.6f}.\")\n",
    "\n",
    "print(\"\\nngmix:\")\n",
    "print(f\"e1={calibrated_ngmix[0]:.6f}, e2={calibrated_ngmix[1]:.6f}.\")\n",
    "\n",
    "print(\"\\nAutoMetaCal\")\n",
    "print(f\"e1={calibrated_amc[0]:.6f}, e2={calibrated_amc[1]:.6f}.\")"
   ]
  },
  {
   "cell_type": "markdown",
   "id": "561e4957-d8ad-418b-b777-fa1793eee4a2",
   "metadata": {},
   "source": [
    "## One Batch Test"
   ]
  },
  {
   "cell_type": "code",
   "execution_count": 15,
   "id": "02950351-c0af-4397-81bb-1a91f6e5677a",
   "metadata": {},
   "outputs": [],
   "source": [
    "batch_size=1000\n",
    "data= tfds.load('GalGen/small_stamp_1k')\n",
    "data = data['train'].cache()\n",
    "data = data.repeat()\n",
    "data = data.shuffle(1000)\n",
    "data = data.batch(batch_size)\n",
    "data = data.prefetch(tf.data.experimental.AUTOTUNE)"
   ]
  },
  {
   "cell_type": "code",
   "execution_count": 16,
   "id": "c8039f1c-b69c-4d24-a604-77dba8d09212",
   "metadata": {},
   "outputs": [],
   "source": [
    "real_shear = [0.01,0.0]\n",
    "import galsim\n",
    "\n",
    "psf_fwhm = 0.7\n",
    "reconv_psf = galsim.Moffat(beta=5.0, \n",
    "                    fwhm=psf_fwhm*1.4)\n",
    "reconv_psf_image = tf.expand_dims(tf.convert_to_tensor(reconv_psf.drawImage(nx=stamp_size, ny=stamp_size, scale=scale).array),axis=0)\n",
    "\n",
    "\n",
    "reconv_psf_image = obs.psf.image.reshape(1,51,51).astype('float32') \n",
    "method = lambda im: amc.get_moment_ellipticities(im, scale=0.2, fwhm=1.2)"
   ]
  },
  {
   "cell_type": "code",
   "execution_count": 17,
   "id": "880d7f75-ed5a-479e-8cce-a53050757700",
   "metadata": {},
   "outputs": [],
   "source": [
    "batchit = data.as_numpy_iterator()"
   ]
  },
  {
   "cell_type": "code",
   "execution_count": 18,
   "id": "b2c2645a-bfd8-49c2-9801-1f5f4dd8dd01",
   "metadata": {},
   "outputs": [],
   "source": [
    "@tf.function\n",
    "def response(gal_images,psf_images):\n",
    "  return amc.get_metacal_response(gal_images, psf_images,psf_images,method)"
   ]
  },
  {
   "cell_type": "code",
   "execution_count": 19,
   "id": "1e36cebe-bb97-41bc-941c-755ddc3b570f",
   "metadata": {},
   "outputs": [
    {
     "name": "stdout",
     "output_type": "stream",
     "text": [
      "WARNING:tensorflow:Using a while_loop for converting Addons>ResamplerGrad\n"
     ]
    },
    {
     "name": "stderr",
     "output_type": "stream",
     "text": [
      "WARNING:tensorflow:Using a while_loop for converting Addons>ResamplerGrad\n"
     ]
    },
    {
     "name": "stdout",
     "output_type": "stream",
     "text": [
      "WARNING:tensorflow:Using a while_loop for converting Addons>ResamplerGrad\n"
     ]
    },
    {
     "name": "stderr",
     "output_type": "stream",
     "text": [
      "WARNING:tensorflow:Using a while_loop for converting Addons>ResamplerGrad\n"
     ]
    }
   ],
   "source": [
    "e_amc = []\n",
    "R_auto = []\n",
    "\n",
    "onebatch = batchit.next()\n",
    "\n",
    "sheared=amc.noiseless_real_mcal_image(onebatch['gal_model'],onebatch['psf_image'],\n",
    "                          tf.repeat([real_shear],len(onebatch['gal_model']),axis=0))\n",
    "\n",
    "noise = np.random.normal(scale=noise_level,size=[len(sheared),51,51])\n",
    "sheared += noise\n",
    "\n",
    "gal_images = sheared\n",
    "psf_images = onebatch['psf_image']\n",
    "e_amc_batch, R_auto_batch = response(gal_images, psf_images)\n",
    "e_amc.append(e_amc_batch)\n",
    "R_auto.append(R_auto_batch)\n",
    "  \n",
    "e_amc=tf.concat(e_amc,axis=0)\n",
    "R_auto=tf.concat(R_auto,axis=0)"
   ]
  },
  {
   "cell_type": "code",
   "execution_count": 20,
   "id": "b5c64129-7373-4622-95f3-3dd8b4c26602",
   "metadata": {},
   "outputs": [],
   "source": [
    "uncalibrated_shear_amc = tf.reduce_mean(e_amc,axis=0)\n",
    "calibrated_shear_amc = tf.linalg.inv(tf.reduce_mean(R_auto[:],axis=0)) @ tf.reduce_mean(tf.reshape(e_amc,[-1,2,1]),axis=0)\n",
    "calibrated_shear_amc_err = tf.linalg.inv(tf.reduce_mean(R_auto[:],axis=0)) @ tf.math.reduce_std(tf.reshape(e_amc,[-1,2,1]),axis=0)/sqrt(batch_size)"
   ]
  },
  {
   "cell_type": "code",
   "execution_count": 21,
   "id": "6d9b2042-8e5f-4d59-843e-7145573ff92c",
   "metadata": {},
   "outputs": [
    {
     "name": "stdout",
     "output_type": "stream",
     "text": [
      "4.79 s ± 13 ms per loop (mean ± std. dev. of 7 runs, 1 loop each)\n"
     ]
    }
   ],
   "source": [
    "%%timeit\n",
    "e_amc_batch, R_auto_batch = response(gal_images, psf_images)"
   ]
  },
  {
   "cell_type": "markdown",
   "id": "9a41d910-9d68-41a8-b3e9-f45ce3fde29b",
   "metadata": {},
   "source": [
    "Perform the same test with ngmix:"
   ]
  },
  {
   "cell_type": "code",
   "execution_count": 22,
   "id": "906d65d1-41a3-4119-b48c-1d15727f84fc",
   "metadata": {},
   "outputs": [],
   "source": [
    "rng = np.random.RandomState(31415)\n",
    "\n",
    "# We will measure moments with a fixed gaussian weight function\n",
    "weight_fwhm = 1.2\n",
    "fitter = ngmix.gaussmom.GaussMom(fwhm=weight_fwhm)\n",
    "psf_fitter = ngmix.gaussmom.GaussMom(fwhm=weight_fwhm)\n",
    "\n",
    "# these \"runners\" run the measurement code on observations\n",
    "psf_runner = ngmix.runners.PSFRunner(fitter=psf_fitter)\n",
    "runner = ngmix.runners.Runner(fitter=fitter)\n",
    "\n",
    "# this \"bootstrapper\" runs the metacal image shearing as well as both \n",
    "# psf and object measurements\n",
    "#\n",
    "# We will just do R11 for simplicity and to speed up this example;\n",
    "# typically the off diagonal terms are negligible, and R11 and R22 are\n",
    "# usually consistent\n",
    "\n",
    "types = ['noshear', '1p', '1m','2p','2m']\n",
    "boot = ngmix.metacal.MetacalBootstrapper(\n",
    "  runner=runner, psf_runner=psf_runner,\n",
    "  rng=rng,\n",
    "  psf='gauss',\n",
    "  types=types,\n",
    "  fixnoise=True,\n",
    ")"
   ]
  },
  {
   "cell_type": "code",
   "execution_count": 23,
   "id": "4370fafa-d1d6-47d0-9935-81830ab99ee6",
   "metadata": {},
   "outputs": [],
   "source": [
    "sheared=amc.noiseless_real_mcal_image(onebatch['gal_model'],onebatch['psf_image'],\n",
    "                          tf.repeat([real_shear],len(onebatch['gal_model']),axis=0))\n",
    "\n",
    "noise = np.random.normal(scale=noise_level,size=[len(sheared),51,51])\n",
    "sheared += noise\n",
    "\n",
    "gal_images = sheared\n",
    "psf_images = onebatch['psf_image']"
   ]
  },
  {
   "cell_type": "code",
   "execution_count": 24,
   "id": "294139fb-35d2-4a51-bda5-6e05ecc4cad3",
   "metadata": {},
   "outputs": [],
   "source": [
    "def response_ngmix(im_psf):\n",
    "  im, psf = im_psf\n",
    "  \n",
    "  psf_obs = ngmix.Observation(\n",
    "    psf_im,\n",
    "    weight=psf_wt,\n",
    "    jacobian=psf_jacobian,\n",
    "  )\n",
    "  obs = ngmix.Observation(\n",
    "    im,\n",
    "    jacobian=jacobian,\n",
    "    weight=wt,\n",
    "    psf=psf_obs,\n",
    "  )\n",
    "  \n",
    "  #get moment ellipticities\n",
    "  resdict, obsdict = boot.go(obs)\n",
    "  e_ngmix, R_ngmix = get_metacal_response_ngmix(resdict)\n",
    "  \n",
    "  return e_ngmix['noshear'], R_ngmix"
   ]
  },
  {
   "cell_type": "code",
   "execution_count": 25,
   "id": "86a375e3-69b5-4133-811f-d7855c55558d",
   "metadata": {},
   "outputs": [
    {
     "name": "stdout",
     "output_type": "stream",
     "text": [
      "87.8 ms ± 450 µs per loop (mean ± std. dev. of 7 runs, 10 loops each)\n"
     ]
    }
   ],
   "source": [
    "%%timeit\n",
    "response_ngmix((gal_images[0],psf_images[0]))"
   ]
  },
  {
   "cell_type": "markdown",
   "id": "14906510-c6fe-4f30-8bdc-2737cdc3140c",
   "metadata": {},
   "source": [
    "To be fair, let's use ngmix in parallel. "
   ]
  },
  {
   "cell_type": "code",
   "execution_count": 26,
   "id": "4d55ba10-c217-43cb-98ba-64cb0db79a9a",
   "metadata": {},
   "outputs": [],
   "source": [
    "from multiprocessing import Pool, freeze_support, cpu_count\n",
    "pool = Pool(cpu_count()) "
   ]
  },
  {
   "cell_type": "code",
   "execution_count": 27,
   "id": "6ad3e9f6-0827-43d3-84d6-d124cb2b20dd",
   "metadata": {},
   "outputs": [],
   "source": [
    "gal_imlist = [gal_images.numpy()[i] for i in range(len(gal_images))]\n",
    "psf_imlist = [psf_images[i] for i in range(len(gal_images))]\n",
    "ims_psfs = zip(gal_imlist,psf_imlist)"
   ]
  },
  {
   "cell_type": "code",
   "execution_count": 28,
   "id": "0a0d76bc-cbe2-4d60-a961-e949d2bd87ae",
   "metadata": {},
   "outputs": [
    {
     "name": "stdout",
     "output_type": "stream",
     "text": [
      "Finished in: 4.990292549133301 s.\n"
     ]
    }
   ],
   "source": [
    "t = time.time()\n",
    "results = pool.map(response_ngmix, ims_psfs)\n",
    "print(f\"Finished in: {time.time()-t} s.\")"
   ]
  },
  {
   "cell_type": "code",
   "execution_count": 29,
   "id": "27b7aeee-2f88-4ed6-a275-5ceff0d4fd06",
   "metadata": {},
   "outputs": [],
   "source": [
    "pool.close()"
   ]
  },
  {
   "cell_type": "code",
   "execution_count": 30,
   "id": "d31c5daa-0cf6-4002-8391-d8276fd5ed03",
   "metadata": {},
   "outputs": [],
   "source": [
    "e_ngmix_list = [result[0] for result in results]\n",
    "R_ngmix_list = [result[1] for result in results]"
   ]
  },
  {
   "cell_type": "code",
   "execution_count": 31,
   "id": "512f31d5-3080-4756-a419-26dbbb5c6312",
   "metadata": {},
   "outputs": [],
   "source": [
    "calibrated_shear_ngmix = linalg.inv(mean(array(R_ngmix_list),axis=0)) @ mean(array(e_ngmix_list),axis=0)\n",
    "calibrated_shear_ngmix_err = linalg.inv(mean(array(R_ngmix_list),axis=0)) @ std(array(e_ngmix_list),axis=0)/sqrt(batch_size)"
   ]
  },
  {
   "cell_type": "code",
   "execution_count": 32,
   "id": "d00f070a-585b-4401-ba67-62e709934136",
   "metadata": {},
   "outputs": [
    {
     "data": {
      "text/plain": [
       "array([0.00755818, 0.00792424])"
      ]
     },
     "execution_count": 32,
     "metadata": {},
     "output_type": "execute_result"
    }
   ],
   "source": [
    "linalg.inv(mean(array(R_ngmix_list),axis=0)) @std(array(e_ngmix_list),axis=0)/sqrt(batch_size)"
   ]
  },
  {
   "cell_type": "code",
   "execution_count": 33,
   "id": "b1863127-de9f-470a-9da1-51278478bc73",
   "metadata": {},
   "outputs": [
    {
     "name": "stdout",
     "output_type": "stream",
     "text": [
      "True:\n",
      "e1=0.010000, e2=0.000000.\n",
      "\n",
      "Uncalibrated shear estimation over 1k\n",
      "e1=0.003230, e2=-0.008789.\n",
      "\n",
      "AutoMetaCal shear estimation over 1k\n",
      "e1=0.007121, e2=-0.019938.\n",
      "\n",
      "ngmix shear estimation over 1k\n",
      "e1=0.007136, e2=-0.019936.\n"
     ]
    }
   ],
   "source": [
    "print(\"True:\")\n",
    "print(f\"e1={real_shear[0]:.6f}, e2={real_shear[1]:.6f}.\")\n",
    "\n",
    "print(\"\\nUncalibrated shear estimation over 1k\")\n",
    "print(f\"e1={uncalibrated_shear_amc[0]:.6f}, e2={uncalibrated_shear_amc[1]:.6f}.\")\n",
    "\n",
    "print(\"\\nAutoMetaCal shear estimation over 1k\")\n",
    "print(f\"e1={calibrated_shear_amc[0,0]:.6f}, e2={calibrated_shear_amc[1,0]:.6f}.\")\n",
    "\n",
    "print(\"\\nngmix shear estimation over 1k\")\n",
    "print(f\"e1={calibrated_shear_ngmix[0]:.6f}, e2={calibrated_shear_ngmix[1]:.6f}.\")"
   ]
  },
  {
   "cell_type": "code",
   "execution_count": 34,
   "id": "4b2ebc7c-d18d-4e96-9781-c0c03bdcd37c",
   "metadata": {},
   "outputs": [
    {
     "name": "stdout",
     "output_type": "stream",
     "text": [
      "Autometacal:\n",
      "m_1 = -0.287925 +/-  0.755756\n",
      "\n",
      "ngmix:\n",
      "m_1 = -0.286449 +/-  0.755818\n"
     ]
    }
   ],
   "source": [
    "m1_amc =  calibrated_shear_amc[0,0]/real_shear[0] - 1 \n",
    "m1_amc_err =  calibrated_shear_amc_err[0,0]/real_shear[0]\n",
    "print(\"Autometacal:\")\n",
    "print(f\"m_1 = {m1_amc: .6f} +/- {m1_amc_err: .6f}\")\n",
    "\n",
    "m1_ngmix =  calibrated_shear_ngmix[0]/real_shear[0] -1 \n",
    "m1_ngmix_err =  calibrated_shear_ngmix_err[0]/real_shear[0] \n",
    "print(\"\\nngmix:\")\n",
    "print(f\"m_1 = {m1_ngmix: .6f} +/- {m1_ngmix_err: .6f}\")"
   ]
  },
  {
   "cell_type": "markdown",
   "id": "f6dff184-3a04-4fd1-988c-9aa74b5d7319",
   "metadata": {},
   "source": [
    "## All Batches Test"
   ]
  },
  {
   "cell_type": "code",
   "execution_count": 35,
   "id": "72b60ec1-6a2e-457a-98a9-bbf60ca58cd4",
   "metadata": {},
   "outputs": [],
   "source": [
    "batch_size=1000\n",
    "data= tfds.load('GalGen/small_stamp_100k')\n",
    "data = data['train'].cache()\n",
    "data = data.repeat()\n",
    "data = data.shuffle(1000)\n",
    "data = data.batch(batch_size)\n",
    "data = data.prefetch(tf.data.experimental.AUTOTUNE)"
   ]
  },
  {
   "cell_type": "code",
   "execution_count": 36,
   "id": "c17c244a-44d6-47dc-b1de-e67d410340b5",
   "metadata": {},
   "outputs": [],
   "source": [
    "batchit = data.as_numpy_iterator()"
   ]
  },
  {
   "cell_type": "code",
   "execution_count": null,
   "id": "aa5f7a07-570e-49d9-904e-c4d125c621a8",
   "metadata": {},
   "outputs": [
    {
     "name": "stderr",
     "output_type": "stream",
     "text": [
      " 47%|████▋     | 47/100 [04:53<05:29,  6.22s/it]"
     ]
    }
   ],
   "source": [
    "e_amc = []\n",
    "R_auto = []\n",
    "\n",
    "\n",
    "for _ in tqdm.tqdm(range(100)):\n",
    "  onebatch = batchit.next()\n",
    "\n",
    "  sheared=amc.noiseless_real_mcal_image(onebatch['gal_model'],onebatch['psf_image'],\n",
    "                            tf.repeat([real_shear],len(onebatch['gal_model']),axis=0))\n",
    "\n",
    "  noise = np.random.normal(scale=noise_level,size=[len(sheared),51,51])\n",
    "  sheared += noise\n",
    "\n",
    "  gal_images = sheared\n",
    "  psf_images = onebatch['psf_image']\n",
    "\n",
    "  e_amc_batch, R_auto_batch = response(gal_images, psf_images)\n",
    "  \n",
    "  e_amc.append(e_amc_batch)\n",
    "  R_auto.append(R_auto_batch)\n",
    "  \n",
    "e_amc=tf.concat(e_amc,axis=0)\n",
    "R_auto=tf.concat(R_auto,axis=0)"
   ]
  },
  {
   "cell_type": "code",
   "execution_count": null,
   "id": "23cc5e5b-20df-419f-8625-0fbc9f12d998",
   "metadata": {},
   "outputs": [],
   "source": [
    "uncalibrated_shear_amc = tf.reduce_mean(e_amc,axis=0)\n",
    "calibrated_shear_amc = tf.linalg.inv(tf.reduce_mean(R_auto[:],axis=0)) @ tf.reduce_mean(tf.reshape(e_amc,[-1,2,1]),axis=0)\n",
    "calibrated_shear_amc_err = tf.linalg.inv(tf.reduce_mean(R_auto[:],axis=0)) @ tf.math.reduce_std(tf.reshape(e_amc,[-1,2,1]),axis=0)/sqrt(batch_size*100)"
   ]
  },
  {
   "cell_type": "code",
   "execution_count": null,
   "id": "f886ded8-9387-41de-a6f5-ab7295bac9af",
   "metadata": {},
   "outputs": [],
   "source": [
    "print(\"True:\")\n",
    "print(f\"e1={real_shear[0]:.6f}, e2={real_shear[1]:.6f}.\")\n",
    "\n",
    "print(\"\\nUncalibrated shear estimation over 1k\")\n",
    "print(f\"e1={uncalibrated_shear_amc[0]:.6f}, e2={uncalibrated_shear_amc[1]:.6f}.\")\n",
    "\n",
    "print(\"\\nAutoMetaCal shear estimation over 1k\")\n",
    "print(f\"e1={calibrated_shear_amc[0,0]:.6f}, e2={calibrated_shear_amc[1,0]:.6f}.\")\n",
    "\n",
    "m1_amc =  calibrated_shear_amc[0,0]/real_shear[0] -1 \n",
    "m1_amc_err =  calibrated_shear_amc_err[0,0]/real_shear[0]\n",
    "\n",
    "print(\"\\nAutometacal:\")\n",
    "print(f\"m_1 = {m1_amc: .6f} +/- {m1_amc_err: .6f}\")"
   ]
  },
  {
   "cell_type": "markdown",
   "id": "67510540-12a3-46db-afde-ee84908140be",
   "metadata": {},
   "source": [
    "Do the same with ngmix:"
   ]
  },
  {
   "cell_type": "code",
   "execution_count": null,
   "id": "4a0059c4-229b-4074-abbb-2d9c000dc1fd",
   "metadata": {},
   "outputs": [],
   "source": [
    "batchit = data.as_numpy_iterator()"
   ]
  },
  {
   "cell_type": "code",
   "execution_count": null,
   "id": "699f5f34-c631-4bba-9814-c820f21946b7",
   "metadata": {
    "tags": []
   },
   "outputs": [],
   "source": [
    "e_ngmix_list = []\n",
    "R_ngmix_list = []\n",
    "for batchno in tqdm.tqdm(range(100)):\n",
    "  onebatch = batchit.next()\n",
    "\n",
    "  sheared=amc.noiseless_real_mcal_image(onebatch['gal_model'],onebatch['psf_image'],\n",
    "                            tf.repeat([real_shear],len(onebatch['gal_model']),axis=0))\n",
    "\n",
    "  noise = np.random.normal(scale=noise_level,size=[len(sheared),51,51])\n",
    "  sheared += noise\n",
    "\n",
    "  gal_images = sheared\n",
    "  psf_images = onebatch['psf_image']\n",
    "  gal_imlist = [gal_images.numpy()[i] for i in range(len(gal_images))]\n",
    "  psf_imlist = [psf_images[i] for i in range(len(gal_images))]\n",
    "  ims_psfs = zip(gal_imlist,psf_imlist)\n",
    "  \n",
    "  pool = Pool(cpu_count()//2)\n",
    "  results = pool.map(response_ngmix, ims_psfs)\n",
    "  pool.close()\n",
    "  \n",
    "  e_ngmix_list += [result[0] for result in results]\n",
    "  R_ngmix_list += [result[1] for result in results]  "
   ]
  },
  {
   "cell_type": "code",
   "execution_count": null,
   "id": "54075f15-a766-47cc-bbd4-4e7b624e2df0",
   "metadata": {},
   "outputs": [],
   "source": [
    "calibrated_shear_ngmix = linalg.inv(mean(array(R_ngmix_list),axis=0)) @ mean(array(e_ngmix_list),axis=0)\n",
    "calibrated_shear_ngmix_err = linalg.inv(mean(array(R_ngmix_list),axis=0)) @ std(array(e_ngmix_list),axis=0)/sqrt(batch_size*100)"
   ]
  },
  {
   "cell_type": "code",
   "execution_count": null,
   "id": "3c6c5bc0-1896-4969-b017-559833201abd",
   "metadata": {},
   "outputs": [],
   "source": [
    "print(\"True:\")\n",
    "print(f\"e1={real_shear[0]:.6f}, e2={real_shear[1]:.6f}.\")\n",
    "\n",
    "print(\"\\nUncalibrated shear estimation over 1k\")\n",
    "print(f\"e1={uncalibrated_shear_amc[0]:.6f}, e2={uncalibrated_shear_amc[1]:.6f}.\")\n",
    "\n",
    "print(\"\\nAutoMetaCal shear estimation over 1k\")\n",
    "print(f\"e1={calibrated_shear_amc[0,0]:.6f}, e2={calibrated_shear_amc[1,0]:.6f}.\")\n",
    "\n",
    "print(\"\\nngmix shear estimation over 1k\")\n",
    "print(f\"e1={calibrated_shear_ngmix[0]:.6f}, e2={calibrated_shear_ngmix[1]:.6f}.\")"
   ]
  },
  {
   "cell_type": "code",
   "execution_count": null,
   "id": "31238960-ce80-4090-83f5-5ea2d45a8f1d",
   "metadata": {},
   "outputs": [],
   "source": [
    "m1_amc =  calibrated_shear_amc[0,0]/real_shear[0] -1 \n",
    "m1_amc_err = calibrated_shear_amc_err[0,0]/real_shear[0]\n",
    "\n",
    "print(\"Autometacal:\")\n",
    "print(f\"m_1 = {m1_amc: .6f} +/- {m1_amc_err: .6f}\")\n",
    "\n",
    "m1_ngmix =  calibrated_shear_ngmix[0]/real_shear[0] -1 \n",
    "m1_ngmix_err = calibrated_shear_ngmix_err[0]/real_shear[0]\n",
    "print(\"\\nngmix:\")\n",
    "print(f\"m_1 = {m1_ngmix: .6f} +/- {m1_ngmix_err: .6f}\")"
   ]
  },
  {
   "cell_type": "code",
   "execution_count": null,
   "id": "08f3d943-5a02-47be-abcb-1a11f5f76584",
   "metadata": {},
   "outputs": [],
   "source": []
  }
 ],
 "metadata": {
  "kernelspec": {
   "display_name": "Python 3",
   "language": "python",
   "name": "python3"
  },
  "language_info": {
   "codemirror_mode": {
    "name": "ipython",
    "version": 3
   },
   "file_extension": ".py",
   "mimetype": "text/x-python",
   "name": "python",
   "nbconvert_exporter": "python",
   "pygments_lexer": "ipython3",
   "version": "3.8.8"
  }
 },
 "nbformat": 4,
 "nbformat_minor": 5
}
