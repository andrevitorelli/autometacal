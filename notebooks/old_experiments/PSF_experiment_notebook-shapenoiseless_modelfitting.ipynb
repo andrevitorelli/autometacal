{
 "cells": [
  {
   "cell_type": "markdown",
   "id": "641295d1-11d6-4530-bfcb-6cfce654a256",
   "metadata": {},
   "source": [
    "# PSF Experiment Notebook - Galaxies w/o shape noise"
   ]
  },
  {
   "cell_type": "markdown",
   "id": "6108fb88-795c-451c-bbe9-bae50cc74fa8",
   "metadata": {},
   "source": [
    "This notebook contains the basic PSF test\n",
    "\n",
    "2. Can AutoMetaCal perform better than ngmix by using the input PSFs for reconv? Using the PSF response...\n"
   ]
  },
  {
   "cell_type": "code",
   "execution_count": 1,
   "id": "62f484bc-7342-4ced-9fc1-d909da447991",
   "metadata": {},
   "outputs": [
    {
     "name": "stdout",
     "output_type": "stream",
     "text": [
      "Populating the interactive namespace from numpy and matplotlib\n"
     ]
    }
   ],
   "source": [
    "%pylab inline"
   ]
  },
  {
   "cell_type": "code",
   "execution_count": 2,
   "id": "b1a8187a-5c2a-4ff8-8aec-854df3876842",
   "metadata": {},
   "outputs": [
    {
     "name": "stderr",
     "output_type": "stream",
     "text": [
      "<frozen importlib._bootstrap>:219: RuntimeWarning: scipy._lib.messagestream.MessageStream size changed, may indicate binary incompatibility. Expected 56 from C header, got 64 from PyObject\n"
     ]
    }
   ],
   "source": [
    "import os\n",
    "os.environ[\"CUDA_VISIBLE_DEVICES\"] = \"0\"\n",
    "import tqdm\n",
    "\n",
    "import autometacal as amc\n",
    "import tensorflow_datasets as tfds\n",
    "import tensorflow as tf\n",
    "import galflow as gf\n",
    "import galsim\n",
    "import ngmix\n",
    "\n",
    "from multiprocessing import Pool, freeze_support, cpu_count"
   ]
  },
  {
   "cell_type": "markdown",
   "id": "32f9346b-c409-4641-ad87-0495bac23c04",
   "metadata": {},
   "source": [
    "## Test setup"
   ]
  },
  {
   "cell_type": "code",
   "execution_count": 3,
   "id": "a523a9cc-b39d-4c2d-8c0c-6970418ea227",
   "metadata": {},
   "outputs": [],
   "source": [
    "#global values\n",
    "fixnoise = True\n",
    "batch_size=1200\n",
    "scale= .2\n",
    "stamp_size = 51\n",
    "rng = np.random.RandomState(31415)\n",
    "real_shear = [0.01,0.0]\n",
    "noise_level = 1e-4"
   ]
  },
  {
   "cell_type": "markdown",
   "id": "8d6f99bc-f55a-464a-b2ed-ce1708027d9a",
   "metadata": {},
   "source": [
    "## Data"
   ]
  },
  {
   "cell_type": "code",
   "execution_count": 4,
   "id": "1370720d-c5d2-444e-878e-08682a376d06",
   "metadata": {},
   "outputs": [],
   "source": [
    "#dataset\n",
    "data= tfds.load('simple/small_100k_noshear')\n",
    "data = data['train'].cache()\n",
    "data = data.batch(batch_size)\n",
    "data = data.prefetch(tf.data.experimental.AUTOTUNE)"
   ]
  },
  {
   "cell_type": "markdown",
   "id": "b0199d6f-8733-4144-8a1e-318424d6b9cb",
   "metadata": {},
   "source": [
    "Display a range of galaxy models:"
   ]
  },
  {
   "cell_type": "code",
   "execution_count": 5,
   "id": "d83b9e0c-4da1-426c-a870-1c007c6fa9e1",
   "metadata": {},
   "outputs": [],
   "source": [
    "batchit = data.as_numpy_iterator()\n",
    "onebatch = batchit.next()\n",
    "labels = onebatch['label'] "
   ]
  },
  {
   "cell_type": "code",
   "execution_count": 6,
   "id": "0891ed47-ccb0-4417-8af2-ae5395c65502",
   "metadata": {},
   "outputs": [
    {
     "data": {
      "image/png": "[encoded data removed]",
      "text/plain": [
       "<Figure size 1000x1000 with 16 Axes>"
      ]
     },
     "metadata": {},
     "output_type": "display_data"
    }
   ],
   "source": [
    "batchit = data.as_numpy_iterator()\n",
    "onebatch = batchit.next()\n",
    "gal_images = onebatch['gal_model'] \n",
    "labels = onebatch['label'] \n",
    "style.use('default')\n",
    "figure(figsize=(10,10))\n",
    "for i in range(16):\n",
    "  subplot(4,4,i+1)\n",
    "  imshow(gal_images[i],origin='lower')\n",
    "  title(f\"e1= {labels[i][0]:.4f},e2={labels[i][1]:.4f}\",fontsize=10)\n",
    "  axis('off')"
   ]
  },
  {
   "cell_type": "markdown",
   "id": "b57effa1-336c-421a-bf18-9cff801573f9",
   "metadata": {},
   "source": [
    "We transform these models by:\n",
    "1. Adding a constant shear\n",
    "3. Convolving with a PSF\n",
    "2. Adding some noise\n",
    "\n",
    "Both 1 and 2 are taken care by the noiseless_real_mcal_image function developed for the LearnR project."
   ]
  },
  {
   "cell_type": "code",
   "execution_count": 7,
   "id": "446abd93-b82b-4372-91c5-4ecea9f23cc7",
   "metadata": {},
   "outputs": [],
   "source": [
    "#create 1 batch of observed images\n",
    "psf_fwhm = 0.7\n",
    "psf = galsim.Moffat(beta=5.0, fwhm=psf_fwhm).shear(g1=.01,g2=.0)\n",
    "psf_image = tf.convert_to_tensor(psf.drawImage(nx=stamp_size, ny=stamp_size, scale=scale).array)[tf.newaxis]\n",
    "psf_images = tf.repeat(psf_image,batch_size,axis=0)\n",
    "\n",
    "gal_images=amc.noiseless_real_mcal_image(onebatch['gal_model'],\n",
    "                                         psf_images,\n",
    "                                         tf.repeat([real_shear],\n",
    "                                        len(onebatch['gal_model']),axis=0))\n",
    "\n",
    "noise = np.random.normal(scale=noise_level,size=[batch_size,51,51])\n",
    "gal_images += noise\n",
    "psf_noise = np.random.normal(scale=noise_level,size=[batch_size,51,51])/1e3\n",
    "psf_images += psf_noise\n",
    "\n",
    "wt = tf.reduce_mean(1.0/(noise)**2,axis=0).numpy()\n",
    "psf_wt = tf.reduce_mean(1.0/(psf_noise)**2,axis=0).numpy()"
   ]
  },
  {
   "cell_type": "code",
   "execution_count": 8,
   "id": "d5deddd9-b6f9-400e-bfe9-aa00004e3ed6",
   "metadata": {},
   "outputs": [
    {
     "data": {
      "text/plain": [
       "\u001b[0;31mSignature:\u001b[0m \u001b[0mamc\u001b[0m\u001b[0;34m.\u001b[0m\u001b[0mnoiseless_real_mcal_image\u001b[0m\u001b[0;34m(\u001b[0m\u001b[0mgal_images\u001b[0m\u001b[0;34m,\u001b[0m \u001b[0mpsf_images\u001b[0m\u001b[0;34m,\u001b[0m \u001b[0mg\u001b[0m\u001b[0;34m)\u001b[0m\u001b[0;34m\u001b[0m\u001b[0;34m\u001b[0m\u001b[0m\n",
       "\u001b[0;31mDocstring:\u001b[0m\n",
       "Shear a galaxy model and convolve with a PSF.\n",
       "Args: \n",
       "  gal_images: tf.Tensor or np.array\n",
       "    (batch_size, N, N ) image of models of galaxies\n",
       "  psf_images: tf.Tensor or np.array\n",
       "    (batch_size, N, N ) image of psf model\n",
       "  g: tf.Tensor or np.array\n",
       "  [batch_size, 2] input shear\n",
       "Returns:\n",
       "  img: tf.Tensor\n",
       "    tf tensor containing image of galaxy after deconvolution by psf_deconv, \n",
       "    shearing by g, and reconvolution with reconvolution_psf_image.\n",
       "\u001b[0;31mFile:\u001b[0m      ~/github/autometacal/autometacal/python/utils.py\n",
       "\u001b[0;31mType:\u001b[0m      function\n"
      ]
     },
     "metadata": {},
     "output_type": "display_data"
    }
   ],
   "source": [
    "amc.noiseless_real_mcal_image?"
   ]
  },
  {
   "cell_type": "code",
   "execution_count": 9,
   "id": "3cc3f68d-d73d-448a-aed0-6f04d1062a3a",
   "metadata": {},
   "outputs": [
    {
     "data": {
      "image/png": "[encoded data removed]",
      "text/plain": [
       "<Figure size 1000x1000 with 16 Axes>"
      ]
     },
     "metadata": {},
     "output_type": "display_data"
    }
   ],
   "source": [
    "batchit = data.as_numpy_iterator()\n",
    "onebatch = batchit.next()\n",
    "style.use('default')\n",
    "figure(figsize=(10,10))\n",
    "for i in range(16):\n",
    "  subplot(4,4,i+1)\n",
    "  imshow(gal_images[i],origin= 'lower')\n",
    "  axis('off')"
   ]
  },
  {
   "cell_type": "markdown",
   "id": "ad5fc570-383d-4abf-9f20-b6a7315ab7dc",
   "metadata": {},
   "source": [
    "## One Batch Test!"
   ]
  },
  {
   "cell_type": "markdown",
   "id": "2e40492b-4a99-43e8-b884-eebb4fcc7ef3",
   "metadata": {},
   "source": [
    "## Model Fitting"
   ]
  },
  {
   "cell_type": "code",
   "execution_count": 10,
   "id": "c4f8b656-8f08-4b79-8c8d-91b35704b989",
   "metadata": {},
   "outputs": [],
   "source": [
    "def get_metacal_response_ngmix(resdict):\n",
    "  step=0.01\n",
    "\n",
    "  #shear\n",
    "  g0s = np.array([resdict['noshear']['g'][0], resdict['noshear']['g'][1]])\n",
    "  g1p = np.array([resdict['1p']['g'][0], resdict['1p']['g'][1]])\n",
    "  g1m = np.array([resdict['1m']['g'][0], resdict['1m']['g'][1]])\n",
    "  g2p = np.array([resdict['2p']['g'][0], resdict['2p']['g'][1]])\n",
    "  g2m = np.array([resdict['2m']['g'][0], resdict['2m']['g'][1]])    \n",
    "  \n",
    "  R11 = (g1p[0]-g1m[0])/(2*step)\n",
    "  R21 = (g1p[1]-g1m[1])/(2*step) \n",
    "  R12 = (g2p[0]-g2m[0])/(2*step)\n",
    "  R22 = (g2p[1]-g2m[1])/(2*step)\n",
    "  \n",
    "  R = np.array(\n",
    "    [[R11,R12],\n",
    "     [R21,R22]])\n",
    "  \n",
    "  if '1p_psf' in resdict.keys():\n",
    "    #PSF\n",
    "    g1p_psf = np.array([resdict['1p_psf']['g'][0], resdict['1p_psf']['g'][1]])\n",
    "    g1m_psf = np.array([resdict['1m_psf']['g'][0], resdict['1m_psf']['g'][1]])\n",
    "    g2p_psf = np.array([resdict['2p_psf']['g'][0], resdict['2p_psf']['g'][1]])\n",
    "    g2m_psf = np.array([resdict['2m_psf']['g'][0], resdict['2m_psf']['g'][1]])    \n",
    "\n",
    "    R11_psf = (g1p_psf[0]-g1m_psf[0])/(2*step)\n",
    "    R21_psf = (g1p_psf[1]-g1m_psf[1])/(2*step) \n",
    "    R12_psf = (g2p_psf[0]-g2m_psf[0])/(2*step)\n",
    "    R22_psf = (g2p_psf[1]-g2m_psf[1])/(2*step)  \n",
    "\n",
    "    ellip_dict = {\n",
    "      'noshear':g0s,\n",
    "      '1p':g1p,\n",
    "      '1m':g1m,\n",
    "      '2p':g2p,\n",
    "      '2m':g2m,\n",
    "      '1p_psf':g1p_psf,\n",
    "      '1m_psf':g1m_psf,\n",
    "      '2p_psf':g2p_psf,\n",
    "      '2m_psf':g2m_psf,    \n",
    "    } \n",
    "\n",
    "    Rpsf = np.array(\n",
    "      [[R11_psf,R12_psf],\n",
    "       [R21_psf,R22_psf]])\n",
    "    return ellip_dict, R, Rpsf\n",
    "  else:\n",
    "    ellip_dict = {\n",
    "      'noshear':g0s,\n",
    "      '1p':g1p,\n",
    "      '1m':g1m,\n",
    "      '2p':g2p,\n",
    "      '2m':g2m, \n",
    "    }\n",
    "    return ellip_dict, R   "
   ]
  },
  {
   "cell_type": "markdown",
   "id": "6da16184-be6f-45f3-989c-146f955a00de",
   "metadata": {},
   "source": [
    "## Set ngmix jacobian"
   ]
  },
  {
   "cell_type": "code",
   "execution_count": 11,
   "id": "3cec10a7-b96b-4185-aa5a-071f29fdef47",
   "metadata": {},
   "outputs": [],
   "source": [
    "#set up jacobian\n",
    "jacobian = ngmix.DiagonalJacobian(\n",
    "  row=stamp_size//2, \n",
    "  col=stamp_size//2,\n",
    "  scale=scale,\n",
    ")\n",
    "psf_jacobian = ngmix.DiagonalJacobian(\n",
    "  row=stamp_size//2, \n",
    "  col=stamp_size//2,\n",
    "  scale=scale,\n",
    ")"
   ]
  },
  {
   "cell_type": "markdown",
   "id": "f027ed30-793c-4a8b-950f-d0ae18ad1994",
   "metadata": {
    "tags": []
   },
   "source": [
    "### Set priors for ngmix"
   ]
  },
  {
   "cell_type": "code",
   "execution_count": 12,
   "id": "e6f61281-88d6-4551-9247-01acd45d79d8",
   "metadata": {},
   "outputs": [],
   "source": [
    "T_range = [-1.0, 10.]\n",
    "F_range = [-1.0, 2.]\n",
    "\n",
    "g_prior = ngmix.priors.GPriorBA(sigma=0.1, rng=rng)\n",
    "cen_prior = ngmix.priors.CenPrior(\n",
    "    cen1=0, cen2=0, sigma1=scale, sigma2=scale, rng=rng,\n",
    ")\n",
    "T_prior = ngmix.priors.FlatPrior(minval=T_range[0], maxval=T_range[1], rng=rng)\n",
    "F_prior = ngmix.priors.FlatPrior(minval=F_range[0], maxval=F_range[1], rng=rng)\n",
    "\n",
    "prior = ngmix.joint_prior.PriorSimpleSep(\n",
    "    cen_prior=cen_prior,\n",
    "    g_prior=g_prior,\n",
    "    T_prior=T_prior,\n",
    "    F_prior=F_prior,\n",
    ")"
   ]
  },
  {
   "cell_type": "markdown",
   "id": "b537813d-718c-4d27-88bd-3cc22329ac6b",
   "metadata": {},
   "source": [
    "### Set fitters/runners for ngmix"
   ]
  },
  {
   "cell_type": "code",
   "execution_count": 13,
   "id": "6ac0543a-5906-42cb-bfb3-3621923cec54",
   "metadata": {},
   "outputs": [],
   "source": [
    "# fit using the levenberg marquards algorithm\n",
    "fitter = ngmix.fitting.Fitter(model='exp', prior=prior)\n",
    "# make parameter guesses based on a psf flux and a rough T\n",
    "guesser = ngmix.guessers.TPSFFluxAndPriorGuesser(\n",
    "    rng=rng,\n",
    "    T=.25,\n",
    "    prior=prior,\n",
    ")\n",
    "\n",
    "# psf fitting with coelliptical gaussians\n",
    "psf_ngauss = 1\n",
    "psf_fitter = ngmix.fitting.CoellipFitter(ngauss=psf_ngauss)\n",
    "# special guesser for coelliptical gaussians\n",
    "psf_guesser = ngmix.guessers.CoellipPSFGuesser(rng=rng, ngauss=psf_ngauss)\n",
    "\n",
    "# this runs the fitter. We set ntry=2 to retry the fit if it fails\n",
    "psf_runner = ngmix.runners.PSFRunner(\n",
    "    fitter=psf_fitter, guesser=psf_guesser,\n",
    "    ntry=10,\n",
    ")\n",
    "runner = ngmix.runners.Runner(\n",
    "    fitter=fitter, guesser=guesser,\n",
    "    ntry=10,\n",
    ")"
   ]
  },
  {
   "cell_type": "markdown",
   "id": "f2f85e59-a8ff-4a3a-91bb-75d41080fc5f",
   "metadata": {},
   "source": [
    "## Set ngmix bootstrapper"
   ]
  },
  {
   "cell_type": "code",
   "execution_count": 14,
   "id": "5e032ac9-0a7a-4f9b-a655-8a8119f7bac8",
   "metadata": {},
   "outputs": [],
   "source": [
    "METACAL_TYPES = ['noshear',\n",
    "                 '1p','1m','2p','2m','1p_psf','1m_psf','2p_psf','2m_psf']\n",
    "boot = ngmix.metacal.MetacalBootstrapper(\n",
    "  runner=runner, psf_runner=psf_runner,\n",
    "  rng=rng,\n",
    "  psf='dilate',\n",
    "  types=METACAL_TYPES,\n",
    "  fixnoise=fixnoise,\n",
    ")"
   ]
  },
  {
   "cell_type": "code",
   "execution_count": 15,
   "id": "ac5ce79f-60a4-453e-955c-0d70921b9765",
   "metadata": {},
   "outputs": [],
   "source": [
    "T_range = [-1.0, 10.]\n",
    "F_range = [-1.0, 2.]\n",
    "\n",
    "g_prior = ngmix.priors.GPriorBA(sigma=0.1, rng=rng)\n",
    "cen_prior = ngmix.priors.CenPrior(\n",
    "    cen1=0, cen2=0, sigma1=scale, sigma2=scale, rng=rng,\n",
    ")\n",
    "T_prior = ngmix.priors.FlatPrior(minval=T_range[0], maxval=T_range[1], rng=rng)\n",
    "F_prior = ngmix.priors.FlatPrior(minval=F_range[0], maxval=F_range[1], rng=rng)\n",
    "\n",
    "prior = ngmix.joint_prior.PriorSimpleSep(\n",
    "    cen_prior=cen_prior,\n",
    "    g_prior=g_prior,\n",
    "    T_prior=T_prior,\n",
    "    F_prior=F_prior,\n",
    ")\n",
    "\n",
    "# fit using the levenberg marquards algorithm\n",
    "fitter = ngmix.fitting.Fitter(model='exp', prior=prior)\n",
    "# make parameter guesses based on a psf flux and a rough T\n",
    "guesser = ngmix.guessers.TPSFFluxAndPriorGuesser(\n",
    "    rng=rng,\n",
    "    T=.25,\n",
    "    prior=prior,\n",
    ")\n",
    "\n",
    "# psf fitting with coelliptical gaussians\n",
    "psf_ngauss = 1\n",
    "psf_fitter = ngmix.fitting.CoellipFitter(ngauss=psf_ngauss)\n",
    "# special guesser for coelliptical gaussians\n",
    "psf_guesser = ngmix.guessers.CoellipPSFGuesser(rng=rng, ngauss=psf_ngauss)\n",
    "\n",
    "# this runs the fitter. We set ntry=2 to retry the fit if it fails\n",
    "psf_runner = ngmix.runners.PSFRunner(\n",
    "    fitter=psf_fitter, guesser=psf_guesser,\n",
    "    ntry=10,\n",
    ")\n",
    "runner = ngmix.runners.Runner(\n",
    "    fitter=fitter, guesser=guesser,\n",
    "    ntry=10,\n",
    ")\n",
    "\n",
    "# this bootstraps the process, first fitting psfs then the object\n",
    "boot = ngmix.bootstrap.Bootstrapper(\n",
    "    runner=runner,\n",
    "    psf_runner=psf_runner,\n",
    ")\n",
    "\n",
    "METACAL_TYPES = ['noshear',\n",
    "                 '1p','1m','2p','2m',]#'1p_psf','1m_psf','2p_psf','2m_psf']\n",
    "boot = ngmix.metacal.MetacalBootstrapper(\n",
    "  runner=runner, psf_runner=psf_runner,\n",
    "  rng=rng,\n",
    "  psf='gauss',\n",
    "  types=METACAL_TYPES,\n",
    "  fixnoise=fixnoise,\n",
    ")"
   ]
  },
  {
   "cell_type": "markdown",
   "id": "7268383f-97aa-4bc0-91e7-ac4c4cbcf13e",
   "metadata": {},
   "source": [
    "## Run ngmix"
   ]
  },
  {
   "cell_type": "code",
   "execution_count": 16,
   "id": "59d44f15-473b-44ab-a83f-d768491eb51b",
   "metadata": {},
   "outputs": [],
   "source": [
    "#parallelization wrappre\n",
    "def ngmix_runner(im_psf):\n",
    "  im, psf_im = im_psf\n",
    "  psf_obs = ngmix.Observation(\n",
    "    psf_im,\n",
    "    weight=psf_wt,\n",
    "    jacobian=psf_jacobian,\n",
    "  )\n",
    "  \n",
    "  obs = ngmix.Observation(\n",
    "    im,\n",
    "    jacobian=jacobian,\n",
    "    weight=wt,\n",
    "    psf=psf_obs,\n",
    "  )\n",
    "  \n",
    "  #get moment ellipticities\n",
    "  resdict, obsdict = boot.go(obs)\n",
    "  e_ngmix, R_ngmix,  = get_metacal_response_ngmix(resdict)\n",
    "  \n",
    "  return e_ngmix['noshear'], R_ngmix"
   ]
  },
  {
   "cell_type": "code",
   "execution_count": 17,
   "id": "32f04dc2-2854-436b-ab55-aae22dc426ce",
   "metadata": {},
   "outputs": [],
   "source": [
    "ims_psfs = zip([gal_images.numpy()[i] for i in range(len(gal_images))],\n",
    "               [psf_images.numpy()[i] for i in range(len(gal_images))])"
   ]
  },
  {
   "cell_type": "code",
   "execution_count": 18,
   "id": "903c4fb5-deba-42ae-9fb6-4d76acd3b0a0",
   "metadata": {},
   "outputs": [
    {
     "name": "stdout",
     "output_type": "stream",
     "text": [
      "Finished in: 20.768118858337402 s.\n"
     ]
    }
   ],
   "source": [
    "t = time.time()\n",
    "pool = Pool(cpu_count()//2)\n",
    "results = pool.map(ngmix_runner, ims_psfs)\n",
    "pool.close()\n",
    "print(f\"Finished in: {time.time()-t} s.\")"
   ]
  },
  {
   "cell_type": "code",
   "execution_count": 19,
   "id": "e0b3e0e1-0722-454c-97ab-27e7957a8725",
   "metadata": {},
   "outputs": [],
   "source": [
    "ellips = array([result[0] for result in results])\n",
    "R_ngmix = array([result[1] for result in results])"
   ]
  },
  {
   "cell_type": "code",
   "execution_count": 20,
   "id": "5f899722-29b8-4cc1-9e60-bdd552945d6a",
   "metadata": {},
   "outputs": [
    {
     "data": {
      "text/plain": [
       "array([[[ 1.03116581,  0.02171386],\n",
       "        [ 0.08118563,  1.00455684]],\n",
       "\n",
       "       [[ 1.02636543,  0.0246648 ],\n",
       "        [ 0.09498672,  0.93779917]],\n",
       "\n",
       "       [[ 1.00537452, -0.03770325],\n",
       "        [ 0.09303771,  1.003954  ]],\n",
       "\n",
       "       ...,\n",
       "\n",
       "       [[ 0.96697194,  0.04377098],\n",
       "        [-0.083237  ,  1.08208981]],\n",
       "\n",
       "       [[ 1.0526799 ,  0.01889685],\n",
       "        [ 0.03319499,  1.02205137]],\n",
       "\n",
       "       [[ 1.00087786,  0.02864579],\n",
       "        [-0.16687973,  1.02886866]]])"
      ]
     },
     "execution_count": 20,
     "metadata": {},
     "output_type": "execute_result"
    }
   ],
   "source": [
    "R_ngmix"
   ]
  },
  {
   "cell_type": "code",
   "execution_count": 21,
   "id": "adef0027-ae1c-4646-afdc-300441379a92",
   "metadata": {},
   "outputs": [
    {
     "data": {
      "text/plain": [
       "array([0.01060825, 0.007244  ])"
      ]
     },
     "execution_count": 21,
     "metadata": {},
     "output_type": "execute_result"
    }
   ],
   "source": [
    "calibrated_shear= mean(linalg.inv(R_ngmix),axis=0) @ mean(ellips,axis=0)\n",
    "calibrated_shear"
   ]
  },
  {
   "cell_type": "code",
   "execution_count": 22,
   "id": "321067c8-c58c-4dea-9a10-5062cd09987e",
   "metadata": {},
   "outputs": [
    {
     "data": {
      "image/png": "[encoded data removed]",
      "text/plain": [
       "<Figure size 640x480 with 1 Axes>"
      ]
     },
     "metadata": {},
     "output_type": "display_data"
    }
   ],
   "source": [
    "hist(ellips[:,0],bins=50);\n",
    "hist(ellips[:,1],bins=50);"
   ]
  },
  {
   "cell_type": "markdown",
   "id": "91778bc3-1be1-4998-97e8-0e9d33acb3c9",
   "metadata": {},
   "source": [
    "## AutoMetaCal"
   ]
  },
  {
   "cell_type": "markdown",
   "id": "c6846ed5-5691-46b6-ac06-cf1021785716",
   "metadata": {},
   "source": [
    "### New functions with PSF response"
   ]
  },
  {
   "cell_type": "code",
   "execution_count": 23,
   "id": "c3072c1a-89e4-48e5-90d2-ebcd7932d05e",
   "metadata": {},
   "outputs": [],
   "source": [
    "def generate_mcal_image(gal_images,\n",
    "                        psf_images,\n",
    "                        reconvolution_psf_image,\n",
    "                        g, gp,\n",
    "                        padfactor=3):\n",
    "  \"\"\" Generate a metacalibrated image given input and target PSFs.\n",
    "  \n",
    "  Args: \n",
    "    gal_images: tf.Tensor or np.array\n",
    "      (batch_size, N, N ) image of galaxies\n",
    "    psf_images: tf.Tensor or np.array\n",
    "      (batch_size, N, N ) image of psf model\n",
    "    reconvolution_psf_image: tf.Tensor\n",
    "      (N, N ) tensor of reconvolution psf model\n",
    "    g: tf.Tensor or np.array\n",
    "    [batch_size, 2] input shear\n",
    "  Returns:\n",
    "    img: tf.Tensor\n",
    "      tf tensor containing image of galaxy after deconvolution by psf_deconv, \n",
    "      shearing by g, and reconvolution with reconvolution_psf_image.\n",
    "  \n",
    "  \"\"\"\n",
    "  #cast stuff as float32 tensors\n",
    "  gal_images = tf.convert_to_tensor(gal_images, dtype=tf.float32)  \n",
    "  psf_images = tf.convert_to_tensor(psf_images, dtype=tf.float32)  \n",
    "  reconvolution_psf_image = tf.convert_to_tensor(reconvolution_psf_image, dtype=tf.float32)  \n",
    "  g = tf.convert_to_tensor(g, dtype=tf.float32)  \n",
    "  \n",
    "  #Get batch info\n",
    "  batch_size, nx, ny = gal_images.get_shape().as_list()  \n",
    "      \n",
    "  #add pads in real space\n",
    "  fact = (padfactor - 1)//2 #how many image sizes to one direction\n",
    "  paddings = tf.constant([[0, 0,], [nx*fact, nx*fact], [ny*fact, ny*fact]])\n",
    "    \n",
    "  padded_gal_images = tf.pad(gal_images,paddings)\n",
    "  padded_psf_images = tf.pad(psf_images,paddings)\n",
    "  padded_reconvolution_psf_image = tf.pad(reconvolution_psf_image,paddings)\n",
    "    \n",
    "  #Convert galaxy images to k space\n",
    "  im_shift = tf.signal.ifftshift(padded_gal_images,axes=[1,2]) # The ifftshift is to remove the phase for centered objects\n",
    "  im_complex = tf.cast(im_shift, tf.complex64)\n",
    "  im_fft = tf.signal.fft2d(im_complex)\n",
    "  imk = tf.signal.fftshift(im_fft, axes=[1,2])#the fftshift is to put the 0 frequency at the center of the k image\n",
    "  \n",
    "  #Convert psf images to k space  \n",
    "  psf_complex = tf.cast(padded_psf_images, tf.complex64)\n",
    "  psf_fft = tf.signal.fft2d(psf_complex)\n",
    "  psf_fft_abs = tf.abs(psf_fft)\n",
    "  psf_fft_abs_complex = tf.cast(psf_fft_abs,tf.complex64)\n",
    "  kpsf = tf.signal.fftshift(psf_fft_abs_complex,axes=[1,2])\n",
    "\n",
    "  #Convert reconvolution psf image to k space \n",
    "  rpsf_complex = tf.cast(padded_reconvolution_psf_image, tf.complex64)\n",
    "  rpsf_fft =  tf.signal.fft2d(rpsf_complex)\n",
    "  rpsf_fft_abs = tf.abs(rpsf_fft)\n",
    "  psf_fft_abs_complex = tf.cast(rpsf_fft_abs,tf.complex64)\n",
    "  krpsf = tf.signal.fftshift(psf_fft_abs_complex,axes=[1,2])\n",
    "\n",
    "  # Compute Fourier mask for high frequencies\n",
    "  # careful, this is not exactly the correct formula for fftfreq\n",
    "  kx, ky = tf.meshgrid(tf.linspace(-0.5,0.5,padfactor*nx),\n",
    "                       tf.linspace(-0.5,0.5,padfactor*ny))\n",
    "  mask = tf.cast(tf.math.sqrt(kx**2 + ky**2) <= 0.5, dtype='complex64')\n",
    "  mask = tf.expand_dims(mask, axis=0)\n",
    "  \n",
    "  # Deconvolve image from input PSF\n",
    "  im_deconv = imk * ( (1./(kpsf+1e-10))*mask)\n",
    "\n",
    "  # Apply shear to the  deconv image\n",
    "  im_sheared = gf.shear(tf.expand_dims(im_deconv,-1), g[...,0], g[...,1])[...,0]  \n",
    "\n",
    "  # Apply shear to the  kpsf image\n",
    "  kpsf_sheared = gf.shear(tf.expand_dims(krpsf,-1), gp[...,0], gp[...,1])[...,0]    \n",
    "  \n",
    "  # Reconvolve with target PSF\n",
    "  im_reconv = tf.signal.ifft2d(tf.signal.ifftshift(im_sheared * kpsf_sheared * mask))\n",
    "\n",
    "  # Compute inverse Fourier transform\n",
    "  img = tf.math.real(tf.signal.fftshift(im_reconv))\n",
    "  return img[:,fact*nx:-fact*nx,fact*ny:-fact*ny]\n",
    "\n",
    "\n"
   ]
  },
  {
   "cell_type": "code",
   "execution_count": 24,
   "id": "963e7ec7-9f0b-4b8b-843d-067a802d83d2",
   "metadata": {},
   "outputs": [],
   "source": [
    "def get_metacal_response(gal_images,\n",
    "                         psf_images,\n",
    "                         reconvolution_psf_image,\n",
    "                         method):\n",
    "  \"\"\"\n",
    "  Convenience function to compute the shear response\n",
    "  \"\"\"  \n",
    "  gal_images = tf.convert_to_tensor(gal_images, dtype=tf.float32)\n",
    "  psf_images = tf.convert_to_tensor(psf_images, dtype=tf.float32)\n",
    "  batch_size, _ , _ = gal_images.get_shape().as_list()\n",
    "  gs = tf.zeros([batch_size, 4])\n",
    "  epsf = method(reconvolution_psf_image)\n",
    "  with tf.GradientTape() as tape:\n",
    "    tape.watch(gs)\n",
    "    # Measure ellipticity under metacal\n",
    "    e = method(generate_mcal_image(gal_images,\n",
    "                                   psf_images,\n",
    "                                   psf_images,\n",
    "                                   gs[:,0:2],gs[:,2:4]))\n",
    "    \n",
    "  # Compute response matrix\n",
    "\n",
    "  Rs = tape.batch_jacobian(e, gs)\n",
    "  R, Rpsf = Rs[...,0:2], Rs[...,2:4]\n",
    "  return e, epsf, R, Rpsf"
   ]
  },
  {
   "cell_type": "code",
   "execution_count": 25,
   "id": "6e4dbb8a-3859-4c85-b552-153dc878a931",
   "metadata": {},
   "outputs": [],
   "source": [
    "#AutoMetaCal runner\n",
    "method = lambda im: amc.get_moment_ellipticities(im, scale=0.2, fwhm=1.2)\n",
    "\n",
    "#for amc\n",
    "@tf.function\n",
    "def response(gal_images,psf_images):\n",
    "  return get_metacal_response(gal_images, psf_images,psf_images,method)"
   ]
  },
  {
   "cell_type": "code",
   "execution_count": null,
   "id": "08e2a6ae-3f12-4ded-a73c-34b5b12d6497",
   "metadata": {},
   "outputs": [],
   "source": []
  },
  {
   "cell_type": "code",
   "execution_count": null,
   "id": "401761ea-d908-4833-920d-94f2cdba0a71",
   "metadata": {},
   "outputs": [],
   "source": []
  }
 ],
 "metadata": {
  "kernelspec": {
   "display_name": "Python 3",
   "language": "python",
   "name": "python3"
  },
  "language_info": {
   "codemirror_mode": {
    "name": "ipython",
    "version": 3
   },
   "file_extension": ".py",
   "mimetype": "text/x-python",
   "name": "python",
   "nbconvert_exporter": "python",
   "pygments_lexer": "ipython3",
   "version": "3.8.12"
  }
 },
 "nbformat": 4,
 "nbformat_minor": 5
}
