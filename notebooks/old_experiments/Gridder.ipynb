{
 "cells": [
  {
   "cell_type": "markdown",
   "id": "98ba98b8-09c6-4c36-bbba-e17e92a4f379",
   "metadata": {},
   "source": [
    "# Perspective Transforms"
   ]
  },
  {
   "cell_type": "code",
   "execution_count": 1,
   "id": "ab2eb4ac-7e17-426f-8cdb-5fe27c69925a",
   "metadata": {},
   "outputs": [
    {
     "name": "stdout",
     "output_type": "stream",
     "text": [
      "Populating the interactive namespace from numpy and matplotlib\n"
     ]
    }
   ],
   "source": [
    "%pylab inline"
   ]
  },
  {
   "cell_type": "code",
   "execution_count": 2,
   "id": "9fc38c2e-29f0-419c-a36c-68a57c8ae3d4",
   "metadata": {},
   "outputs": [],
   "source": [
    "import os\n",
    "os.environ[\"CUDA_VISIBLE_DEVICES\"] = \"-1\"\n",
    "import tensorflow as tf\n",
    "import galflow as gf\n",
    "from tensorflow_addons import image as tfa_image"
   ]
  },
  {
   "cell_type": "code",
   "execution_count": 3,
   "id": "04859d1b-c916-4ff8-b170-1f00f68f5943",
   "metadata": {},
   "outputs": [
    {
     "data": {
      "text/plain": [
       "<matplotlib.image.AxesImage at 0x7fe674075e20>"
      ]
     },
     "execution_count": 3,
     "metadata": {},
     "output_type": "execute_result"
    },
    {
     "data": {
      "image/png": "[encoded data removed]",
      "text/plain": [
       "<Figure size 432x288 with 1 Axes>"
      ]
     },
     "metadata": {
      "needs_background": "light"
     },
     "output_type": "display_data"
    }
   ],
   "source": [
    "from scipy.misc import face\n",
    "image = face(gray=True)[-512:-512+128,-512:-512+128].astype('float32')[0:51,0:51]\n",
    "image_tf = tf.convert_to_tensor(image.reshape([1,51,51, 1]))\n",
    "imshow(image_tf[0,...,0])"
   ]
  },
  {
   "cell_type": "code",
   "execution_count": 4,
   "id": "f44a117c-2a1b-4914-9008-00a2cd4271f8",
   "metadata": {},
   "outputs": [
    {
     "data": {
      "text/plain": [
       "<tf.Tensor: shape=(1, 3, 3), dtype=float32, numpy=\n",
       "array([[[ 1.1547005 , -0.57735026,  0.        ],\n",
       "        [-0.57735026,  1.1547005 ,  0.        ],\n",
       "        [ 0.        ,  0.        ,  1.        ]]], dtype=float32)>"
      ]
     },
     "execution_count": 4,
     "metadata": {},
     "output_type": "execute_result"
    }
   ],
   "source": [
    "\n",
    "g1 = tf.convert_to_tensor([0.0], dtype=tf.float32)\n",
    "g2 = tf.convert_to_tensor([0.5], dtype=tf.float32)\n",
    "gsqr = g1**2 + g2**2\n",
    "\n",
    "# Building a batched jacobian\n",
    "jac = tf.stack([ 1. + g1, g2,\n",
    "              g2, 1. - g1], axis=1) / tf.expand_dims(tf.sqrt(1.- gsqr),1)\n",
    "jac = tf.reshape(jac, [-1,2,2])\n",
    "\n",
    "# Inverting these jacobians to follow the TF definition\n",
    "\n",
    "jac = tf.linalg.inv(jac)\n",
    "jac = tf.pad(jac, tf.constant([[0, 0], [0, 1],[0,1]]) )\n",
    "jac = jac + tf.pad(tf.reshape(tf.ones_like(g1), [-1,1,1]), tf.constant([[0,0],[2,0],[2,0]]))\n",
    "jac"
   ]
  },
  {
   "cell_type": "code",
   "execution_count": 5,
   "id": "7cf87d1f-83a5-4a20-8c83-f700caa8c771",
   "metadata": {},
   "outputs": [
    {
     "data": {
      "text/plain": [
       "<tf.Tensor: shape=(1, 3, 3), dtype=float32, numpy=\n",
       "array([[[1.1547005 , 0.57735026, 0.        ],\n",
       "        [0.57735026, 1.1547005 , 0.        ],\n",
       "        [0.        , 0.        , 1.        ]]], dtype=float32)>"
      ]
     },
     "execution_count": 5,
     "metadata": {},
     "output_type": "execute_result"
    }
   ],
   "source": [
    "#If fourier\n",
    "g1 = tf.convert_to_tensor([0.0], dtype=tf.float32)\n",
    "g2 = tf.convert_to_tensor([0.5], dtype=tf.float32)\n",
    "gsqr = g1**2 + g2**2\n",
    "\n",
    "# Building a batched jacobian\n",
    "jac = tf.stack([ 1. + g1, g2,\n",
    "              g2, 1. - g1], axis=1) / tf.expand_dims(tf.sqrt(1.- gsqr),1)\n",
    "jac = tf.reshape(jac, [-1,2,2])\n",
    "\n",
    "# Inverting these jacobians to follow the TF definition\n",
    "\n",
    "jac =  tf.transpose(jac, [0,2,1])\n",
    "\n",
    "jac = tf.pad(jac, tf.constant([[0, 0], [0, 1],[0,1]]) )\n",
    "jac = jac + tf.pad(tf.reshape(tf.ones_like(g1), [-1,1,1]), tf.constant([[0,0],[2,0],[2,0]]))\n",
    "jac"
   ]
  },
  {
   "cell_type": "raw",
   "id": "275603ea-4930-4b7b-9e71-566ad59ad869",
   "metadata": {},
   "source": [
    "g1 = tf.convert_to_tensor([0.0], dtype=tf.float32)\n",
    "g2 = tf.convert_to_tensor([0.5], dtype=tf.float32)\n",
    "gsqr = g1**2 + g2**2\n",
    "\n",
    "# Building a batched jacobian\n",
    "jac = tf.stack([ 1. + g1, g2,\n",
    "              g2, 1. - g1], axis=1) / tf.expand_dims(tf.sqrt(1.- gsqr),1)\n",
    "jac = tf.reshape(jac, [-1,2,2])\n",
    "\n",
    "# Inverting these jacobians to follow the TF definition\n",
    "\n",
    "jac = tf.linalg.inv(jac)"
   ]
  },
  {
   "cell_type": "code",
   "execution_count": 6,
   "id": "7c8a9599-2926-4c8a-b6ba-a2f3baed07ea",
   "metadata": {},
   "outputs": [],
   "source": [
    "dtype = tf.float32\n",
    "zero = tf.cast(0.0, dtype)\n",
    "height, width = 51, 51"
   ]
  },
  {
   "cell_type": "code",
   "execution_count": 7,
   "id": "28ec233c-f37d-4f94-8bed-4c7b343631b8",
   "metadata": {},
   "outputs": [],
   "source": [
    "def newshear(img,g1,g2,interpolator='bernsteinquintic'):\n",
    "  \n",
    "  _ , nx, ny, _ = img.get_shape().as_list()\n",
    "  g1 = tf.convert_to_tensor(g1, dtype=tf.float32)\n",
    "  g2 = tf.convert_to_tensor(g2, dtype=tf.float32)\n",
    "  gsqr = g1**2 + g2**2\n",
    "\n",
    "  ddt = (1. + g1)*( 1. - g1) - g2**2\n",
    "  \n",
    "  # Building a batched jacobian\n",
    "  jac = tf.stack([ 1. + g1, g2,\n",
    "                g2, 1. - g1], axis=1) / tf.expand_dims(tf.sqrt(1.- gsqr),1)\n",
    "  jac = tf.reshape(jac, [-1,2,2]) \n",
    "\n",
    "  # Inverting these jacobians to follow the TF definition\n",
    "  \n",
    "  if  img.dtype ==  tf.complex64:\n",
    "    transform_matrix = tf.transpose(jac,[0,2,1])\n",
    "  else:\n",
    "    transform_matrix = tf.linalg.inv(jac)\n",
    "  \n",
    "  #define a grid at pixel positions\n",
    "  warp = tf.stack(tf.meshgrid(tf.linspace(0.,tf.cast(nx,tf.float32)-1.,nx), \n",
    "                              tf.linspace(0.,tf.cast(ny,tf.float32)-1.,ny)),axis=-1)[..., tf.newaxis]\n",
    "\n",
    "  #get center\n",
    "  center = tf.convert_to_tensor([[height/2],[width/2]],dtype=tf.float32)\n",
    "  \n",
    "  #displace center to origin\n",
    "  warp = warp - center\n",
    "  \n",
    "  #if fourier, no half pixel shift needed\n",
    "  if  img.dtype is not tf.complex64:\n",
    "    warp +=.5\n",
    "\n",
    "  #apply shear\n",
    "  warp = tf.matmul(transform_matrix[:, tf.newaxis, tf.newaxis, ...], warp)[...,0]\n",
    "\n",
    "  #return center\n",
    "  warp = warp + center[...,0] \n",
    " \n",
    "  #if fourier, no half pixel shift needed\n",
    "  if  img.dtype is not tf.complex64:\n",
    "    warp -=.5\n",
    "    \n",
    "    \n",
    "  #apply resampler\n",
    "  if img.dtype == tf.complex64:\n",
    "    a = tfa_image.resampler(tf.math.real(img),warp,'bernsteinquintic')\n",
    "    b = tfa_image.resampler(tf.math.imag(img),warp,'bernsteinquintic')\n",
    "    sheared = tf.complex(a,b)\n",
    "  else:\n",
    "    sheared = tfa_image.resampler(img,warp,'bernsteinquintic')\n",
    "  return sheared, warp"
   ]
  },
  {
   "cell_type": "code",
   "execution_count": 21,
   "id": "65e79a0d-23da-49ae-91fe-4a4e2feb58a5",
   "metadata": {},
   "outputs": [],
   "source": [
    "g1 = tf.repeat([0.],2)\n",
    "g2 = tf.repeat([0.],2)\n",
    "imgs = tf.repeat(image_tf,2,axis=0)\n",
    "#mysheared, warp = newshear(image_tf,g1,g2)\n",
    "gfsheared =gf.shear(imgs,g1,g2)#alter galflow transformation to return warps"
   ]
  },
  {
   "cell_type": "code",
   "execution_count": 14,
   "id": "85e8aebd-dd6a-4c6e-883d-f78a544838a9",
   "metadata": {
    "collapsed": true,
    "jupyter": {
     "outputs_hidden": true
    },
    "tags": []
   },
   "outputs": [
    {
     "data": {
      "text/plain": [
       "<tf.Tensor: shape=(2, 51, 51, 1), dtype=float32, numpy=\n",
       "array([[[[239.],\n",
       "         [238.],\n",
       "         [235.],\n",
       "         ...,\n",
       "         [241.],\n",
       "         [242.],\n",
       "         [242.]],\n",
       "\n",
       "        [[242.],\n",
       "         [240.],\n",
       "         [237.],\n",
       "         ...,\n",
       "         [243.],\n",
       "         [243.],\n",
       "         [244.]],\n",
       "\n",
       "        [[244.],\n",
       "         [242.],\n",
       "         [239.],\n",
       "         ...,\n",
       "         [242.],\n",
       "         [242.],\n",
       "         [243.]],\n",
       "\n",
       "        ...,\n",
       "\n",
       "        [[ 77.],\n",
       "         [ 73.],\n",
       "         [ 66.],\n",
       "         ...,\n",
       "         [106.],\n",
       "         [ 82.],\n",
       "         [ 68.]],\n",
       "\n",
       "        [[ 72.],\n",
       "         [ 70.],\n",
       "         [ 66.],\n",
       "         ...,\n",
       "         [107.],\n",
       "         [ 84.],\n",
       "         [ 72.]],\n",
       "\n",
       "        [[ 70.],\n",
       "         [ 71.],\n",
       "         [ 73.],\n",
       "         ...,\n",
       "         [ 90.],\n",
       "         [ 73.],\n",
       "         [ 66.]]],\n",
       "\n",
       "\n",
       "       [[[239.],\n",
       "         [238.],\n",
       "         [235.],\n",
       "         ...,\n",
       "         [241.],\n",
       "         [242.],\n",
       "         [242.]],\n",
       "\n",
       "        [[242.],\n",
       "         [240.],\n",
       "         [237.],\n",
       "         ...,\n",
       "         [243.],\n",
       "         [243.],\n",
       "         [244.]],\n",
       "\n",
       "        [[244.],\n",
       "         [242.],\n",
       "         [239.],\n",
       "         ...,\n",
       "         [242.],\n",
       "         [242.],\n",
       "         [243.]],\n",
       "\n",
       "        ...,\n",
       "\n",
       "        [[ 77.],\n",
       "         [ 73.],\n",
       "         [ 66.],\n",
       "         ...,\n",
       "         [106.],\n",
       "         [ 82.],\n",
       "         [ 68.]],\n",
       "\n",
       "        [[ 72.],\n",
       "         [ 70.],\n",
       "         [ 66.],\n",
       "         ...,\n",
       "         [107.],\n",
       "         [ 84.],\n",
       "         [ 72.]],\n",
       "\n",
       "        [[ 70.],\n",
       "         [ 71.],\n",
       "         [ 73.],\n",
       "         ...,\n",
       "         [ 90.],\n",
       "         [ 73.],\n",
       "         [ 66.]]]], dtype=float32)>"
      ]
     },
     "execution_count": 14,
     "metadata": {},
     "output_type": "execute_result"
    }
   ],
   "source": [
    "tf.repeat(image_tf,2,axis=0)"
   ]
  },
  {
   "cell_type": "code",
   "execution_count": 9,
   "id": "61a71dee-d500-4a05-b077-18bb802bbd2f",
   "metadata": {},
   "outputs": [
    {
     "ename": "NameError",
     "evalue": "name 'warps' is not defined",
     "output_type": "error",
     "traceback": [
      "\u001b[0;31m---------------------------------------------------------------------------\u001b[0m",
      "\u001b[0;31mNameError\u001b[0m                                 Traceback (most recent call last)",
      "\u001b[0;32m<ipython-input-9-5fd854be9b2f>\u001b[0m in \u001b[0;36m<module>\u001b[0;34m\u001b[0m\n\u001b[1;32m      1\u001b[0m \u001b[0mfigure\u001b[0m\u001b[0;34m(\u001b[0m\u001b[0mfigsize\u001b[0m\u001b[0;34m=\u001b[0m\u001b[0;34m(\u001b[0m\u001b[0;36m20\u001b[0m\u001b[0;34m,\u001b[0m\u001b[0;36m20\u001b[0m\u001b[0;34m)\u001b[0m\u001b[0;34m)\u001b[0m\u001b[0;34m\u001b[0m\u001b[0;34m\u001b[0m\u001b[0m\n\u001b[1;32m      2\u001b[0m \u001b[0mscatter\u001b[0m\u001b[0;34m(\u001b[0m\u001b[0mwarp\u001b[0m\u001b[0;34m[\u001b[0m\u001b[0;34m...\u001b[0m\u001b[0;34m,\u001b[0m\u001b[0;36m0\u001b[0m\u001b[0;34m]\u001b[0m\u001b[0;34m,\u001b[0m\u001b[0mwarp\u001b[0m\u001b[0;34m[\u001b[0m\u001b[0;34m...\u001b[0m\u001b[0;34m,\u001b[0m\u001b[0;36m1\u001b[0m\u001b[0;34m]\u001b[0m\u001b[0;34m,\u001b[0m\u001b[0mlabel\u001b[0m\u001b[0;34m=\u001b[0m\u001b[0;34m\"mine\"\u001b[0m\u001b[0;34m)\u001b[0m\u001b[0;34m\u001b[0m\u001b[0;34m\u001b[0m\u001b[0m\n\u001b[0;32m----> 3\u001b[0;31m \u001b[0mscatter\u001b[0m\u001b[0;34m(\u001b[0m\u001b[0mwarps\u001b[0m\u001b[0;34m[\u001b[0m\u001b[0;34m...\u001b[0m\u001b[0;34m,\u001b[0m\u001b[0;36m0\u001b[0m\u001b[0;34m]\u001b[0m\u001b[0;34m,\u001b[0m\u001b[0mwarps\u001b[0m\u001b[0;34m[\u001b[0m\u001b[0;34m...\u001b[0m\u001b[0;34m,\u001b[0m\u001b[0;36m1\u001b[0m\u001b[0;34m]\u001b[0m\u001b[0;34m,\u001b[0m\u001b[0mlabel\u001b[0m\u001b[0;34m=\u001b[0m\u001b[0;34m\"correct\"\u001b[0m\u001b[0;34m)\u001b[0m\u001b[0;34m\u001b[0m\u001b[0;34m\u001b[0m\u001b[0m\n\u001b[0m\u001b[1;32m      4\u001b[0m \u001b[0;34m\u001b[0m\u001b[0m\n\u001b[1;32m      5\u001b[0m \u001b[0mlegend\u001b[0m\u001b[0;34m(\u001b[0m\u001b[0;34m)\u001b[0m\u001b[0;34m\u001b[0m\u001b[0;34m\u001b[0m\u001b[0m\n",
      "\u001b[0;31mNameError\u001b[0m: name 'warps' is not defined"
     ]
    },
    {
     "data": {
      "image/png": "[encoded data removed]",
      "text/plain": [
       "<Figure size 1440x1440 with 1 Axes>"
      ]
     },
     "metadata": {
      "needs_background": "light"
     },
     "output_type": "display_data"
    }
   ],
   "source": [
    "figure(figsize=(20,20))\n",
    "scatter(warp[...,0],warp[...,1],label=\"mine\")\n",
    "#scatter(warps[...,0],warps[...,1],label=\"correct\")\n",
    "\n",
    "legend()\n",
    "xlim([-10,60])\n",
    "ylim([-10,60])\n",
    "\n",
    "plot([0,50],[0,50],'k-')\n",
    "plot([0,50],[50,50],'k-')\n",
    "plot([0,50],[0,0],'k-')\n",
    "plot([50,50],[0,50],'k-')\n",
    "plot([0,0],[0,50],'k-')\n",
    "plot([0,50],[50,0],'k-')"
   ]
  },
  {
   "cell_type": "code",
   "execution_count": null,
   "id": "ae05b270-bae6-448d-a28f-d82237e635e8",
   "metadata": {},
   "outputs": [],
   "source": [
    "figure(figsize=(27,5))\n",
    "\n",
    "subplot(141)\n",
    "imshow(image_tf[0,...,0])\n",
    "subplot(142)\n",
    "title('in development')\n",
    "imshow(mysheared[0,...,0])\n",
    "subplot(143)\n",
    "title('correct')\n",
    "imshow(gfsheared[0,...,0])\n",
    "subplot(144)\n",
    "title('diff')\n",
    "imshow(gfsheared[0,...,0]-mysheared[0,...,0]); colorbar()"
   ]
  },
  {
   "cell_type": "code",
   "execution_count": null,
   "id": "ef504fc0-3533-41e7-ab9a-c8615787f4dc",
   "metadata": {},
   "outputs": [],
   "source": [
    "%%timeit\n",
    "mysheared, warp = newshear(image_tf,g1,g2)"
   ]
  },
  {
   "cell_type": "code",
   "execution_count": null,
   "id": "d73c0068-f13b-4273-8596-862c80808d03",
   "metadata": {},
   "outputs": [],
   "source": [
    "%%timeit\n",
    "gfsheared, warps =gf.shear(image_tf,g1,g2)"
   ]
  }
 ],
 "metadata": {
  "kernelspec": {
   "display_name": "Python 3",
   "language": "python",
   "name": "python3"
  },
  "language_info": {
   "codemirror_mode": {
    "name": "ipython",
    "version": 3
   },
   "file_extension": ".py",
   "mimetype": "text/x-python",
   "name": "python",
   "nbconvert_exporter": "python",
   "pygments_lexer": "ipython3",
   "version": "3.8.8"
  }
 },
 "nbformat": 4,
 "nbformat_minor": 5
}
