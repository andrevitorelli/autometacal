{
 "cells": [
  {
   "cell_type": "markdown",
   "id": "d7f66627-0ecf-417e-8519-dc5824cb2747",
   "metadata": {},
   "source": [
    "# PSF Experiment 2.0"
   ]
  },
  {
   "cell_type": "code",
   "execution_count": 1,
   "id": "34db291e-9142-4861-9195-f7d4500dc4b3",
   "metadata": {},
   "outputs": [
    {
     "name": "stdout",
     "output_type": "stream",
     "text": [
      "Populating the interactive namespace from numpy and matplotlib\n"
     ]
    }
   ],
   "source": [
    "%pylab inline"
   ]
  },
  {
   "cell_type": "code",
   "execution_count": 2,
   "id": "efd95363-9d3f-40c4-a65e-5ea08590a60b",
   "metadata": {},
   "outputs": [
    {
     "name": "stderr",
     "output_type": "stream",
     "text": [
      "<frozen importlib._bootstrap>:219: RuntimeWarning: scipy._lib.messagestream.MessageStream size changed, may indicate binary incompatibility. Expected 56 from C header, got 64 from PyObject\n"
     ]
    }
   ],
   "source": [
    "#this is us\n",
    "import autometacal as amc\n",
    "import tensorflow_datasets as tfds\n",
    "import tensorflow as tf\n",
    "\n",
    "#...vs them!\n",
    "import ngmix\n",
    "import galsim\n",
    "from multiprocessing import Pool"
   ]
  },
  {
   "cell_type": "markdown",
   "id": "e9adc5cc-ab73-417c-8580-ddf36564d75a",
   "metadata": {},
   "source": [
    "## Settings"
   ]
  },
  {
   "cell_type": "code",
   "execution_count": 3,
   "id": "dc4bc7b7-bc58-4209-9d16-0a97dde18d39",
   "metadata": {},
   "outputs": [],
   "source": [
    "g_psf =  array([0.02,0.01],dtype='float32')\n",
    "rng = np.random.RandomState(31415)\n",
    "shear_true = array([0.01,0.0],dtype='float32')\n",
    "stamp_size = 51\n",
    "batch_size = 1000\n",
    "noise_level = 1e-4\n",
    "shape_noise = 0\n",
    "psf_noise_level = noise_level/1000\n",
    "scale = 0.263\n",
    "ncpus = 24"
   ]
  },
  {
   "cell_type": "markdown",
   "id": "4e484f58-be4b-4d96-90bd-b6cad56a53fa",
   "metadata": {},
   "source": [
    "## Get to the Data!"
   ]
  },
  {
   "cell_type": "code",
   "execution_count": 4,
   "id": "df463745-e1d5-4887-b207-6859e5499789",
   "metadata": {},
   "outputs": [],
   "source": [
    "data= tfds.load('simple/small_100k_noshear')\n",
    "data = data['train'].cache()\n",
    "data = data.batch(batch_size)\n",
    "data = data.prefetch(tf.data.experimental.AUTOTUNE)"
   ]
  },
  {
   "cell_type": "code",
   "execution_count": 5,
   "id": "736a7062-e064-424c-90d6-4ca7526555e0",
   "metadata": {},
   "outputs": [],
   "source": [
    "batchit = data.as_numpy_iterator()\n",
    "onebatch = batchit.next()"
   ]
  },
  {
   "cell_type": "markdown",
   "id": "51213b13-07b1-4bb8-807a-0836f5dc16cb",
   "metadata": {},
   "source": [
    "## Create observations for ngmix"
   ]
  },
  {
   "cell_type": "code",
   "execution_count": 6,
   "id": "b64ff256-ca4a-4a8e-9183-69abfc3be5e4",
   "metadata": {},
   "outputs": [],
   "source": [
    "def observer(batch,shear_true):\n",
    "  psf_fwhm = 0.7\n",
    "  psf = galsim.Moffat(beta=2.5, fwhm=psf_fwhm).shear(g1=g_psf[0],g2=g_psf[1])\n",
    "  psf_image = tf.convert_to_tensor(psf.drawImage(nx=stamp_size, ny=stamp_size, scale=scale).array)[tf.newaxis]\n",
    "  psf_images = tf.repeat(psf_image,batch_size,axis=0)\n",
    "\n",
    "  gal_images =amc.noiseless_real_mcal_image(onebatch['gal_model'],\n",
    "                                         psf_images,\n",
    "                                         tf.repeat([shear_true],\n",
    "                                        len(onebatch['gal_model']),axis=0))\n",
    "\n",
    "  noise_img = np.random.normal(scale=noise_level,size=[batch_size,stamp_size,stamp_size])\n",
    "  gal_images += noise_img\n",
    "  psf_noise_img = np.random.normal(scale=psf_noise_level,size=[batch_size,stamp_size,stamp_size])\n",
    "  psf_images += psf_noise_img\n",
    "  obslist = []\n",
    "  for im, psf_im in zip(gal_images,psf_images):\n",
    "    cen = (np.array(im.shape)-1.0)/2.0\n",
    "    psf_cen = (np.array(psf_im.shape)-1.0)/2.0\n",
    "\n",
    "    jacobian = ngmix.DiagonalJacobian(\n",
    "        row=cen[0] + 0/scale, col=cen[1] + 0/scale, scale=scale,\n",
    "    )\n",
    "    psf_jacobian = ngmix.DiagonalJacobian(\n",
    "        row=psf_cen[0], col=psf_cen[1], scale=scale,\n",
    "    )\n",
    "    wt = im*0 + 1.0/noise_level**2\n",
    "    psf_wt = psf_im*0 + 1.0/psf_noise_level**2\n",
    "\n",
    "    psf_obs = ngmix.Observation(\n",
    "        psf_im,\n",
    "        weight=psf_wt,\n",
    "        jacobian=psf_jacobian,\n",
    "    )\n",
    "\n",
    "    obs = ngmix.Observation(\n",
    "        im,\n",
    "        weight=wt,\n",
    "        jacobian=jacobian,\n",
    "        psf=psf_obs,\n",
    "    )\n",
    "    obslist += [obs]\n",
    "  \n",
    "  return obslist  "
   ]
  },
  {
   "cell_type": "code",
   "execution_count": 7,
   "id": "b36b98c3-14d6-4170-ad90-be22914e5cfa",
   "metadata": {},
   "outputs": [],
   "source": [
    "obslist = observer(onebatch,shear_true)"
   ]
  },
  {
   "cell_type": "markdown",
   "id": "30ba8c1d-2d35-49c5-abc2-8970a5dfd276",
   "metadata": {},
   "source": [
    "## Make the ngmix runner"
   ]
  },
  {
   "cell_type": "code",
   "execution_count": 8,
   "id": "48582f3e-1aff-4b7b-a189-2442cad34fce",
   "metadata": {},
   "outputs": [],
   "source": [
    "def ngmix_booter(rng,**kwargs):\n",
    "  options = {\n",
    "    'T_range' : [-1.0, 10.],\n",
    "    'F_range' : [-1.0, 10.],\n",
    "    'psf_ngauss': 1,\n",
    "    'ntry' : 2,\n",
    "    'psf': 'dilate',\n",
    "    'types': ['noshear', \n",
    "              '1p', '1m', '2p', '2m', '1p_psf', '1m_psf', '2p_psf', '2m_psf'\n",
    "              ],\n",
    "    'scale': 0.263,\n",
    "        \n",
    "  }\n",
    "\n",
    "  g_prior = ngmix.priors.GPriorBA(sigma=0.1, rng=rng)\n",
    "  cen_prior = ngmix.priors.CenPrior(\n",
    "      cen1=0, cen2=0, sigma1=options['scale'], sigma2=options['scale'], rng=rng,\n",
    "  )\n",
    "  T_prior = ngmix.priors.FlatPrior(minval=options['T_range'][0], maxval=options['T_range'][1], rng=rng)\n",
    "  F_prior = ngmix.priors.FlatPrior(minval=options['F_range'][0], maxval=options['F_range'][1], rng=rng)\n",
    "\n",
    "  prior = ngmix.joint_prior.PriorSimpleSep(\n",
    "      cen_prior=cen_prior,\n",
    "      g_prior=g_prior,\n",
    "      T_prior=T_prior,\n",
    "      F_prior=F_prior,\n",
    "  )\n",
    "  # fit the object to an exponential disk\n",
    "\n",
    "  fitter = ngmix.fitting.Fitter(model='exp', prior=prior)\n",
    "  # make parameter guesses based on a psf flux and a rough T\n",
    "  guesser = ngmix.guessers.TPSFFluxAndPriorGuesser(\n",
    "      rng=rng,\n",
    "      T=0.25,\n",
    "      prior=prior,\n",
    "  )\n",
    "\n",
    "  # psf fitting with coelliptical gaussians\n",
    "  psf_ngauss = 1\n",
    "  psf_fitter = ngmix.fitting.CoellipFitter(ngauss=psf_ngauss)\n",
    "  # special guesser for coelliptical gaussians\n",
    "  psf_guesser = ngmix.guessers.CoellipPSFGuesser(rng=rng, ngauss=psf_ngauss)\n",
    "\n",
    "  # this runs the fitter. We set ntry=2 to retry the fit if it fails\n",
    "  psf_runner = ngmix.runners.PSFRunner(\n",
    "      fitter=psf_fitter, guesser=psf_guesser,\n",
    "      ntry=2,\n",
    "  )\n",
    "  runner = ngmix.runners.Runner(\n",
    "      fitter=fitter, guesser=guesser,\n",
    "      ntry=2,\n",
    "  )\n",
    "\n",
    "  # this \"bootstrapper\" runs the metacal image shearing as well as both psf\n",
    "  # and object measurements\n",
    "  #\n",
    "  # We will just do R11 for simplicity and to speed up this example;\n",
    "  # typically the off diagonal terms are negligible, and R11 and R22 are\n",
    "  # usually consistent\n",
    "\n",
    "  boot = ngmix.metacal.MetacalBootstrapper(\n",
    "      runner=runner,\n",
    "      psf_runner=psf_runner,\n",
    "      rng=rng,\n",
    "      psf=options['psf'],\n",
    "      types=options['types'],\n",
    "  )\n",
    "  return boot\n",
    "\n",
    "boot = ngmix_booter(rng)"
   ]
  },
  {
   "cell_type": "markdown",
   "id": "fce184ff-7f49-4cad-9a70-e248c133729a",
   "metadata": {},
   "source": [
    "...and run it:"
   ]
  },
  {
   "cell_type": "code",
   "execution_count": null,
   "id": "355df040-348a-4f5c-a3c4-f87819cc60c7",
   "metadata": {},
   "outputs": [],
   "source": [
    "def step(obs):\n",
    "  resdict, _ = boot.go(obs)\n",
    "  return resdict\n",
    "\n",
    "print(f\"Parallel running fitters in  processes...\")\n",
    "pool = Pool(ncpus)\n",
    "dlist = pool.map(step,obslist)\n",
    "pool.close()\n",
    "print(\"Done!\")"
   ]
  },
  {
   "cell_type": "markdown",
   "id": "115c0ff1-c08d-4ec1-9e4b-f28e4fd5d577",
   "metadata": {},
   "source": [
    "## Extract the results"
   ]
  },
  {
   "cell_type": "code",
   "execution_count": null,
   "id": "f3a66703-c45e-43a6-a7fb-ac00e3449c2d",
   "metadata": {},
   "outputs": [],
   "source": [
    "def get_metacal_response_ngmix(resdict):\n",
    "  step=0.01\n",
    "\n",
    "  #shear\n",
    "  g0s = np.array([resdict['noshear']['g'][0], resdict['noshear']['g'][1]])\n",
    "  g1p = np.array([resdict['1p']['g'][0], resdict['1p']['g'][1]])\n",
    "  g1m = np.array([resdict['1m']['g'][0], resdict['1m']['g'][1]])\n",
    "  g2p = np.array([resdict['2p']['g'][0], resdict['2p']['g'][1]])\n",
    "  g2m = np.array([resdict['2m']['g'][0], resdict['2m']['g'][1]])    \n",
    "  \n",
    "  R11 = (g1p[0]-g1m[0])/(2*step)\n",
    "  R21 = (g1p[1]-g1m[1])/(2*step) \n",
    "  R12 = (g2p[0]-g2m[0])/(2*step)\n",
    "  R22 = (g2p[1]-g2m[1])/(2*step)\n",
    "  \n",
    "  #PSF\n",
    "  g1p_psf = np.array([resdict['1p_psf']['g'][0], resdict['1p_psf']['g'][1]])\n",
    "  g1m_psf = np.array([resdict['1m_psf']['g'][0], resdict['1m_psf']['g'][1]])\n",
    "  g2p_psf = np.array([resdict['2p_psf']['g'][0], resdict['2p_psf']['g'][1]])\n",
    "  g2m_psf = np.array([resdict['2m_psf']['g'][0], resdict['2m_psf']['g'][1]])    \n",
    "  \n",
    "  R11_psf = (g1p_psf[0]-g1m_psf[0])/(2*step)\n",
    "  R21_psf = (g1p_psf[1]-g1m_psf[1])/(2*step) \n",
    "  R12_psf = (g2p_psf[0]-g2m_psf[0])/(2*step)\n",
    "  R22_psf = (g2p_psf[1]-g2m_psf[1])/(2*step)  \n",
    "  \n",
    "  ellip_dict = {\n",
    "    'noshear':g0s,\n",
    "    '1p':g1p,\n",
    "    '1m':g1m,\n",
    "    '2p':g2p,\n",
    "    '2m':g2m,\n",
    "    '1p_psf':g1p_psf,\n",
    "    '1m_psf':g1m_psf,\n",
    "    '2p_psf':g2p_psf,\n",
    "    '2m_psf':g2m_psf,    \n",
    "  } \n",
    "  \n",
    "  R = np.array(\n",
    "    [[R11,R12],\n",
    "     [R21,R22]])\n",
    "\n",
    "  Rpsf = np.array(\n",
    "    [[R11_psf,R12_psf],\n",
    "     [R21_psf,R22_psf]])\n",
    "    \n",
    "  return ellip_dict, R, Rpsf"
   ]
  },
  {
   "cell_type": "code",
   "execution_count": null,
   "id": "edebb50c-3852-440e-a78a-ff2b326cf22c",
   "metadata": {},
   "outputs": [],
   "source": [
    "def metacal_shear(e,R):\n",
    "  return linalg.inv(R) @ e\n",
    "\n",
    "def metacal_shear_psf(e,R,ep, Rp):\n",
    "  return linalg.inv(R) @ (e - Rp @ ep)\n",
    "\n",
    "def bootstraper(x,nboot):\n",
    "  resample = random.randint(0,len(x),[nboot,len(x)])\n",
    "  return x[resample].mean(axis=0)\n",
    "  \n",
    "def evaluator(ellips, R, g_psf, Rpsf):\n",
    "  nboot=1000 #bootstraps make it look professional\n",
    "\n",
    "  #uncorrected  \n",
    "  resample = random.randint(0,batch_size,[nboot,batch_size])\n",
    "  e = bootstraper(ellips,nboot).reshape(-1,2,1)\n",
    "  R = bootstraper(R,nboot)\n",
    "  Rp = bootstraper(Rpsf,nboot)\n",
    "\n",
    "  shears = metacal_shear(e,R)\n",
    "  shear = shears.mean(axis=0)\n",
    "  shear_err = shears.std(axis=0)\n",
    "\n",
    "\n",
    "  shearcorrs = metacal_shear_psf(e,R,g_psf.reshape(-1,2,1), Rp)\n",
    "  shearcorr = shearcorrs.mean(axis=0)\n",
    "  shearcorr_err = shearcorrs.std(axis=0)\n",
    "  return shear[...,0], shear_err[...,0],  shearcorr[...,0], shearcorr_err[...,0]"
   ]
  },
  {
   "cell_type": "code",
   "execution_count": null,
   "id": "7dd71169-959e-4244-9fbe-33df6c29a26d",
   "metadata": {},
   "outputs": [],
   "source": [
    "results = [get_metacal_response_ngmix(resdict) for resdict in dlist]\n",
    "ellips = array([result[0]['noshear'] for result in results])\n",
    "R = array([result[1] for result in results])\n",
    "Rpsf = array([result[2] for result in results])"
   ]
  },
  {
   "cell_type": "code",
   "execution_count": null,
   "id": "9330a04b-1882-469a-9343-aafa95727c03",
   "metadata": {},
   "outputs": [],
   "source": [
    "shear, shear_err, shearcorr, shearcorr_err= evaluator(ellips, R,g_psf, Rpsf)\n",
    "print('ngmix')\n",
    "print('-------------------------------------------------')\n",
    "print('With psf correction:')\n",
    "print(f\"shear: {shearcorr[0]:.5f} +/- {shearcorr_err[0]*3:.6f} (99.7%% conf)\")\n",
    "print('-------------------------------------------------')\n",
    "print('Without psf correction:')\n",
    "print(f\"shear: {shear[0]:.5f} +/- {shear_err[0]*3:.6f} (99.7%% conf)\")"
   ]
  },
  {
   "cell_type": "markdown",
   "id": "6e48bcc2-b973-4f8b-bd1f-dcbc10184d0e",
   "metadata": {},
   "source": [
    "## AutoMetaCal"
   ]
  },
  {
   "cell_type": "markdown",
   "id": "26126871-33f2-45a3-8632-32b139b09453",
   "metadata": {},
   "source": [
    "We will run with a simple moments-based method for now."
   ]
  },
  {
   "cell_type": "code",
   "execution_count": null,
   "id": "6e4fd8fd-015e-45ea-9641-a895e1ab2a42",
   "metadata": {},
   "outputs": [],
   "source": [
    "###new functions\n",
    "import galflow as gf\n",
    "def generate_mcal_image(gal_images,\n",
    "                        psf_images,\n",
    "                        reconvolution_psf_image,\n",
    "                        g, gp,\n",
    "                        padfactor=3):\n",
    "  \"\"\" Generate a metacalibrated image given input and target PSFs.\n",
    "  \n",
    "  Args: \n",
    "    gal_images: tf.Tensor or np.array\n",
    "      (batch_size, N, N ) image of galaxies\n",
    "    psf_images: tf.Tensor or np.array\n",
    "      (batch_size, N, N ) image of psf model\n",
    "    reconvolution_psf_image: tf.Tensor\n",
    "      (N, N ) tensor of reconvolution psf model\n",
    "    g: tf.Tensor or np.array\n",
    "    [batch_size, 2] input shear\n",
    "  Returns:\n",
    "    img: tf.Tensor\n",
    "      tf tensor containing image of galaxy after deconvolution by psf_deconv, \n",
    "      shearing by g, and reconvolution with reconvolution_psf_image.\n",
    "  \n",
    "  \"\"\"\n",
    "  #cast stuff as float32 tensors\n",
    "  gal_images = tf.convert_to_tensor(gal_images, dtype=tf.float32)  \n",
    "  psf_images = tf.convert_to_tensor(psf_images, dtype=tf.float32)  \n",
    "  reconvolution_psf_image = tf.convert_to_tensor(reconvolution_psf_image, dtype=tf.float32)  \n",
    "  g = tf.convert_to_tensor(g, dtype=tf.float32)  \n",
    "  \n",
    "  #Get batch info\n",
    "  batch_size, nx, ny = gal_images.get_shape().as_list()  \n",
    "      \n",
    "  #add pads in real space\n",
    "  fact = (padfactor - 1)//2 #how many image sizes to one direction\n",
    "  paddings = tf.constant([[0, 0,], [nx*fact, nx*fact], [ny*fact, ny*fact]])\n",
    "    \n",
    "  padded_gal_images = tf.pad(gal_images,paddings)\n",
    "  padded_psf_images = tf.pad(psf_images,paddings)\n",
    "  padded_reconvolution_psf_image = tf.pad(reconvolution_psf_image,paddings)\n",
    "    \n",
    "  #Convert galaxy images to k space\n",
    "  im_shift = tf.signal.ifftshift(padded_gal_images,axes=[1,2]) # The ifftshift is to remove the phase for centered objects\n",
    "  im_complex = tf.cast(im_shift, tf.complex64)\n",
    "  im_fft = tf.signal.fft2d(im_complex)\n",
    "  imk = tf.signal.fftshift(im_fft, axes=[1,2])#the fftshift is to put the 0 frequency at the center of the k image\n",
    "  \n",
    "  #Convert psf images to k space  \n",
    "  psf_complex = tf.cast(padded_psf_images, tf.complex64)\n",
    "  psf_fft = tf.signal.fft2d(psf_complex)\n",
    "  psf_fft_abs = tf.abs(psf_fft)\n",
    "  psf_fft_abs_complex = tf.cast(psf_fft_abs,tf.complex64)\n",
    "  kpsf = tf.signal.fftshift(psf_fft_abs_complex,axes=[1,2])\n",
    "\n",
    "  #Convert reconvolution psf image to k space \n",
    "  rpsf_complex = tf.cast(padded_reconvolution_psf_image, tf.complex64)\n",
    "  rpsf_fft =  tf.signal.fft2d(rpsf_complex)\n",
    "  rpsf_fft_abs = tf.abs(rpsf_fft)\n",
    "  psf_fft_abs_complex = tf.cast(rpsf_fft_abs,tf.complex64)\n",
    "  krpsf = tf.signal.fftshift(psf_fft_abs_complex,axes=[1,2])\n",
    "\n",
    "  # Compute Fourier mask for high frequencies\n",
    "  # careful, this is not exactly the correct formula for fftfreq\n",
    "  kx, ky = tf.meshgrid(tf.linspace(-0.5,0.5,padfactor*nx),\n",
    "                       tf.linspace(-0.5,0.5,padfactor*ny))\n",
    "  mask = tf.cast(tf.math.sqrt(kx**2 + ky**2) <= 0.5, dtype='complex64')\n",
    "  mask = tf.expand_dims(mask, axis=0)\n",
    "  \n",
    "  # Deconvolve image from input PSF\n",
    "  im_deconv = imk * ( (1./(kpsf+1e-10))*mask)\n",
    "\n",
    "  # Apply shear to the  deconv image\n",
    "  im_sheared = gf.shear(tf.expand_dims(im_deconv,-1), g[...,0], g[...,1])[...,0]  \n",
    "\n",
    "  # Apply shear to the  kpsf image\n",
    "  kpsf_sheared = gf.shear(tf.expand_dims(krpsf,-1), gp[...,0], gp[...,1])[...,0]    \n",
    "  \n",
    "  # Reconvolve with target PSF\n",
    "  im_reconv = tf.signal.ifft2d(tf.signal.ifftshift(im_sheared * kpsf_sheared * mask))\n",
    "\n",
    "  # Compute inverse Fourier transform\n",
    "  img = tf.math.real(tf.signal.fftshift(im_reconv))\n",
    "  return img[:,fact*nx:-fact*nx,fact*ny:-fact*ny]\n",
    "\n",
    "def get_metacal_response(gal_images,\n",
    "                         psf_images,\n",
    "                         reconvolution_psf_image,\n",
    "                         method):\n",
    "  \"\"\"\n",
    "  Convenience function to compute the shear response\n",
    "  \"\"\"  \n",
    "  gal_images = tf.convert_to_tensor(gal_images, dtype=tf.float32)\n",
    "  psf_images = tf.convert_to_tensor(psf_images, dtype=tf.float32)\n",
    "  batch_size, _ , _ = gal_images.get_shape().as_list()\n",
    "  gs = tf.zeros([batch_size, 4])\n",
    "  epsf = method(reconvolution_psf_image)\n",
    "  with tf.GradientTape() as tape:\n",
    "    tape.watch(gs)\n",
    "    # Measure ellipticity under metacal\n",
    "    e = method(generate_mcal_image(gal_images,\n",
    "                                   psf_images,\n",
    "                                   psf_images,\n",
    "                                   gs[:,0:2],gs[:,2:4]))\n",
    "    \n",
    "  # Compute response matrix\n",
    "\n",
    "  Rs = tape.batch_jacobian(e, gs)\n",
    "  R, Rpsf = Rs[...,0:2], Rs[...,2:4]\n",
    "  return e, epsf, R, Rpsf"
   ]
  },
  {
   "cell_type": "code",
   "execution_count": null,
   "id": "f11a2b39-3195-40bc-9bcb-ad07499bc2a0",
   "metadata": {},
   "outputs": [],
   "source": [
    "#AutoMetaCal runner\n",
    "method = lambda im: amc.get_moment_ellipticities(im, scale=0.2, fwhm=1.2)\n",
    "\n",
    "#for amc\n",
    "@tf.function\n",
    "def response(gal_images,psf_images):\n",
    "  return get_metacal_response(gal_images, psf_images,psf_images,method)"
   ]
  },
  {
   "cell_type": "code",
   "execution_count": 28,
   "id": "ef0f04da-fd90-4942-941c-c84771693a00",
   "metadata": {},
   "outputs": [],
   "source": [
    "def observer_amc(batch,shear_true):\n",
    "  psf_fwhm = 0.7\n",
    "  psf = galsim.Moffat(beta=2.5, fwhm=psf_fwhm).shear(g1=g_psf[0],g2=g_psf[1])\n",
    "  psf_image = tf.convert_to_tensor(psf.drawImage(nx=stamp_size, ny=stamp_size, scale=scale).array)[tf.newaxis]\n",
    "  psf_images = tf.repeat(psf_image,batch_size,axis=0)\n",
    "\n",
    "  gal_images =amc.noiseless_real_mcal_image(onebatch['gal_model'],\n",
    "                                         psf_images,\n",
    "                                         tf.repeat([shear_true],\n",
    "                                        len(onebatch['gal_model']),axis=0))\n",
    "\n",
    "  noise_img = np.random.normal(scale=noise_level,size=[batch_size,stamp_size,stamp_size])\n",
    "  gal_images += noise_img\n",
    "  psf_noise_img = np.random.normal(scale=psf_noise_level,size=[batch_size,stamp_size,stamp_size])\n",
    "  psf_images += psf_noise_img\n",
    "  \n",
    "  return gal_images, psf_images  "
   ]
  },
  {
   "cell_type": "code",
   "execution_count": 19,
   "id": "f3feaba4-8617-4b23-87b6-2cbb7c5dee65",
   "metadata": {},
   "outputs": [],
   "source": [
    "gal_images, psf_images  = observer_amc(onebatch,shear_true)\n",
    "e_amc, e_psf, R_auto, R_psf = response(gal_images, psf_images)"
   ]
  },
  {
   "cell_type": "code",
   "execution_count": 21,
   "id": "9ec99693-5cd2-4a11-8be9-8aa04ef07f65",
   "metadata": {},
   "outputs": [],
   "source": [
    "shear, shear_err, shearcorr, shearcorr_err= evaluator(e_amc.numpy(), R_auto.numpy() ,e_psf.numpy(), R_psf.numpy())"
   ]
  },
  {
   "cell_type": "code",
   "execution_count": 22,
   "id": "6b327fe4-b683-4af1-99e5-007e7604f35b",
   "metadata": {},
   "outputs": [
    {
     "name": "stdout",
     "output_type": "stream",
     "text": [
      "AutoMetaCal\n",
      "-------------------------------------------------\n",
      "With psf correction:\n",
      "shear: 0.00490 +/- 0.00017333 (99.7%% conf)\n",
      "-------------------------------------------------\n",
      "Without psf correction:\n",
      "shear: 0.02764 +/- 0.00017375 (99.7%% conf)\n"
     ]
    }
   ],
   "source": [
    "print('AutoMetaCal')\n",
    "print('-------------------------------------------------')\n",
    "print('With psf correction:')\n",
    "print(f\"shear: {shearcorr[0]:.5f} +/- {shearcorr_err[0]*3:.8f} (99.7%% conf)\")\n",
    "print('-------------------------------------------------')\n",
    "print('Without psf correction:')\n",
    "print(f\"shear: {shear[0]:.5f} +/- {shear_err[0]*3:.8f} (99.7%% conf)\")"
   ]
  },
  {
   "cell_type": "markdown",
   "id": "ca0400c8-c439-45a7-9e94-61cfd5179fed",
   "metadata": {},
   "source": [
    "## A few batches!"
   ]
  },
  {
   "cell_type": "code",
   "execution_count": 28,
   "id": "76f7c1cd-a729-40d5-8788-6c71b270a87c",
   "metadata": {
    "tags": []
   },
   "outputs": [
    {
     "name": "stderr",
     "output_type": "stream",
     "text": [
      "100%|██████████| 10/10 [08:13<00:00, 49.39s/it]\n"
     ]
    }
   ],
   "source": [
    "shear_range = linspace(-.1,.1,10)\n",
    "verbose = False\n",
    "shear_ngmix_list = []\n",
    "shear_err_ngmix_list = []\n",
    "shearcorr_ngmix_list = []\n",
    "shearcorr_err_ngmix_list = []\n",
    "\n",
    "shear_amc_list = []\n",
    "shear_err_amc_list = []\n",
    "shearcorr_amc_list = []\n",
    "shearcorr_err_amc_list = []\n",
    "import tqdm\n",
    "for shear in tqdm.tqdm(shear_range):\n",
    "  shear_true = array([shear,0.],dtype='float32')  \n",
    "  \n",
    "  #ngmix\n",
    "  obslist = observer(onebatch,shear_true)\n",
    "\n",
    "  #print(f\"Parallel running ngmix in {ncpus}  processes...\")\n",
    "  pool = Pool(ncpus)\n",
    "  dlist = pool.map(step,obslist)\n",
    "  pool.close()\n",
    "  #print(\"Done!\")  \n",
    "  \n",
    "  results = [get_metacal_response_ngmix(resdict) for resdict in dlist]\n",
    "  \n",
    "  ellips = array([result[0]['noshear'] for result in results])\n",
    "  R = array([result[1] for result in results])\n",
    "  Rpsf = array([result[2] for result in results])\n",
    "  \n",
    "  shear_ngmix, shear_err_ngmix, shearcorr_ngmix, shearcorr_err_ngmix= evaluator(ellips, \n",
    "                                                                                R,\n",
    "                                                                                g_psf, \n",
    "                                                                                Rpsf)\n",
    " \n",
    "  #AutoMetaCal\n",
    "  gal_images, psf_images  = observer_amc(onebatch,shear_true)\n",
    "  e_amc, e_psf, R_auto, R_psf = response(gal_images, psf_images)\n",
    "  shear_amc, shear_err_amc, shearcorr_amc, shearcorr_err_amc= evaluator(e_amc.numpy(), \n",
    "                                                                        R_auto.numpy() ,\n",
    "                                                                        e_psf.numpy(), \n",
    "                                                                        R_psf.numpy())\n",
    "  \n",
    "  #gather results\n",
    "  shear_ngmix_list += [shear_ngmix]\n",
    "  shear_err_ngmix_list += [shear_err_ngmix]\n",
    "  shearcorr_ngmix_list += [shearcorr_ngmix]\n",
    "  shearcorr_err_ngmix_list += [shearcorr_err_ngmix]\n",
    "\n",
    "  shear_amc_list += [shear_amc]\n",
    "  shear_err_amc_list += [shear_err_amc]\n",
    "  shearcorr_amc_list += [shearcorr_amc]\n",
    "  shearcorr_err_amc_list += [shearcorr_err_amc]\n",
    "  \n",
    "  #print results\n",
    "  if verbose:\n",
    "    print(f\"Testing shear true: g1 = {shear_true[0]}, g2 = {shear_true[0]}\")\n",
    "    print('ngmix')\n",
    "    print('-------------------------------------------------')\n",
    "    print('With psf correction:')\n",
    "    print(f\"g1: {shearcorr_ngmix[0]:.5f} +/- {shearcorr_err_ngmix[0]*3:.2f} (99.7%% conf)\")\n",
    "    print(f\"g2: {shearcorr_ngmix[1]:.5f} +/- {shearcorr_err_ngmix[0]*3:.2f} (99.7%% conf)\")\n",
    "    print('-------------------------------------------------')\n",
    "    print('Without psf correction:')\n",
    "    print(f\"g1: {shear_ngmix[0]:.5f} +/- {shear_err_ngmix[0]*3:.2f} (99.7%% conf)\")\n",
    "    print(f\"g2: {shear_ngmix[1]:.5f} +/- {shear_err_ngmix[0]*3:.2f} (99.7%% conf)\")\n",
    "    print()\n",
    "    print('AutoMetaCal')\n",
    "    print('-------------------------------------------------')\n",
    "    print('With psf correction:')\n",
    "    print(f\"g1: {shearcorr_amc[0]:.5f} +/- {shearcorr_err_amc[0]*3:.8f} (99.7%% conf)\")\n",
    "    print(f\"g2: {shearcorr_amc[1]:.5f} +/- {shearcorr_err_amc[0]*3:.8f} (99.7%% conf)\")\n",
    "    print('-------------------------------------------------')\n",
    "    print('Without psf correction:')\n",
    "    print(f\"g1: {shear_amc[0]:.5f} +/- {shear_err_amc[0]*3:.8f} (99.7%% conf)\")\n",
    "    print(f\"g2: {shear_amc[1]:.5f} +/- {shear_err_amc[0]*3:.8f} (99.7%% conf)\")"
   ]
  },
  {
   "cell_type": "code",
   "execution_count": 1,
   "id": "6146d0d5-9673-4053-9ae5-e52c1300e540",
   "metadata": {},
   "outputs": [
    {
     "ename": "NameError",
     "evalue": "name 'Rpsf' is not defined",
     "output_type": "error",
     "traceback": [
      "\u001b[0;31m---------------------------------------------------------------------------\u001b[0m",
      "\u001b[0;31mNameError\u001b[0m                                 Traceback (most recent call last)",
      "\u001b[0;32m<ipython-input-1-1f9d3296ef9c>\u001b[0m in \u001b[0;36m<module>\u001b[0;34m\u001b[0m\n\u001b[0;32m----> 1\u001b[0;31m \u001b[0mRpsf\u001b[0m\u001b[0;34m\u001b[0m\u001b[0;34m\u001b[0m\u001b[0m\n\u001b[0m",
      "\u001b[0;31mNameError\u001b[0m: name 'Rpsf' is not defined"
     ]
    }
   ],
   "source": [
    "Rpsf"
   ]
  },
  {
   "cell_type": "code",
   "execution_count": 29,
   "id": "2a8ec69f-8d90-41ad-b510-67831b892de7",
   "metadata": {},
   "outputs": [
    {
     "data": {
      "image/png": "[encoded data removed]",
      "text/plain": [
       "<Figure size 360x360 with 1 Axes>"
      ]
     },
     "metadata": {},
     "output_type": "display_data"
    }
   ],
   "source": [
    "style.use('ggplot')\n",
    "figure(figsize=(5,5))\n",
    "X1 = shear_range\n",
    "Y1 =  array(shear_ngmix_list)[:,0] - X1\n",
    "Y1err = array(shear_err_ngmix_list)[:,0]\n",
    "errorbar(X1,Y1,Y1err*3,fmt='o',label= 'ngmix fitting')\n",
    "Y1 =  array(shear_amc_list)[:,0] - X1\n",
    "Y1err = array(shear_err_ngmix_list)[:,0]\n",
    "errorbar(X1,Y1,Y1err*3,fmt='o',label= 'amc moments')\n",
    "xlabel('$g_1$ true')\n",
    "ylabel('residuals')\n",
    "xlim([-.11,.11])\n",
    "ylim([-.02,.02])\n",
    "legend()\n",
    "title('psf=[0.02,0.01] no residual correction')\n",
    "savefig('psf_experiment0b.jpg',bbox_inches='tight')"
   ]
  },
  {
   "cell_type": "code",
   "execution_count": 31,
   "id": "685d2076-7874-4b8b-8d32-1102e84ba161",
   "metadata": {},
   "outputs": [
    {
     "data": {
      "image/png": "[encoded data removed]",
      "text/plain": [
       "<Figure size 360x360 with 1 Axes>"
      ]
     },
     "metadata": {},
     "output_type": "display_data"
    }
   ],
   "source": [
    "style.use('ggplot')\n",
    "figure(figsize=(5,5))\n",
    "X1 = shear_range\n",
    "Y1 =  array(shearcorr_ngmix_list)[:,0] - X1\n",
    "Y1err = array(shearcorr_err_ngmix_list)[:,0]\n",
    "\n",
    "errorbar(X1,Y1,Y1err*3,fmt='o',label= 'ngmix fitting')\n",
    "\n",
    "\n",
    "Y1 =  array(shearcorr_amc_list)[:,0] - X1\n",
    "Y1err = array(shearcorr_err_ngmix_list)[:,0]\n",
    "\n",
    "errorbar(X1,Y1,Y1err*3,fmt='o',label= 'amc moments')\n",
    "\n",
    "xlabel('$g_1$ true')\n",
    "ylabel('residuals')\n",
    "xlim([-.1,.1])\n",
    "ylim([-.002,.002])\n",
    "legend()\n",
    "title('psf=[0.02,0.01] residual correction')\n",
    "savefig('psf_experiment1b.jpg',bbox_inches='tight')"
   ]
  },
  {
   "cell_type": "markdown",
   "id": "399dedac-e581-4734-bbb8-48cd4f01d076",
   "metadata": {},
   "source": [
    "## Old Code"
   ]
  },
  {
   "cell_type": "raw",
   "id": "3b22d961-91c4-4930-8640-dd91ffcf29fd",
   "metadata": {},
   "source": [
    "def make_data(rng, noise,psf_noise, scale, shear,psf_shear):\n",
    "    \"\"\"\n",
    "    simulate an exponential object with moffat psf\n",
    "    Parameters\n",
    "    ----------\n",
    "    rng: np.random.RandomState\n",
    "        The random number generator\n",
    "    noise: float\n",
    "        Noise for the image\n",
    "    shear: (g1, g2)\n",
    "        The shear in each component\n",
    "    Returns\n",
    "    -------\n",
    "    ngmix.Observation\n",
    "    \"\"\"\n",
    "\n",
    "    psf_fwhm = 0.9\n",
    "    gal_hlr = 0.5\n",
    "    dy, dx = rng.uniform(low=-scale/2, high=scale/2, size=2)\n",
    "\n",
    "    psf = galsim.Moffat(\n",
    "        beta=2.5, fwhm=psf_fwhm,\n",
    "    ).shear(\n",
    "        g1=psf_shear[0],\n",
    "        g2=psf_shear[1],\n",
    "    )\n",
    "\n",
    "    obj0 = galsim.Exponential(\n",
    "        half_light_radius=gal_hlr,\n",
    "    ).shear(\n",
    "        g1=shear[0],\n",
    "        g2=shear[1],\n",
    "    ).shift(\n",
    "        dx=dx,\n",
    "        dy=dy,\n",
    "    )\n",
    "\n",
    "    obj = galsim.Convolve(psf, obj0)\n",
    "\n",
    "    psf_im = psf.drawImage(scale=scale).array\n",
    "    im = obj.drawImage(scale=scale).array\n",
    "\n",
    "    psf_im += rng.normal(scale=psf_noise, size=psf_im.shape)\n",
    "    im += rng.normal(scale=noise, size=im.shape)\n",
    "\n",
    "    cen = (np.array(im.shape)-1.0)/2.0\n",
    "    psf_cen = (np.array(psf_im.shape)-1.0)/2.0\n",
    "\n",
    "    jacobian = ngmix.DiagonalJacobian(\n",
    "        row=cen[0] + dy/scale, col=cen[1] + dx/scale, scale=scale,\n",
    "    )\n",
    "    psf_jacobian = ngmix.DiagonalJacobian(\n",
    "        row=psf_cen[0], col=psf_cen[1], scale=scale,\n",
    "    )\n",
    "\n",
    "    wt = im*0 + 1.0/noise**2\n",
    "    psf_wt = psf_im*0 + 1.0/psf_noise**2\n",
    "\n",
    "    psf_obs = ngmix.Observation(\n",
    "        psf_im,\n",
    "        weight=psf_wt,\n",
    "        jacobian=psf_jacobian,\n",
    "    )\n",
    "\n",
    "    obs = ngmix.Observation(\n",
    "        im,\n",
    "        weight=wt,\n",
    "        jacobian=jacobian,\n",
    "        psf=psf_obs,\n",
    "    )\n",
    "\n",
    "    return obs"
   ]
  }
 ],
 "metadata": {
  "kernelspec": {
   "display_name": "Python 3",
   "language": "python",
   "name": "python3"
  },
  "language_info": {
   "codemirror_mode": {
    "name": "ipython",
    "version": 3
   },
   "file_extension": ".py",
   "mimetype": "text/x-python",
   "name": "python",
   "nbconvert_exporter": "python",
   "pygments_lexer": "ipython3",
   "version": "3.8.8"
  }
 },
 "nbformat": 4,
 "nbformat_minor": 5
}
