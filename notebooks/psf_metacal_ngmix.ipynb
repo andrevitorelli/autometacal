{
 "cells": [
  {
   "cell_type": "markdown",
   "id": "5a0af9e4-091e-452c-a38d-e5f9856ba6bb",
   "metadata": {},
   "source": [
    "# PSF metacal validation/unit test"
   ]
  },
  {
   "cell_type": "code",
   "execution_count": 1,
   "id": "ea428f61-1416-450e-b263-9e000e5b8706",
   "metadata": {},
   "outputs": [
    {
     "name": "stdout",
     "output_type": "stream",
     "text": [
      "Populating the interactive namespace from numpy and matplotlib\n"
     ]
    }
   ],
   "source": [
    "%pylab inline"
   ]
  },
  {
   "cell_type": "code",
   "execution_count": 2,
   "id": "07ac1dd0-ef41-4c75-9b01-515606124ba3",
   "metadata": {},
   "outputs": [
    {
     "name": "stderr",
     "output_type": "stream",
     "text": [
      "2022-06-07 02:42:24.006234: W tensorflow/stream_executor/platform/default/dso_loader.cc:64] Could not load dynamic library 'libcudart.so.11.0'; dlerror: libcudart.so.11.0: cannot open shared object file: No such file or directory\n",
      "2022-06-07 02:42:24.006252: I tensorflow/stream_executor/cuda/cudart_stub.cc:29] Ignore above cudart dlerror if you do not have a GPU set up on your machine.\n",
      "2022-06-07 02:42:26.062133: W tensorflow/stream_executor/platform/default/dso_loader.cc:64] Could not load dynamic library 'libcuda.so.1'; dlerror: libcuda.so.1: cannot open shared object file: No such file or directory\n",
      "2022-06-07 02:42:26.062151: W tensorflow/stream_executor/cuda/cuda_driver.cc:269] failed call to cuInit: UNKNOWN ERROR (303)\n",
      "2022-06-07 02:42:26.062164: I tensorflow/stream_executor/cuda/cuda_diagnostics.cc:156] kernel driver does not appear to be running on this host (dappcm89.extra.cea.fr): /proc/driver/nvidia/version does not exist\n",
      "2022-06-07 02:42:26.062364: I tensorflow/core/platform/cpu_feature_guard.cc:193] This TensorFlow binary is optimized with oneAPI Deep Neural Network Library (oneDNN) to use the following CPU instructions in performance-critical operations:  AVX2 FMA\n",
      "To enable them in other operations, rebuild TensorFlow with the appropriate compiler flags.\n"
     ]
    }
   ],
   "source": [
    "import os\n",
    "os.environ[\"CUDA_VISIBLE_DEVICES\"] = \"-1\"\n",
    "import tqdm\n",
    "import autometacal as amc\n",
    "import tensorflow_datasets as tfds\n",
    "import tensorflow as tf\n",
    "import galflow as gf\n",
    "import galsim\n",
    "import ngmix\n",
    "\n",
    "from multiprocessing import Pool, freeze_support, cpu_count"
   ]
  },
  {
   "cell_type": "code",
   "execution_count": 3,
   "id": "47d41949-6fde-4532-98ab-cecb37492a94",
   "metadata": {},
   "outputs": [],
   "source": [
    "#global values\n",
    "fixnoise = True\n",
    "batch_size=100\n",
    "scale= .2\n",
    "stamp_size = 51\n",
    "rng = np.random.RandomState(31415)\n",
    "real_shear = [0.01,0.0]\n",
    "noise_level = 1e-5"
   ]
  },
  {
   "cell_type": "code",
   "execution_count": 4,
   "id": "674e2ccc-9cb0-4829-8cba-e0bb458717a7",
   "metadata": {},
   "outputs": [],
   "source": [
    "#dataset\n",
    "data= tfds.load('simple/small_100k_noshear')\n",
    "data = data['train'].cache()\n",
    "data = data.batch(batch_size)\n",
    "data = data.prefetch(tf.data.experimental.AUTOTUNE)"
   ]
  },
  {
   "cell_type": "code",
   "execution_count": 5,
   "id": "91aded5f-d6e6-4d54-a2dd-793aeafc8d70",
   "metadata": {},
   "outputs": [],
   "source": [
    "batchit = data.as_numpy_iterator()\n",
    "onebatch = batchit.next()\n",
    "labels = onebatch['label'] "
   ]
  },
  {
   "cell_type": "code",
   "execution_count": 6,
   "id": "40132c4c-0651-48e0-b98a-20e6c006cb26",
   "metadata": {},
   "outputs": [
    {
     "name": "stderr",
     "output_type": "stream",
     "text": [
      "2022-06-07 02:42:27.863946: W tensorflow/stream_executor/platform/default/dso_loader.cc:64] Could not load dynamic library 'libcudart.so.11.0'; dlerror: libcudart.so.11.0: cannot open shared object file: No such file or directory\n",
      "2022-06-07 02:42:27.863963: I tensorflow/stream_executor/cuda/cudart_stub.cc:29] Ignore above cudart dlerror if you do not have a GPU set up on your machine.\n"
     ]
    }
   ],
   "source": [
    "#create 1 batch of observed images\n",
    "psf_fwhm = 0.7\n",
    "psf = galsim.Moffat(beta=5.0, fwhm=psf_fwhm).shear(g1=.0,g2=0.)\n",
    "psf_image = tf.convert_to_tensor(psf.drawImage(nx=stamp_size, ny=stamp_size, scale=scale).array)[tf.newaxis]\n",
    "psf_images = tf.repeat(psf_image,batch_size,axis=0)\n",
    "\n",
    "\n",
    "\n",
    "gal_images=amc.noiseless_real_mcal_image(onebatch['gal_model'],\n",
    "                                         psf_images,\n",
    "                                         tf.repeat([real_shear],\n",
    "                                        len(batch_size),axis=0))\n",
    "\n",
    "noise = random.normal(scale=noise_level,size=[batch_size,51,51])\n",
    "gal_images += noise\n",
    "noise_psf = random.normal(scale=noise_level,size=[batch_size,51,51])/1000\n",
    "psf_images = psf_images\n",
    "\n"
   ]
  },
  {
   "cell_type": "code",
   "execution_count": 7,
   "id": "a930c2c0-5563-43f8-a7f7-10bbc5f24f1c",
   "metadata": {},
   "outputs": [
    {
     "data": {
      "text/plain": [
       "<matplotlib.image.AxesImage at 0x7f15c8021160>"
      ]
     },
     "execution_count": 7,
     "metadata": {},
     "output_type": "execute_result"
    },
    {
     "data": {
      "image/png": "[encoded data removed]",
      "text/plain": [
       "<Figure size 432x288 with 2 Axes>"
      ]
     },
     "metadata": {
      "needs_background": "light"
     },
     "output_type": "display_data"
    }
   ],
   "source": [
    "subplot(121)\n",
    "imshow(gal_images[0], origin='lower')\n",
    "subplot(122)\n",
    "imshow(psf_images[0], origin='lower')"
   ]
  },
  {
   "cell_type": "code",
   "execution_count": 8,
   "id": "d549769b-2d02-4b07-9f81-6c64f199836e",
   "metadata": {},
   "outputs": [],
   "source": [
    "#set up jacobian\n",
    "jacobian = ngmix.DiagonalJacobian(\n",
    "  row=stamp_size//2, \n",
    "  col=stamp_size//2,\n",
    "  scale=scale,\n",
    ")\n",
    "psf_jacobian = ngmix.DiagonalJacobian(\n",
    "  row=stamp_size//2, \n",
    "  col=stamp_size//2,\n",
    "  scale=scale,\n",
    ")"
   ]
  },
  {
   "cell_type": "code",
   "execution_count": 9,
   "id": "6008376c-2ba8-44fe-a58c-a1d5d4b27220",
   "metadata": {},
   "outputs": [],
   "source": [
    "T_range = [-1.0, 5.]\n",
    "\n",
    "F_range = [-1, 10.]\n",
    "\n",
    "g_prior = ngmix.priors.GPriorBA(sigma=0.1, rng=rng)\n",
    "cen_prior = ngmix.priors.CenPrior(\n",
    "    cen1=0, cen2=0, sigma1=scale, sigma2=scale, rng=rng,\n",
    ")\n",
    "T_prior = ngmix.priors.FlatPrior(minval=T_range[0], maxval=T_range[1], rng=rng)\n",
    "F_prior = ngmix.priors.FlatPrior(minval=F_range[0], maxval=F_range[1], rng=rng)\n",
    "\n",
    "nband =1\n",
    "F_prior = [F_prior]*nband\n",
    "\n",
    "prior = ngmix.joint_prior.PriorSimpleSep(\n",
    "    cen_prior=cen_prior,\n",
    "    g_prior=g_prior,\n",
    "    T_prior=T_prior,\n",
    "    F_prior=F_prior,\n",
    ")\n",
    "\n"
   ]
  },
  {
   "cell_type": "code",
   "execution_count": 10,
   "id": "33397c73-865d-4086-aba3-61e93938180e",
   "metadata": {},
   "outputs": [],
   "source": [
    "#LM fitter\n",
    "fitter = ngmix.fitting.Fitter(model='exp', prior=prior)\n",
    "# make parameter guesses based on a psf flux and a rough T\n",
    "guesser = ngmix.guessers.TPSFFluxAndPriorGuesser(\n",
    "    rng=rng,\n",
    "    T=0.25,\n",
    "    prior=prior,\n",
    ")\n",
    "\n",
    "# psf fitting with coelliptical gaussians\n",
    "psf_ngauss = 5\n",
    "psf_fitter = ngmix.fitting.CoellipFitter(ngauss=psf_ngauss)\n",
    "# special guesser for coelliptical gaussians\n",
    "psf_guesser = ngmix.guessers.CoellipPSFGuesser(rng=rng, ngauss=psf_ngauss)\n",
    "\n",
    "# this runs the fitter. We set ntry=2 to retry the fit if it fails\n",
    "psf_runner = ngmix.runners.PSFRunner(\n",
    "    fitter=psf_fitter, guesser=psf_guesser,\n",
    "    ntry=20,\n",
    ")\n",
    "runner = ngmix.runners.Runner(\n",
    "    fitter=fitter, guesser=guesser,\n",
    "    ntry=5,\n",
    ")\n",
    "\n",
    "# this bootstraps the process, first fitting psfs then the object\n",
    "boot = ngmix.bootstrap.Bootstrapper(\n",
    "    runner=runner,\n",
    "    psf_runner=psf_runner,\n",
    ")\n",
    "\n",
    "\n",
    "# this \"bootstrapper\" runs the metacal image shearing as well as both \n",
    "# psf and object measurements\n",
    "\n",
    "METACAL_TYPES = ['noshear',\n",
    "                 '1p','1m','2p','2m',\n",
    "                 '1p_psf','1m_psf','2p_psf','2m_psf']\n",
    "boot = ngmix.metacal.MetacalBootstrapper(\n",
    "  runner=runner, psf_runner=psf_runner,\n",
    "  rng=rng,\n",
    "  psf='dilate',\n",
    "  types=METACAL_TYPES,\n",
    "  fixnoise=fixnoise,\n",
    ")"
   ]
  },
  {
   "cell_type": "code",
   "execution_count": 11,
   "id": "460a191f-27c0-4a70-9ab1-d8ce915e09fa",
   "metadata": {},
   "outputs": [],
   "source": [
    "im = gal_images[0].numpy()\n",
    "psf_im = psf_images[0].numpy() \n",
    "wt = tf.reduce_mean(1.0/(noise)**2,axis=0)\n",
    "psf_wt = tf.reduce_mean(1.0/(noise_psf)**2,axis=0)\n",
    "\n",
    "psf_obs = ngmix.Observation(\n",
    "  psf_im,\n",
    "  weight=psf_wt,\n",
    "  jacobian=psf_jacobian,\n",
    ")\n",
    "obs = ngmix.Observation(\n",
    "  im,\n",
    "  jacobian=jacobian,\n",
    "  weight=wt,\n",
    "  psf=psf_obs,\n",
    ")"
   ]
  },
  {
   "cell_type": "code",
   "execution_count": 12,
   "id": "a2cc636e-609d-43ef-84fa-2824f8ce9981",
   "metadata": {},
   "outputs": [],
   "source": [
    "resdict, obsdict = boot.go(obs)"
   ]
  },
  {
   "cell_type": "code",
   "execution_count": 13,
   "id": "0a0d88bc-1d89-4f15-b806-d0bd29382963",
   "metadata": {},
   "outputs": [],
   "source": [
    "def get_metacal_response_ngmix(resdict):\n",
    "  step=0.01\n",
    "\n",
    "  #shear\n",
    "  g0s = np.array([resdict['noshear']['g'][0], resdict['noshear']['g'][1]])\n",
    "  g1p = np.array([resdict['1p']['g'][0], resdict['1p']['g'][1]])\n",
    "  g1m = np.array([resdict['1m']['g'][0], resdict['1m']['g'][1]])\n",
    "  g2p = np.array([resdict['2p']['g'][0], resdict['2p']['g'][1]])\n",
    "  g2m = np.array([resdict['2m']['g'][0], resdict['2m']['g'][1]])    \n",
    "  \n",
    "  R11 = (g1p[0]-g1m[0])/(2*step)\n",
    "  R21 = (g1p[1]-g1m[1])/(2*step) \n",
    "  R12 = (g2p[0]-g2m[0])/(2*step)\n",
    "  R22 = (g2p[1]-g2m[1])/(2*step)\n",
    "  \n",
    "  #PSF\n",
    "  g1p_psf = np.array([resdict['1p_psf']['g'][0], resdict['1p_psf']['g'][1]])\n",
    "  g1m_psf = np.array([resdict['1m_psf']['g'][0], resdict['1m_psf']['g'][1]])\n",
    "  g2p_psf = np.array([resdict['2p_psf']['g'][0], resdict['2p_psf']['g'][1]])\n",
    "  g2m_psf = np.array([resdict['2m_psf']['g'][0], resdict['2m_psf']['g'][1]])    \n",
    "  \n",
    "  R11_psf = (g1p_psf[0]-g1m_psf[0])/(2*step)\n",
    "  R21_psf = (g1p_psf[1]-g1m_psf[1])/(2*step) \n",
    "  R12_psf = (g2p_psf[0]-g2m_psf[0])/(2*step)\n",
    "  R22_psf = (g2p_psf[1]-g2m_psf[1])/(2*step)  \n",
    "  \n",
    "  ellip_dict = {\n",
    "    'noshear':g0s,\n",
    "    '1p':g1p,\n",
    "    '1m':g1m,\n",
    "    '2p':g2p,\n",
    "    '2m':g2m,\n",
    "    '1p_psf':g1p_psf,\n",
    "    '1m_psf':g1m_psf,\n",
    "    '2p_psf':g2p_psf,\n",
    "    '2m_psf':g2m_psf,    \n",
    "  } \n",
    "  \n",
    "  R = np.array(\n",
    "    [[R11,R12],\n",
    "     [R21,R22]])\n",
    "\n",
    "  Rpsf = np.array(\n",
    "    [[R11_psf,R12_psf],\n",
    "     [R21_psf,R22_psf]])\n",
    "    \n",
    "  return ellip_dict, R, Rpsf"
   ]
  },
  {
   "cell_type": "code",
   "execution_count": 14,
   "id": "56470cb1-4a64-41a9-9787-602d4a0aa849",
   "metadata": {},
   "outputs": [],
   "source": [
    "ellips, R, Rpsf = get_metacal_response_ngmix(resdict)"
   ]
  },
  {
   "cell_type": "code",
   "execution_count": 15,
   "id": "5b77fc6b-6604-40bd-9173-5fa6ed0d3723",
   "metadata": {},
   "outputs": [
    {
     "data": {
      "text/plain": [
       "array([0.00220468, 0.00749968])"
      ]
     },
     "execution_count": 15,
     "metadata": {},
     "output_type": "execute_result"
    }
   ],
   "source": [
    "linalg.inv(R) @ ellips['noshear']"
   ]
  },
  {
   "cell_type": "code",
   "execution_count": 16,
   "id": "a5b9c2e5-fa38-44ea-a808-3b2ba99c2083",
   "metadata": {},
   "outputs": [],
   "source": [
    "ellips_list =[]\n",
    "R_list =[]\n",
    "Rpsf_list =[]\n",
    "fail_list = []\n",
    "for i in tqdm.tqdm(range(len(gal_images))):\n",
    "    im = gal_images[0].numpy()\n",
    "    psf_im = psf_images[0].numpy() \n",
    "    \n",
    "    wt = tf.reduce_mean(1.0/(noise)**2,axis=0)\n",
    "    psf_wt = tf.reduce_mean(1.0/(noise_psf)**2,axis=0)\n",
    "    \n",
    "    psf_obs = ngmix.Observation(\n",
    "      psf_im,\n",
    "      weight=psf_wt,\n",
    "      jacobian=psf_jacobian,\n",
    "    )\n",
    "    \n",
    "    obs = ngmix.Observation(\n",
    "      im,\n",
    "      jacobian=jacobian,\n",
    "      weight=wt,\n",
    "      psf=psf_obs,\n",
    "    )\n",
    "    try:\n",
    "        resdict, _ = boot.go(obs)\n",
    "        \n",
    "        ellips, R, Rpsf = get_metacal_response_ngmix(resdict)\n",
    "\n",
    "        ellips_list +=[ellips]\n",
    "        R_list +=[R]\n",
    "        Rpsf_list +=[Rpsf]\n",
    "        fail_list += [f\"{i} passed\"]\n",
    "        #print(fail_list, end=\"\\r\")\n",
    "    except:\n",
    "        fail_list += [f\"{i} failed\"]\n",
    "        #print(fail_list, end=\"\\r\")"
   ]
  },
  {
   "cell_type": "code",
   "execution_count": 17,
   "id": "5469028f-c0cb-45a0-aeff-12e03085735c",
   "metadata": {},
   "outputs": [
    {
     "data": {
      "text/plain": [
       "<matplotlib.legend.Legend at 0x7f157053ac10>"
      ]
     },
     "execution_count": 17,
     "metadata": {},
     "output_type": "execute_result"
    },
    {
     "data": {
      "image/png": "[encoded data removed]",
      "text/plain": [
       "<Figure size 432x288 with 1 Axes>"
      ]
     },
     "metadata": {
      "needs_background": "light"
     },
     "output_type": "display_data"
    }
   ],
   "source": [
    "noshear_array = array([ellips['noshear'] for ellips in ellips_list])\n",
    "hist(noshear_array[:,0],alpha=.7,label='g1')\n",
    "hist(noshear_array[:,1],alpha=.7,label='g2')\n",
    "legend()"
   ]
  },
  {
   "cell_type": "code",
   "execution_count": 21,
   "id": "9378bb2b-fd91-4c25-8df6-aefa5a261a77",
   "metadata": {},
   "outputs": [
    {
     "data": {
      "text/plain": [
       "<matplotlib.legend.Legend at 0x7f152868c790>"
      ]
     },
     "execution_count": 21,
     "metadata": {},
     "output_type": "execute_result"
    },
    {
     "data": {
      "image/png": "[encoded data removed]",
      "text/plain": [
       "<Figure size 432x288 with 1 Axes>"
      ]
     },
     "metadata": {
      "needs_background": "light"
     },
     "output_type": "display_data"
    }
   ],
   "source": [
    "R_array = array([R for R in R_list])\n",
    "hist(R_array[:,0,0],alpha=.7,label='R11',bins=100,range=[-2,2])\n",
    "hist(R_array[:,1,1],alpha=.7,label='R22',bins=100,range=[-2,2])\n",
    "legend()"
   ]
  },
  {
   "cell_type": "code",
   "execution_count": 31,
   "id": "97c80615-e2a0-46b5-8b69-7ae29cee58bc",
   "metadata": {},
   "outputs": [
    {
     "data": {
      "text/plain": [
       "<matplotlib.legend.Legend at 0x7f15145f7130>"
      ]
     },
     "execution_count": 31,
     "metadata": {},
     "output_type": "execute_result"
    },
    {
     "data": {
      "image/png": "[encoded data removed]",
      "text/plain": [
       "<Figure size 432x288 with 1 Axes>"
      ]
     },
     "metadata": {
      "needs_background": "light"
     },
     "output_type": "display_data"
    }
   ],
   "source": [
    "corr_g = array([linalg.inv(R) @ noshear for R, noshear in zip(R_array,noshear_array)])\n",
    "hist(corr_g[:,0],bins=100,range=[-.02,.02],alpha=0.7,label='g1');\n",
    "hist(corr_g[:,1],bins=100,range=[-.02,.02],alpha=0.7,label='g2');\n",
    "legend()"
   ]
  },
  {
   "cell_type": "code",
   "execution_count": 35,
   "id": "9a909b7b-a929-4c70-92ac-16427cc4f4f9",
   "metadata": {},
   "outputs": [
    {
     "data": {
      "text/plain": [
       "array([[0.95096868, 0.01930824],\n",
       "       [0.332209  , 0.86168684]])"
      ]
     },
     "execution_count": 35,
     "metadata": {},
     "output_type": "execute_result"
    }
   ],
   "source": [
    "R"
   ]
  },
  {
   "cell_type": "code",
   "execution_count": null,
   "id": "4d50ac9a-c7c7-49dc-b7ed-69f9373fda3f",
   "metadata": {},
   "outputs": [],
   "source": []
  }
 ],
 "metadata": {
  "kernelspec": {
   "display_name": "Python 3",
   "language": "python",
   "name": "python3"
  },
  "language_info": {
   "codemirror_mode": {
    "name": "ipython",
    "version": 3
   },
   "file_extension": ".py",
   "mimetype": "text/x-python",
   "name": "python",
   "nbconvert_exporter": "python",
   "pygments_lexer": "ipython3",
   "version": "3.8.8"
  }
 },
 "nbformat": 4,
 "nbformat_minor": 5
}
