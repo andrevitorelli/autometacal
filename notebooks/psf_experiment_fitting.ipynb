{
 "cells": [
  {
   "cell_type": "markdown",
   "id": "d7f66627-0ecf-417e-8519-dc5824cb2747",
   "metadata": {},
   "source": [
    "# PSF Experiment 2.0 - amc vs ngmix - Model Fitting"
   ]
  },
  {
   "cell_type": "markdown",
   "id": "b69026fc-869d-4d7d-b48b-5f25a3afad33",
   "metadata": {},
   "source": [
    "This notebook serves as a unit test base between amc and ngmix."
   ]
  },
  {
   "cell_type": "code",
   "execution_count": 1,
   "id": "34db291e-9142-4861-9195-f7d4500dc4b3",
   "metadata": {},
   "outputs": [
    {
     "name": "stdout",
     "output_type": "stream",
     "text": [
      "Populating the interactive namespace from numpy and matplotlib\n"
     ]
    }
   ],
   "source": [
    "%pylab inline"
   ]
  },
  {
   "cell_type": "code",
   "execution_count": 2,
   "id": "84cca4c4-4285-4773-b21d-d182785b3bcc",
   "metadata": {},
   "outputs": [
    {
     "name": "stderr",
     "output_type": "stream",
     "text": [
      "<frozen importlib._bootstrap>:219: RuntimeWarning: scipy._lib.messagestream.MessageStream size changed, may indicate binary incompatibility. Expected 56 from C header, got 64 from PyObject\n"
     ]
    }
   ],
   "source": [
    "#os\n",
    "import os\n",
    "os.environ[\"CUDA_VISIBLE_DEVICES\"] = \"2\"\n",
    "\n",
    "#utilities\n",
    "from multiprocessing import Pool\n",
    "from scipy.stats import linregress\n",
    "import tqdm"
   ]
  },
  {
   "cell_type": "code",
   "execution_count": 3,
   "id": "efd95363-9d3f-40c4-a65e-5ea08590a60b",
   "metadata": {},
   "outputs": [],
   "source": [
    "#this is us\n",
    "import autometacal as amc\n",
    "import tensorflow_datasets as tfds\n",
    "import tensorflow as tf\n",
    "\n",
    "#...vs them!\n",
    "import ngmix\n",
    "import galsim"
   ]
  },
  {
   "cell_type": "markdown",
   "id": "e9adc5cc-ab73-417c-8580-ddf36564d75a",
   "metadata": {},
   "source": [
    "## Settings"
   ]
  },
  {
   "cell_type": "code",
   "execution_count": 4,
   "id": "0ff8db75-ab54-4676-be9a-6074bea93849",
   "metadata": {},
   "outputs": [],
   "source": [
    "rng = np.random.RandomState(31415)\n",
    "\n",
    "#stamp properties\n",
    "stamp_size = 51\n",
    "batch_size = 200\n",
    "scale = 0.263\n",
    "window_fwhm = 1.2\n",
    "#computation settings\n",
    "ncpus = 48\n",
    "\n",
    "#test settings\n",
    "g_psf =  array([0.01,0.0],dtype='float32')\n",
    "noise_level = 1e-6\n",
    "fixnoise = True\n",
    "shapenoise = False\n",
    "finitediff= False\n",
    "psf_noise_level = noise_level/1000\n",
    "\n",
    "#filenames\n",
    "if finitediff:\n",
    "  finitechoice = \"finitediff\"\n",
    "else:\n",
    "  finitechoice = \"amc\"\n",
    "results_folder = f\"Results/{finitechoice}_vs_ngmix\"\n",
    "settings_name = f\"iso_vs_aniso_psf_{str(noise_level)}\"\n",
    "\n",
    "\n",
    "#build filename\n",
    "if shapenoise:\n",
    "  settings_name += \"_shaped\"\n",
    "else:\n",
    "  settings_name += \"_round\"\n",
    "  \n",
    "if fixnoise:\n",
    "  settings_name += \"_fixnoise\"\n",
    "else:\n",
    "  settings_name += \"_nofixnoise\"\n",
    "  \n",
    "settings_name += \"_modelfitting\""
   ]
  },
  {
   "cell_type": "markdown",
   "id": "4e484f58-be4b-4d96-90bd-b6cad56a53fa",
   "metadata": {},
   "source": [
    "## Get to the Data!"
   ]
  },
  {
   "cell_type": "code",
   "execution_count": 5,
   "id": "df463745-e1d5-4887-b207-6859e5499789",
   "metadata": {},
   "outputs": [],
   "source": [
    "if shapenoise:\n",
    "  data = tfds.load('GalGen/small_100k')\n",
    "else:\n",
    "  data = tfds.load('simple/small_1k_noshear')\n",
    "data = data['train'].cache()\n",
    "data = data.batch(batch_size)\n",
    "data = data.repeat()\n",
    "data = data.prefetch(tf.data.experimental.AUTOTUNE)"
   ]
  },
  {
   "cell_type": "markdown",
   "id": "51213b13-07b1-4bb8-807a-0836f5dc16cb",
   "metadata": {},
   "source": [
    "## Create observations"
   ]
  },
  {
   "cell_type": "code",
   "execution_count": 6,
   "id": "b64ff256-ca4a-4a8e-9183-69abfc3be5e4",
   "metadata": {},
   "outputs": [],
   "source": [
    "def make_psf(batch_size,stamp_size,g_psf,psf_fwhm = 0.7):\n",
    "  '''make a simple batch of constant psfs with Moffat profiles'''\n",
    "  psf = galsim.Moffat(beta=4.8, fwhm=psf_fwhm).shear(g1=g_psf[0],g2=g_psf[1])\n",
    "  psf_images = psf.drawImage(nx=stamp_size, ny=stamp_size, scale=scale,method='no_pixel').array\n",
    "  psf_images = tf.convert_to_tensor(psf_images,dtype=tf.float32)[tf.newaxis]\n",
    "  psf_images = tf.repeat(psf_images,batch_size,axis=0)\n",
    "  return psf_images\n",
    "\n",
    "def make_noise(noise_level,batch_size,stamp_size):\n",
    "  '''make a simple gaussian noise stamp'''\n",
    "  noise_imgs = np.random.normal(scale=noise_level,size=[batch_size,stamp_size,stamp_size])\n",
    "  return noise_imgs\n",
    "\n",
    "def observer(batch,shear_true,g_psf,noise_level,symmetric=True):\n",
    "  '''creates observations for ngmix and amc'''\n",
    "\n",
    "  psf_images = make_psf(batch_size,stamp_size,g_psf)\n",
    "  gal_images = amc.noiseless_real_mcal_image(\n",
    "    onebatch['gal_model'],\n",
    "    psf_images,\n",
    "    tf.repeat([shear_true], len(onebatch['gal_model']),axis=0)\n",
    "  )\n",
    "  \n",
    "  #add noise\n",
    "  noise_images = make_noise(noise_level,batch_size,stamp_size)\n",
    "  gal_images += noise_images\n",
    "  \n",
    "  #add noise to the psf model after convolution to make it an observed model\n",
    "  psf_noise_images = make_noise(psf_noise_level,batch_size,stamp_size)\n",
    "  psf_images += psf_noise_images\n",
    "    \n",
    "  #images to be used for fixnoise are different from the\n",
    "  #actual noise, but with the same level\n",
    "  noise_images_out = make_noise(noise_level,batch_size,stamp_size)\n",
    "  \n",
    "  if symmetric:\n",
    "    psf_images90 = make_psf(batch_size,stamp_size,g_psf)\n",
    "    gal_images90 = rot90(onebatch['gal_model'],axes=[1,2])\n",
    "    gal_images90 = amc.noiseless_real_mcal_image(\n",
    "      gal_images90,\n",
    "      psf_images,\n",
    "      tf.repeat([shear_true], len(onebatch['gal_model']),axis=0))\n",
    "    \n",
    "    #add noise\n",
    "    noise_images90 = make_noise(noise_level,batch_size,stamp_size)\n",
    "    gal_images90 += noise_images90\n",
    "    \n",
    "    #add noise to the psf model\n",
    "    psf_noise_images90 = make_noise(psf_noise_level,batch_size,stamp_size)\n",
    "    psf_images90 += psf_noise_images90\n",
    "    \n",
    "    #images to be used for fixnoise are different from the\n",
    "    #actual noise, but with the same level\n",
    "    noise_images_out90 = make_noise(noise_level,batch_size,stamp_size)\n",
    "    \n",
    "    #concatenate symmetrised obs\n",
    "    gal_images= concatenate([gal_images,gal_images90])\n",
    "    psf_images = concatenate([psf_images,psf_images90])\n",
    "    noise_images_out = concatenate([noise_images_out,noise_images_out90])\n",
    "  \n",
    "  #generate observations for ngmix\n",
    "  obslist = []\n",
    "  for im, psf_im in zip(gal_images,psf_images):\n",
    "    cen = (array(im.shape))//2\n",
    "    psf_cen = (array(psf_im.shape))//2\n",
    "\n",
    "    jacobian = ngmix.DiagonalJacobian(\n",
    "        row=cen[0], col=cen[1], scale=scale,\n",
    "    )\n",
    "    psf_jacobian = ngmix.DiagonalJacobian(\n",
    "        row=psf_cen[0], col=psf_cen[1], scale=scale,\n",
    "    )\n",
    "    wt = im*0 + 1.0/noise_level**2\n",
    "    psf_wt = psf_im*0 + 1.0/psf_noise_level**2\n",
    "\n",
    "    psf_obs = ngmix.Observation(\n",
    "        psf_im,\n",
    "        weight=psf_wt,\n",
    "        jacobian=psf_jacobian,\n",
    "    )\n",
    "\n",
    "    obs = ngmix.Observation(\n",
    "        im,\n",
    "        weight=wt,\n",
    "        jacobian=jacobian,\n",
    "        psf=psf_obs,\n",
    "    )\n",
    "    obslist += [obs]\n",
    "  \n",
    "  return gal_images, psf_images ,noise_images_out, obslist  "
   ]
  },
  {
   "cell_type": "markdown",
   "id": "30ba8c1d-2d35-49c5-abc2-8970a5dfd276",
   "metadata": {},
   "source": [
    "## Make the ngmix runner"
   ]
  },
  {
   "cell_type": "code",
   "execution_count": 7,
   "id": "4bac246a-ed09-44e6-bc82-168868a9b817",
   "metadata": {},
   "outputs": [],
   "source": [
    "def ngmix_booter_modelfitting(rng,**kwargs):\n",
    "  '''create ngmix bootstraper'''\n",
    "  options = {\n",
    "    'psf': 'gauss',\n",
    "    'types': ['noshear', \n",
    "              '1p', '1m', '2p', '2m', #'1p_psf', '1m_psf', '2p_psf', '2m_psf'\n",
    "              ],\n",
    "    'scale': scale,\n",
    "        \n",
    "  }\n",
    "  T_range = [-1.0, 10.]\n",
    "  F_range = [-1.0, 2.]\n",
    "\n",
    "  g_prior = ngmix.priors.GPriorBA(sigma=0.1, rng=rng)\n",
    "  cen_prior = ngmix.priors.CenPrior(\n",
    "      cen1=0, cen2=0, sigma1=scale, sigma2=scale, rng=rng,\n",
    "  )\n",
    "  T_prior = ngmix.priors.FlatPrior(minval=T_range[0], maxval=T_range[1], rng=rng)\n",
    "  F_prior = ngmix.priors.FlatPrior(minval=F_range[0], maxval=F_range[1], rng=rng)\n",
    "\n",
    "  prior = ngmix.joint_prior.PriorSimpleSep(\n",
    "      cen_prior=cen_prior,\n",
    "      g_prior=g_prior,\n",
    "      T_prior=T_prior,\n",
    "      F_prior=F_prior,\n",
    "  )\n",
    "  # fit using the levenberg marquards algorithm\n",
    "  fitter = ngmix.fitting.Fitter(model='exp', prior=prior)\n",
    "  # make parameter guesses based on a psf flux and a rough T\n",
    "  guesser = ngmix.guessers.TPSFFluxAndPriorGuesser(\n",
    "      rng=rng,\n",
    "      T=.25,\n",
    "      prior=prior,\n",
    "  )\n",
    "\n",
    "  # psf fitting with coelliptical gaussians\n",
    "  psf_ngauss = 1\n",
    "  psf_fitter = ngmix.fitting.CoellipFitter(ngauss=psf_ngauss)\n",
    "  # special guesser for coelliptical gaussians\n",
    "  psf_guesser = ngmix.guessers.CoellipPSFGuesser(rng=rng, ngauss=psf_ngauss)\n",
    "\n",
    "  # this runs the fitter. We set ntry=2 to retry the fit if it fails\n",
    "  psf_runner = ngmix.runners.PSFRunner(\n",
    "      fitter=psf_fitter, guesser=psf_guesser,\n",
    "      ntry=10,\n",
    "  )\n",
    "  runner = ngmix.runners.Runner(\n",
    "      fitter=fitter, guesser=guesser,\n",
    "      ntry=10,\n",
    "  )\n",
    "  \n",
    "  METACAL_TYPES = ['noshear',\n",
    "                 '1p','1m','2p','2m',#'1p_psf','1m_psf','2p_psf','2m_psf'\n",
    "                  ]\n",
    "  boot = ngmix.metacal.MetacalBootstrapper(\n",
    "    runner=runner, psf_runner=psf_runner,\n",
    "    rng=rng,\n",
    "    psf='gauss',\n",
    "    types=METACAL_TYPES,\n",
    "    fixnoise=fixnoise,\n",
    "  )\n",
    "  \n",
    "  return boot\n",
    "  \n",
    " "
   ]
  },
  {
   "cell_type": "code",
   "execution_count": 8,
   "id": "92799852-3991-4aca-a4d5-e7881bf8fd19",
   "metadata": {},
   "outputs": [],
   "source": [
    "def ngmix_booter_moments(rng,**kwargs):\n",
    "  '''create ngmix bootstraper'''\n",
    "  options = {\n",
    "    'psf': 'gauss',\n",
    "    'types': ['noshear', \n",
    "              '1p', '1m', '2p', '2m', #'1p_psf', '1m_psf', '2p_psf', '2m_psf'\n",
    "              ],\n",
    "    'scale': scale,\n",
    "        \n",
    "  }\n",
    "\n",
    "  weight_fwhm = window_fwhm\n",
    "  fitter = ngmix.gaussmom.GaussMom(fwhm=weight_fwhm)\n",
    "  psf_fitter = ngmix.gaussmom.GaussMom(fwhm=weight_fwhm)\n",
    "\n",
    "  # these \"runners\" run the measurement code on observations\n",
    "  psf_runner = ngmix.runners.PSFRunner(fitter=psf_fitter)\n",
    "  runner = ngmix.runners.Runner(fitter=fitter)\n",
    " \n",
    "  boot = ngmix.metacal.MetacalBootstrapper(\n",
    "      runner=runner,\n",
    "      psf_runner=psf_runner,\n",
    "      rng=rng,\n",
    "      psf=options['psf'],\n",
    "      types=options['types'],\n",
    "    fixnoise = fixnoise\n",
    "  )\n",
    "  return boot\n",
    "\n",
    "\n",
    "\n"
   ]
  },
  {
   "cell_type": "code",
   "execution_count": 9,
   "id": "915a5994-386b-4bfd-bc32-e87d0aa332f7",
   "metadata": {},
   "outputs": [],
   "source": [
    "boot = ngmix_booter_modelfitting(rng) "
   ]
  },
  {
   "cell_type": "code",
   "execution_count": 10,
   "id": "4277d9a7-2446-4ae3-99da-ec6abc1dd9ed",
   "metadata": {},
   "outputs": [],
   "source": [
    "def ngmix_step(obs):\n",
    "  '''runs 1 ngmix measurement in 1 observation'''\n",
    "  resdict, _ = boot.go(obs)\n",
    "  return resdict"
   ]
  },
  {
   "cell_type": "markdown",
   "id": "115c0ff1-c08d-4ec1-9e4b-f28e4fd5d577",
   "metadata": {},
   "source": [
    "## Extract the results"
   ]
  },
  {
   "cell_type": "code",
   "execution_count": 11,
   "id": "e558ebe5-0bea-458f-ab96-6cf2ad7d95df",
   "metadata": {},
   "outputs": [],
   "source": [
    "def get_metacal_response_ngmix_moments(resdict,shear_type = 'g'):\n",
    "  '''gets the shear response for ngmix results'''\n",
    "  step=0.01\n",
    " \n",
    "  #noshear\n",
    "  g0s = np.array([resdict['noshear'][shear_type][0], resdict['noshear'][shear_type][1]])\n",
    "  \n",
    "  #shear\n",
    "  g1p = np.array([resdict['1p'][shear_type][0], resdict['1p'][shear_type][1]])\n",
    "  g1m = np.array([resdict['1m'][shear_type][0], resdict['1m'][shear_type][1]])\n",
    "  g2p = np.array([resdict['2p'][shear_type][0], resdict['2p'][shear_type][1]])\n",
    "  g2m = np.array([resdict['2m'][shear_type][0], resdict['2m'][shear_type][1]])    \n",
    "  \n",
    "  R11 = (g1p[0]-g1m[0])/(2*step)\n",
    "  R21 = (g1p[1]-g1m[1])/(2*step) \n",
    "  R12 = (g2p[0]-g2m[0])/(2*step)\n",
    "  R22 = (g2p[1]-g2m[1])/(2*step)\n",
    "  \n",
    "  #PSF\n",
    "  #g1p_psf = np.array([resdict['1p_psf'][shear_type][0], resdict['1p_psf'][shear_type][1]])\n",
    "  #g1m_psf = np.array([resdict['1m_psf'][shear_type][0], resdict['1m_psf'][shear_type][1]])\n",
    "  #g2p_psf = np.array([resdict['2p_psf'][shear_type][0], resdict['2p_psf'][shear_type][1]])\n",
    "  #g2m_psf = np.array([resdict['2m_psf'][shear_type][0], resdict['2m_psf'][shear_type][1]])    \n",
    "  \n",
    "  #R11_psf = (g1p_psf[0]-g1m_psf[0])/(2*step)\n",
    "  #R21_psf = (g1p_psf[1]-g1m_psf[1])/(2*step) \n",
    "  #R12_psf = (g2p_psf[0]-g2m_psf[0])/(2*step)\n",
    "  #R22_psf = (g2p_psf[1]-g2m_psf[1])/(2*step)  \n",
    "  \n",
    "  ellip_dict = {\n",
    "    'noshear':g0s,\n",
    "    '1p':g1p,\n",
    "    '1m':g1m,\n",
    "    '2p':g2p,\n",
    "    '2m':g2m,\n",
    "    #'1p_psf':g1p_psf,\n",
    "    #'1m_psf':g1m_psf,\n",
    "    #'2p_psf':g2p_psf,\n",
    "    #'2m_psf':g2m_psf,    \n",
    "  } \n",
    "  \n",
    "  R = np.array(\n",
    "    [[R11,R12],\n",
    "     [R21,R22]])\n",
    "\n",
    "  #Rpsf = np.array(\n",
    "  #  [[R11_psf,R12_psf],\n",
    "  #   [R21_psf,R22_psf]])\n",
    "  Rpsf = np.array(\n",
    "    [[1,0],\n",
    "     [0,1]])\n",
    "    \n",
    "  return ellip_dict, R, Rpsf"
   ]
  },
  {
   "cell_type": "code",
   "execution_count": 12,
   "id": "80a0039e-8a59-4b2c-a25c-b192dc4cdf10",
   "metadata": {},
   "outputs": [],
   "source": [
    "def metacal_shear(e,R):\n",
    "  return linalg.inv(R) @ e\n",
    "\n",
    "def metacal_shear_psf(e,R,ep, Rp):\n",
    "  return linalg.inv(R) @ (e - Rp @ ep)\n",
    "\n",
    "def bootstrap(x,resample):\n",
    "  return x[resample].mean(axis=0)\n",
    "\n",
    "def evaluator(ellips, R, g_psf, Rpsf):\n",
    "  nboot=1000 #bootstraps make it look professional\n",
    "\n",
    "  resample = random.randint(0,batch_size,[nboot,batch_size])\n",
    "  e = bootstrap(ellips,resample).reshape(-1,2,1)\n",
    "  R = bootstrap(R,resample)\n",
    "  Rp = bootstrap(Rpsf,resample)\n",
    "  \n",
    "  #Response-calibrated shears\n",
    "  shears = metacal_shear(e,R)\n",
    "  shear = shears.mean(axis=0)\n",
    "  shear_err = shears.std(axis=0)\n",
    "  \n",
    "  #PSF-corrected shears\n",
    "  shearcorrs = metacal_shear_psf(e,R,g_psf.reshape(-1,2,1), Rp)\n",
    "  shearcorr = shearcorrs.mean(axis=0)\n",
    "  shearcorr_err = shearcorrs.std(axis=0)\n",
    "  \n",
    "  return shear[...,0], shear_err[...,0],  shearcorr[...,0], shearcorr_err[...,0]"
   ]
  },
  {
   "cell_type": "markdown",
   "id": "6e48bcc2-b973-4f8b-bd1f-dcbc10184d0e",
   "metadata": {},
   "source": [
    "## AutoMetaCal"
   ]
  },
  {
   "cell_type": "markdown",
   "id": "26126871-33f2-45a3-8632-32b139b09453",
   "metadata": {},
   "source": [
    "We will run with a simple moments-based method for now."
   ]
  },
  {
   "cell_type": "code",
   "execution_count": 13,
   "id": "919c9bfc-748c-4f5d-94d6-f50de5988b0f",
   "metadata": {},
   "outputs": [],
   "source": [
    "#AutoMetaCal runner\n",
    "@tf.function\n",
    "def method(im):\n",
    "  return amc.get_moment_ellipticities(im, scale=scale, fwhm=window_fwhm)\n",
    "\n",
    "#for amc\n",
    "if finitediff:\n",
    "  @tf.function\n",
    "  def response(gal_images,psf_images,noise_images):\n",
    "    return amc.metacal_psf_fixnoise.get_metacal_response_finitediff(\n",
    "      gal_images, \n",
    "      psf_images,\n",
    "      psf_images,\n",
    "      tf.convert_to_tensor(noise_images,dtype=tf.float32),\n",
    "      .01,.01,\n",
    "      method\n",
    "    )\n",
    "else:\n",
    "  @tf.function\n",
    "  def response(gal_images,psf_images,noise_images):\n",
    "    return amc.metacal_psf_fixnoise.get_metacal_response(\n",
    "      gal_images, \n",
    "      psf_images,\n",
    "      psf_images,\n",
    "      tf.convert_to_tensor(noise_images,dtype=tf.float32),\n",
    "      method\n",
    "    )"
   ]
  },
  {
   "cell_type": "markdown",
   "id": "6546a9f3-6fd5-47e3-ad1b-91f674cedf64",
   "metadata": {},
   "source": [
    "## Shakedown test"
   ]
  },
  {
   "cell_type": "code",
   "execution_count": 14,
   "id": "919e72c3-c085-4053-b802-660d6c941d87",
   "metadata": {},
   "outputs": [],
   "source": [
    "batchit = data.as_numpy_iterator()\n",
    "onebatch = batchit.next()\n",
    "gal_images, psf_images, noise_images, obslist = observer(onebatch,array([0.05,.0],dtype='float32'),g_psf,noise_level)"
   ]
  },
  {
   "cell_type": "code",
   "execution_count": 15,
   "id": "90cdd3d9-0b81-4c80-8f6f-d43cf5005bd7",
   "metadata": {},
   "outputs": [
    {
     "name": "stdout",
     "output_type": "stream",
     "text": [
      "WARNING:tensorflow:Using a while_loop for converting Addons>ResamplerGrad\n"
     ]
    },
    {
     "name": "stderr",
     "output_type": "stream",
     "text": [
      "WARNING:tensorflow:Using a while_loop for converting Addons>ResamplerGrad\n"
     ]
    },
    {
     "name": "stdout",
     "output_type": "stream",
     "text": [
      "WARNING:tensorflow:Using a while_loop for converting Addons>ResamplerGrad\n"
     ]
    },
    {
     "name": "stderr",
     "output_type": "stream",
     "text": [
      "WARNING:tensorflow:Using a while_loop for converting Addons>ResamplerGrad\n"
     ]
    },
    {
     "name": "stdout",
     "output_type": "stream",
     "text": [
      "WARNING:tensorflow:Using a while_loop for converting Addons>ResamplerGrad\n"
     ]
    },
    {
     "name": "stderr",
     "output_type": "stream",
     "text": [
      "WARNING:tensorflow:Using a while_loop for converting Addons>ResamplerGrad\n"
     ]
    },
    {
     "name": "stdout",
     "output_type": "stream",
     "text": [
      "WARNING:tensorflow:Using a while_loop for converting Addons>ResamplerGrad\n"
     ]
    },
    {
     "name": "stderr",
     "output_type": "stream",
     "text": [
      "WARNING:tensorflow:Using a while_loop for converting Addons>ResamplerGrad\n"
     ]
    },
    {
     "name": "stdout",
     "output_type": "stream",
     "text": [
      "WARNING:tensorflow:Using a while_loop for converting Addons>ResamplerGrad\n"
     ]
    },
    {
     "name": "stderr",
     "output_type": "stream",
     "text": [
      "WARNING:tensorflow:Using a while_loop for converting Addons>ResamplerGrad\n"
     ]
    },
    {
     "name": "stdout",
     "output_type": "stream",
     "text": [
      "WARNING:tensorflow:Using a while_loop for converting Addons>ResamplerGrad\n"
     ]
    },
    {
     "name": "stderr",
     "output_type": "stream",
     "text": [
      "WARNING:tensorflow:Using a while_loop for converting Addons>ResamplerGrad\n"
     ]
    },
    {
     "name": "stdout",
     "output_type": "stream",
     "text": [
      "WARNING:tensorflow:Using a while_loop for converting Addons>ResamplerGrad\n"
     ]
    },
    {
     "name": "stderr",
     "output_type": "stream",
     "text": [
      "WARNING:tensorflow:Using a while_loop for converting Addons>ResamplerGrad\n"
     ]
    },
    {
     "name": "stdout",
     "output_type": "stream",
     "text": [
      "WARNING:tensorflow:Using a while_loop for converting Addons>ResamplerGrad\n"
     ]
    },
    {
     "name": "stderr",
     "output_type": "stream",
     "text": [
      "WARNING:tensorflow:Using a while_loop for converting Addons>ResamplerGrad\n"
     ]
    },
    {
     "name": "stdout",
     "output_type": "stream",
     "text": [
      "WARNING:tensorflow:Using a while_loop for converting Addons>ResamplerGrad\n"
     ]
    },
    {
     "name": "stderr",
     "output_type": "stream",
     "text": [
      "WARNING:tensorflow:Using a while_loop for converting Addons>ResamplerGrad\n"
     ]
    }
   ],
   "source": [
    "e_amc, R_auto, R_psf = response(\n",
    "  gal_images, \n",
    "  psf_images,\n",
    "  tf.convert_to_tensor(noise_images,dtype=tf.float32))\n",
    "\n",
    "if finitediff:\n",
    "  shear, shear_err, shearcorr, shearcorr_err= evaluator(e_amc['noshear'].numpy(), R_auto.numpy() ,g_psf, R_psf.numpy())\n",
    "else:\n",
    "  shear, shear_err, shearcorr, shearcorr_err= evaluator(e_amc.numpy(), R_auto.numpy() ,g_psf, R_psf.numpy())"
   ]
  },
  {
   "cell_type": "raw",
   "id": "15909b7c-6bf4-430b-a197-330d1697d394",
   "metadata": {},
   "source": [
    "step = 0.01\n",
    "step_batch = tf.constant(step,shape=(batch_size,1),dtype=tf.float32)\n",
    "\n",
    "noshear = tf.zeros([batch_size,2],dtype=tf.float32)\n",
    "step1p = tf.pad(step_batch,[[0,0],[0,1]])"
   ]
  },
  {
   "cell_type": "raw",
   "id": "7a39f8aa-3748-45cb-acaa-ad80eea1556d",
   "metadata": {},
   "source": [
    "tf.norm(step1p,axis=1)"
   ]
  },
  {
   "cell_type": "code",
   "execution_count": 16,
   "id": "d32671f3-b36d-464b-823e-63efaeff4db4",
   "metadata": {},
   "outputs": [],
   "source": [
    "pool = Pool(ncpus)\n",
    "dlist = pool.map(ngmix_step,obslist)\n",
    "pool.close()\n",
    "\n",
    "#REXtractor (REsults eXtractor! :))\n",
    "results = [get_metacal_response_ngmix_moments(resdict) for resdict in dlist]\n",
    "\n",
    "#stack results ngmix\n",
    "e_ngmix = array([result[0]['noshear'] for result in results])\n",
    "R_ngmix = array([result[1] for result in results])\n",
    "Rpsf_ngmix = array([result[2] for result in results])\n",
    "\n",
    "\n",
    "shear_ngmix, shear_ngmix_err, shearcorr_ngmix, shearcorr_ngmix_err= evaluator(\n",
    "  e_ngmix, \n",
    "  R_ngmix,\n",
    "  g_psf*0,\n",
    "  Rpsf_ngmix)"
   ]
  },
  {
   "cell_type": "code",
   "execution_count": 17,
   "id": "65a1b5ea-cf9b-4994-a0a5-c52c8cfc7df0",
   "metadata": {},
   "outputs": [
    {
     "name": "stdout",
     "output_type": "stream",
     "text": [
      "AutoMetaCal\n",
      "-------------------------------------------------\n",
      "With psf correction:\n",
      "g1: 0.05012 +/- 0.00000207 (99.7%% conf)\n",
      "g2: -0.00000 +/- 0.00000202 (99.7%% conf)\n",
      "-------------------------------------------------\n",
      "Without psf correction:\n",
      "g1: 0.05876 +/- 0.00000207 (99.7%% conf)\n",
      "g2: -0.00000 +/- 0.00000204 (99.7%% conf)\n",
      "\n",
      "ngmix\n",
      "-------------------------------------------------\n",
      "With psf correction:\n",
      "g1: 0.05012 +/- 0.00000155 (99.7%% conf)\n",
      "g2: 0.00001 +/- 0.00000204 (99.7%% conf)\n",
      "-------------------------------------------------\n",
      "Without psf correction:\n",
      "g1: 0.05012 +/- 0.00000155 (99.7%% conf)\n",
      "g2: 0.00001 +/- 0.00000204 (99.7%% conf)\n"
     ]
    }
   ],
   "source": [
    "print('AutoMetaCal')\n",
    "print('-------------------------------------------------')\n",
    "\n",
    "print('With psf correction:')\n",
    "print(f\"g1: {shearcorr[0]:.5f} +/- {shearcorr_err[0]*3:.8f} (99.7%% conf)\")\n",
    "print(f\"g2: {shearcorr[1]:.5f} +/- {shearcorr_err[1]*3:.8f} (99.7%% conf)\")\n",
    "print('-------------------------------------------------')\n",
    "print('Without psf correction:')\n",
    "print(f\"g1: {shear[0]:.5f} +/- {shear_err[0]*3:.8f} (99.7%% conf)\")\n",
    "print(f\"g2: {shear[1]:.5f} +/- {shear_err[1]*3:.8f} (99.7%% conf)\")\n",
    "print()\n",
    "print('ngmix')\n",
    "print('-------------------------------------------------')\n",
    "print('With psf correction:')\n",
    "print(f\"g1: {shearcorr_ngmix[0]:.5f} +/- {shearcorr_ngmix_err[0]*3:.8f} (99.7%% conf)\")\n",
    "print(f\"g2: {shearcorr_ngmix[1]:.5f} +/- {shearcorr_ngmix_err[1]*3:.8f} (99.7%% conf)\")\n",
    "print('-------------------------------------------------')\n",
    "print('Without psf correction:')\n",
    "print(f\"g1: {shear_ngmix[0]:.5f} +/- {shear_ngmix_err[0]*3:.8f} (99.7%% conf)\")\n",
    "print(f\"g2: {shear_ngmix[1]:.5f} +/- {shear_ngmix_err[1]*3:.8f} (99.7%% conf)\")"
   ]
  },
  {
   "cell_type": "code",
   "execution_count": 18,
   "id": "c212af86-4762-4c8d-a8ab-4825772c144c",
   "metadata": {},
   "outputs": [],
   "source": [
    "#np.testing.assert_allclose(shearcorr[0],shearcorr_ngmix[0],rtol=1e-5,atol=1e-5)"
   ]
  },
  {
   "cell_type": "markdown",
   "id": "ca0400c8-c439-45a7-9e94-61cfd5179fed",
   "metadata": {},
   "source": [
    "## Many batches!"
   ]
  },
  {
   "cell_type": "code",
   "execution_count": 19,
   "id": "1628b9ca-b5c3-4430-99ab-3db24fc889bb",
   "metadata": {},
   "outputs": [],
   "source": [
    "def run_field(shear_true,g_psf,noise_level,batches):\n",
    "  '''run a single-shear field with amc and ngmix'''\n",
    "  e_ngmix_list = []\n",
    "  R_ngmix_list = []\n",
    "  Rpsf_ngmix_list = []\n",
    "  e_amc_list = []\n",
    "  e_psf_list = []\n",
    "  R_amc_list = []\n",
    "  Rpsf_amc_list = []\n",
    "  \n",
    "  for i in range(batches):\n",
    "    #get next batch\n",
    "    onebatch = batchit.next()\n",
    "    \n",
    "    #make observations\n",
    "    gal_images, psf_images, noise_images , obslist = observer(onebatch,shear_true,g_psf,noise_level)\n",
    "    \n",
    "    #run ngmix\n",
    "    pool = Pool(ncpus)\n",
    "    dlist = pool.map(ngmix_step,obslist)\n",
    "    pool.close()\n",
    "\n",
    "    #REXtractor (REsults eXtractor! :))\n",
    "    results = [get_metacal_response_ngmix_moments(resdict) for resdict in dlist]\n",
    "    \n",
    "    #stack results ngmix\n",
    "    e_ngmix_list += [result[0]['noshear'] for result in results]\n",
    "    R_ngmix_list += [result[1] for result in results]\n",
    "    Rpsf_ngmix_list += [result[2] for result in results]\n",
    "\n",
    "    #run AutoMetaCal\n",
    "    e_amc, R_auto, R_psf = response(\n",
    "      gal_images, \n",
    "      psf_images,\n",
    "      tf.convert_to_tensor(noise_images,dtype=tf.float32)\n",
    "    )\n",
    "    \n",
    "    #stack results amc\n",
    "    if finitediff:\n",
    "      e_amc_list += [e_amc['noshear']]\n",
    "    else:\n",
    "      e_amc_list += [e_amc]\n",
    "    \n",
    "    #e_psf_list += [e_psf]\n",
    "    R_amc_list +=[R_auto]\n",
    "    Rpsf_amc_list += [R_psf]\n",
    "  \n",
    "  e_ngmix = array(e_ngmix_list)\n",
    "  R_ngmix = array(R_ngmix_list)\n",
    "  #g_psf = \n",
    "  Rpsf_ngmix = array(Rpsf_ngmix_list)\n",
    "  \n",
    "  shear_ngmix, shear_err_ngmix, shearcorr_ngmix, shearcorr_err_ngmix= evaluator(\n",
    "    e_ngmix, \n",
    "    R_ngmix,\n",
    "    g_psf*0, \n",
    "    Rpsf_ngmix\n",
    "  )\n",
    "  \n",
    "  e_amc = tf.concat(e_amc_list,axis=0)\n",
    "  R_amc = tf.concat(R_amc_list,axis=0)\n",
    "  #e_psf =tf.concat(e_psf_list,axis=0)\n",
    "  Rpsf_amc = tf.concat(Rpsf_amc_list,axis=0)\n",
    "  \n",
    "  shear_amc, shear_err_amc, shearcorr_amc, shearcorr_err_amc= evaluator(\n",
    "    e_amc.numpy(), \n",
    "    R_amc.numpy() ,\n",
    "    g_psf,\n",
    "    Rpsf_amc.numpy()\n",
    "  )\n",
    "  \n",
    "  Rs = [R_ngmix, Rpsf_ngmix,R_amc,Rpsf_amc]\n",
    "  \n",
    "  result_ngmix = {\n",
    "    'e':e_ngmix,\n",
    "    'R':R_ngmix,\n",
    "    'Rpsf':Rpsf_ngmix, \n",
    "    'shear':shear_ngmix, \n",
    "    'shear_err':shear_err_ngmix, \n",
    "    'shearcorr':shearcorr_ngmix, \n",
    "    'shearcorr_err':shearcorr_err_ngmix, \n",
    "  }\n",
    "  \n",
    "  result_amc = {\n",
    "    'e':e_amc,\n",
    "    'R':R_amc,\n",
    "    'Rpsf':Rpsf_amc, \n",
    "    'shear':shear_amc, \n",
    "    'shear_err':shear_err_amc, \n",
    "    'shearcorr':shearcorr_amc, \n",
    "    'shearcorr_err':shearcorr_err_amc, \n",
    "  }\n",
    " \n",
    "  result = {\n",
    "    'ngmix' : result_ngmix,\n",
    "    'amc' : result_amc\n",
    "  }\n",
    "  \n",
    "  return result"
   ]
  },
  {
   "cell_type": "code",
   "execution_count": 20,
   "id": "aedf4f21-0db9-433d-800f-a09c95281d98",
   "metadata": {},
   "outputs": [
    {
     "name": "stderr",
     "output_type": "stream",
     "text": [
      "100%|██████████| 6/6 [13:36<00:00, 136.05s/it]\n"
     ]
    }
   ],
   "source": [
    "shear_range = linspace(-.01,.01,6)\n",
    "\n",
    "shear_ngmix_list = []\n",
    "shear_err_ngmix_list = []\n",
    "shearcorr_ngmix_list = []\n",
    "shearcorr_err_ngmix_list = []\n",
    "R_ngmix_list = []\n",
    "Rpsf_ngmix_list = []\n",
    "\n",
    "shear_amc_list = []\n",
    "shear_err_amc_list = []\n",
    "shearcorr_amc_list = []\n",
    "shearcorr_err_amc_list = []\n",
    "R_amc_list = []\n",
    "Rpsf_amc_list = []\n",
    "\n",
    "for shear in tqdm.tqdm(shear_range):\n",
    "  shear_true = array([shear,0.],dtype='float32')\n",
    "  result = run_field(shear_true,g_psf,noise_level,4)\n",
    "  #ngmix\n",
    "  shear_ngmix_list += [result['ngmix']['shear'] ] \n",
    "  shear_err_ngmix_list += [result['ngmix']['shear_err']]\n",
    "  shearcorr_ngmix_list += [result['ngmix']['shearcorr']]\n",
    "  shearcorr_err_ngmix_list += [result['ngmix']['shearcorr_err']]\n",
    "  R_ngmix_list += [result['ngmix']['R']]\n",
    "  Rpsf_ngmix_list += [result['ngmix']['Rpsf']]\n",
    "  #amc   \n",
    "  shear_amc_list += [result['amc']['shear']]\n",
    "  shear_err_amc_list += [result['amc']['shear_err']]\n",
    "  shearcorr_amc_list += [result['amc']['shearcorr']]\n",
    "  shearcorr_err_amc_list += [result['amc']['shearcorr_err']]\n",
    "  R_amc_list += [result['amc']['R']]\n",
    "  Rpsf_amc_list += [result['amc']['Rpsf']]\n",
    "  "
   ]
  },
  {
   "cell_type": "markdown",
   "id": "58234a1a-7a56-45a9-a8b7-2a68907dde76",
   "metadata": {},
   "source": [
    "## Gather Results"
   ]
  },
  {
   "cell_type": "code",
   "execution_count": 21,
   "id": "2a8ec69f-8d90-41ad-b510-67831b892de7",
   "metadata": {},
   "outputs": [
    {
     "data": {
      "image/png": "[encoded data removed]",
      "text/plain": [
       "<Figure size 432x360 with 1 Axes>"
      ]
     },
     "metadata": {},
     "output_type": "display_data"
    }
   ],
   "source": [
    "style.use('ggplot')\n",
    "figure(figsize=(6,5))\n",
    "\n",
    "X1 = shear_range\n",
    "Y1 =  array(shear_ngmix_list)[:,0]\n",
    "Y1err = array(shear_err_ngmix_list)[:,0]\n",
    "\n",
    "#biases\n",
    "ngmix_bias = linregress(X1,Y1)\n",
    "m_ngmix = ngmix_bias.slope-1\n",
    "c_ngmix = ngmix_bias.intercept\n",
    "\n",
    "#errors\n",
    "m_ngmix_err = ngmix_bias.stderr\n",
    "c_ngmix_err = ngmix_bias.intercept_stderr\n",
    "\n",
    "plot_text = f\"Test name: {settings_name}\\n\\n\"\n",
    "\n",
    "plot_text +=  f\"ngmix: m = {m_ngmix:.3e} +/- {m_ngmix_err:.3e}\\n\"\n",
    "plot_text += f\"ngmix: c = {c_ngmix:.3e} +/- {c_ngmix_err:.3e}\\n\"\n",
    "\n",
    "errorbar(X1,Y1 - X1,Y1err*3,fmt='o',label= 'ngmix moments')\n",
    "\n",
    "Y1 =  array(shear_amc_list)[:,0] \n",
    "Y1err = array(shear_err_amc_list)[:,0]\n",
    "\n",
    "#biases\n",
    "amc_bias = linregress(X1,Y1)\n",
    "m_amc = amc_bias.slope-1\n",
    "c_amc = amc_bias.intercept\n",
    "\n",
    "#errors\n",
    "m_amc_err = amc_bias.stderr\n",
    "c_amc_err = amc_bias.intercept_stderr\n",
    "\n",
    "errorbar(X1,Y1 - X1,Y1err*3,fmt='o',label= 'amc moments')\n",
    "\n",
    "plot_text += f\"\\namc: m = {m_amc:.3e} +/- {m_amc_err:.3e}\\n\"\n",
    "plot_text += f\"amc: c = {c_amc:.3e} +/- {c_amc_err:.3e}\\n\"\n",
    "\n",
    "figtext(.95,.5 ,plot_text,fontsize=15)\n",
    "\n",
    "xlabel('$g_1$ true')\n",
    "ylabel('residuals')\n",
    "\n",
    "legend(loc=3)\n",
    "title(f'R calibrated')\n",
    "savefig(f'{results_folder}/uncorrected_shear_residuals_{settings_name}.jpg',bbox_inches='tight')"
   ]
  },
  {
   "cell_type": "code",
   "execution_count": 22,
   "id": "bec7e32a-5139-451f-bf9b-fa61591f9928",
   "metadata": {},
   "outputs": [
    {
     "data": {
      "image/png": "[encoded data removed]",
      "text/plain": [
       "<Figure size 432x360 with 1 Axes>"
      ]
     },
     "metadata": {},
     "output_type": "display_data"
    }
   ],
   "source": [
    "style.use('ggplot')\n",
    "figure(figsize=(6,5))\n",
    "\n",
    "X1 = shear_range\n",
    "Y1 =  array(shearcorr_ngmix_list)[:,0]\n",
    "Y1err = array(shearcorr_err_ngmix_list)[:,0]\n",
    "\n",
    "#biases\n",
    "ngmix_bias = linregress(X1,Y1)\n",
    "m_ngmix = ngmix_bias.slope - 1\n",
    "c_ngmix = ngmix_bias.intercept\n",
    "\n",
    "#errors\n",
    "m_ngmix_err = ngmix_bias.stderr\n",
    "c_ngmix_err = ngmix_bias.intercept_stderr\n",
    "\n",
    "plot_text = f\"Test name: {settings_name}\\n\\n\"\n",
    "plot_text +=  f\"ngmix: m = {m_ngmix:.3e} +/- {m_ngmix_err:.3e}\\n\"\n",
    "plot_text += f\"ngmix: c = {c_ngmix:.3e} +/- {c_ngmix_err:.3e}\\n\"\n",
    "\n",
    "errorbar(X1,Y1 - X1,Y1err*3,fmt='o',label= 'ngmix moments')\n",
    "\n",
    "Y1 =  array(shearcorr_amc_list)[:,0] \n",
    "Y1err = array(shearcorr_err_amc_list)[:,0]\n",
    "\n",
    "#biases\n",
    "amc_bias = linregress(X1,Y1)\n",
    "m_amc = amc_bias.slope-1\n",
    "c_amc = amc_bias.intercept\n",
    "\n",
    "#errors\n",
    "m_amc_err = amc_bias.stderr\n",
    "c_amc_err = amc_bias.intercept_stderr\n",
    "\n",
    "errorbar(X1,Y1 - X1,Y1err*3,fmt='o',label= 'amc moments')\n",
    "\n",
    "plot_text += f\"\\namc: m = {m_amc:.3e} +/- {m_amc_err:.3e}\\n\"\n",
    "plot_text += f\"amc: c = {c_amc:.3e} +/- {c_amc_err:.3e}\\n\"\n",
    "\n",
    "figtext(.95,.5 ,plot_text,fontsize=15)\n",
    "\n",
    "xlabel('$g_1$ true')\n",
    "ylabel('residuals')\n",
    "\n",
    "legend(loc=3)\n",
    "title(f'R calib + Rpsf corr')\n",
    "savefig(f'{results_folder}/corrected_shear_residuals_{settings_name}.jpg',bbox_inches='tight')"
   ]
  },
  {
   "cell_type": "code",
   "execution_count": 23,
   "id": "6a295745-adae-460d-9c43-09ce116d594f",
   "metadata": {},
   "outputs": [],
   "source": [
    "R_amc = result['amc']['R']\n",
    "R_ngmix = result['ngmix']['R']\n",
    "Rpsf_amc =result['amc']['Rpsf']\n",
    "Rpsf_ngmix = result['ngmix']['Rpsf']"
   ]
  },
  {
   "cell_type": "code",
   "execution_count": 24,
   "id": "fd213374-964f-4239-aa34-da6e96dd981a",
   "metadata": {},
   "outputs": [],
   "source": [
    "R_amc = tf.concat(R_amc_list,axis=0)\n",
    "R_ngmix = tf.cast(tf.concat(R_ngmix_list,axis=0),dtype=tf.float32)\n",
    "Rpsf_amc =tf.concat(Rpsf_amc_list,axis=0)\n",
    "Rpsf_ngmix = tf.cast(tf.concat(Rpsf_ngmix_list,axis=0),dtype=tf.float32)"
   ]
  },
  {
   "cell_type": "code",
   "execution_count": 25,
   "id": "a9ee95f1-df04-4511-970d-eb7172534f0d",
   "metadata": {},
   "outputs": [
    {
     "data": {
      "image/png": "[encoded data removed]",
      "text/plain": [
       "<Figure size 1152x360 with 2 Axes>"
      ]
     },
     "metadata": {},
     "output_type": "display_data"
    }
   ],
   "source": [
    "figure(figsize=(16,5))\n",
    "subplot(121)\n",
    "hist((Rpsf_amc - Rpsf_ngmix)[:,0,0].numpy().flatten(),alpha=0.7,bins=60, label='$R_{psf,11}$');\n",
    "hist((Rpsf_amc - Rpsf_ngmix)[:,1,1].numpy().flatten(),alpha=0.7,bins=60, label='$R_{psf,22}$');\n",
    "legend(fontsize=15)\n",
    "xlabel('$R_{psf,amc} - R_{psf,ngmix}$',fontsize=15)\n",
    "title(f'diagonal psf responsivity at g1={shear}')\n",
    "subplot(122)\n",
    "ylabel(settings_name,fontsize=20)\n",
    "hist((Rpsf_amc - Rpsf_ngmix)[:,0,1].numpy().flatten(),alpha=0.7,bins=60, label='$R_{psf,12}$');\n",
    "hist((Rpsf_amc - Rpsf_ngmix)[:,1,0].numpy().flatten(),alpha=0.7,bins=60, label='$R_{psf,21}$');\n",
    "legend(fontsize=15)\n",
    "xlabel('$R_{psf,amc} - R_{psf,ngmix}$',fontsize=15)\n",
    "title(f'off-diagonal psf responsivity at g1={shear}')\n",
    "savefig(f'{results_folder}/Rpsf_{settings_name}.jpg',bbox_inches='tight')"
   ]
  },
  {
   "cell_type": "code",
   "execution_count": 26,
   "id": "8158b680-6953-4d47-b664-d378eb06f8c0",
   "metadata": {},
   "outputs": [
    {
     "data": {
      "text/plain": [
       "-0.58752275"
      ]
     },
     "execution_count": 26,
     "metadata": {},
     "output_type": "execute_result"
    }
   ],
   "source": [
    "(Rpsf_amc - Rpsf_ngmix)[:,0,0].numpy().flatten().mean()"
   ]
  },
  {
   "cell_type": "code",
   "execution_count": 27,
   "id": "9e0994eb-ecfa-4a8a-9b57-483149e0bfcb",
   "metadata": {},
   "outputs": [
    {
     "data": {
      "text/plain": [
       "1.7998264e-05"
      ]
     },
     "execution_count": 27,
     "metadata": {},
     "output_type": "execute_result"
    }
   ],
   "source": [
    "(Rpsf_amc - Rpsf_ngmix)[:,0,0].numpy().flatten().std()"
   ]
  },
  {
   "cell_type": "code",
   "execution_count": 28,
   "id": "6c78e5c6-904b-44c3-9227-8f08d730dac2",
   "metadata": {},
   "outputs": [
    {
     "data": {
      "text/plain": [
       "-0.58750933"
      ]
     },
     "execution_count": 28,
     "metadata": {},
     "output_type": "execute_result"
    }
   ],
   "source": [
    "(Rpsf_amc - Rpsf_ngmix)[:,1,1].numpy().flatten().mean()"
   ]
  },
  {
   "cell_type": "code",
   "execution_count": 29,
   "id": "0ffa4c62-4159-483a-b291-c6e6ab2447fe",
   "metadata": {},
   "outputs": [
    {
     "data": {
      "text/plain": [
       "2.507032e-05"
      ]
     },
     "execution_count": 29,
     "metadata": {},
     "output_type": "execute_result"
    }
   ],
   "source": [
    "(Rpsf_amc - Rpsf_ngmix)[:,1,1].numpy().flatten().std()"
   ]
  },
  {
   "cell_type": "code",
   "execution_count": 30,
   "id": "0179c6d0-fd07-4abc-b4bf-fb7240c31771",
   "metadata": {},
   "outputs": [
    {
     "data": {
      "image/png": "[encoded data removed]",
      "text/plain": [
       "<Figure size 1152x360 with 2 Axes>"
      ]
     },
     "metadata": {},
     "output_type": "display_data"
    }
   ],
   "source": [
    "figure(figsize=(16,5))\n",
    "subplot(121)\n",
    "hist((R_amc - R_ngmix)[:,0,0].numpy().flatten(),alpha=0.7,bins=60, label='$R_{11}$');\n",
    "hist((R_amc - R_ngmix)[:,1,1].numpy().flatten(),alpha=0.7,bins=60, label='$R_{noshear22}$');\n",
    "legend(fontsize=15)\n",
    "xlabel('$R_{amc} - R_{ngmix}$',fontsize=15)\n",
    "title(f'diagonal responsivity at g1={shear}')\n",
    "subplot(122)\n",
    "ylabel(settings_name,fontsize=20)\n",
    "hist((R_amc - R_ngmix)[:,0,1].numpy().flatten(),alpha=0.7,bins=60, label='$R_{12}$');\n",
    "hist((R_amc - R_ngmix)[:,1,0].numpy().flatten(),alpha=0.7,bins=60, label='$R_{21}$');\n",
    "legend(fontsize=15)\n",
    "xlabel('$R_{amc} - R_{ngmix}$',fontsize=15)\n",
    "title(f'off-diagonal responsivity at g1={shear}')\n",
    "savefig(f'{results_folder}/R_{settings_name}.jpg',bbox_inches='tight')"
   ]
  },
  {
   "cell_type": "code",
   "execution_count": 31,
   "id": "bf6f46a9-6f54-4911-8c9e-9d7f7a9ad8d7",
   "metadata": {},
   "outputs": [
    {
     "ename": "NameError",
     "evalue": "name 'banana' is not defined",
     "output_type": "error",
     "traceback": [
      "\u001b[0;31m---------------------------------------------------------------------------\u001b[0m",
      "\u001b[0;31mNameError\u001b[0m                                 Traceback (most recent call last)",
      "\u001b[0;32m<ipython-input-31-749e03177f1e>\u001b[0m in \u001b[0;36m<module>\u001b[0;34m\u001b[0m\n\u001b[0;32m----> 1\u001b[0;31m \u001b[0mbanana\u001b[0m\u001b[0;34m(\u001b[0m\u001b[0;34m)\u001b[0m\u001b[0;34m;\u001b[0m\u001b[0;34m\u001b[0m\u001b[0;34m\u001b[0m\u001b[0m\n\u001b[0m",
      "\u001b[0;31mNameError\u001b[0m: name 'banana' is not defined"
     ]
    }
   ],
   "source": []
  },
  {
   "cell_type": "markdown",
   "id": "36520ccf-9b50-4f3d-a830-1f3c7062d4f6",
   "metadata": {},
   "source": [
    "## Sensitivity Tests"
   ]
  },
  {
   "cell_type": "code",
   "execution_count": 32,
   "id": "30f68779-34fb-4d74-abe6-00aff2a6a4b0",
   "metadata": {},
   "outputs": [],
   "source": [
    "def test_loop(noise_level,shear_points=6,fieldbatches=4):\n",
    "  shear_range = linspace(-.01,.01,shear_points)\n",
    "\n",
    "  shear_ngmix_list = []\n",
    "  shear_err_ngmix_list = []\n",
    "  shearcorr_ngmix_list = []\n",
    "  shearcorr_err_ngmix_list = []\n",
    "  R_ngmix_list = []\n",
    "  Rpsf_ngmix_list = []\n",
    "\n",
    "  shear_amc_list = []\n",
    "  shear_err_amc_list = []\n",
    "  shearcorr_amc_list = []\n",
    "  shearcorr_err_amc_list = []\n",
    "  R_amc_list = []\n",
    "  Rpsf_amc_list = []\n",
    "    \n",
    "  for shear in shear_range:\n",
    "    shear_true = array([shear,0.],dtype='float32')\n",
    "    result = run_field(shear_true,g_psf,noise_level,fieldbatches)\n",
    "    #ngmix\n",
    "    shear_ngmix_list += [result['ngmix']['shear'] ] \n",
    "    shear_err_ngmix_list += [result['ngmix']['shear_err']]\n",
    "    shearcorr_ngmix_list += [result['ngmix']['shearcorr']]\n",
    "    shearcorr_err_ngmix_list += [result['ngmix']['shearcorr_err']]\n",
    "    R_ngmix_list += [result['ngmix']['R']]\n",
    "    Rpsf_ngmix_list += [result['ngmix']['Rpsf']]\n",
    "    #amc   \n",
    "    shear_amc_list += [result['amc']['shear']]\n",
    "    shear_err_amc_list += [result['amc']['shear_err']]\n",
    "    shearcorr_amc_list += [result['amc']['shearcorr']]\n",
    "    shearcorr_err_amc_list += [result['amc']['shearcorr_err']]\n",
    "    R_amc_list += [result['amc']['R']]\n",
    "    Rpsf_amc_list += [result['amc']['Rpsf']]\n",
    "  \n",
    "  #g1\n",
    "  #ngmix\n",
    "  X1 = shear_range#[:,0]\n",
    "  Y1_ngmix =  array(shearcorr_ngmix_list)[:,0]\n",
    "  Y1err_ngmix = array(shearcorr_err_ngmix_list)[:,0]/abs(X1)\n",
    "  g1_scatter_ngmix = Y1err_ngmix.mean()\n",
    "\n",
    "  #biases\n",
    "  ngmix_bias1 = linregress(X1,Y1_ngmix)\n",
    "  m1_ngmix = ngmix_bias1.slope - 1\n",
    "  c1_ngmix = ngmix_bias1.intercept\n",
    "\n",
    "  #errors\n",
    "  m1_ngmix_err = ngmix_bias.stderr\n",
    "  c1_ngmix_err = ngmix_bias.intercept_stderr\n",
    "  \n",
    "  #amc\n",
    "  Y1_amc =  array(shearcorr_amc_list)[:,0] \n",
    "  Y1err_amc = array(shearcorr_err_amc_list)[:,0]/abs(X1)\n",
    "  g1_scatter_amc = Y1err_amc.mean()\n",
    "\n",
    "  #biases\n",
    "  amc_bias1 = linregress(X1,Y1_amc)\n",
    "  m1_amc = amc_bias1.slope-1\n",
    "  c1_amc = amc_bias1.intercept\n",
    "\n",
    "  #errors\n",
    "  m1_amc_err = amc_bias1.stderr\n",
    "  c1_amc_err = amc_bias1.intercept_stderr\n",
    "  \n",
    "  #g2\n",
    "  #X2 = shear_range#[:,1]\n",
    "  #Y2_ngmix =  array(shearcorr_ngmix_list)[:,1]\n",
    "  #Y1err_ngmix = array(shearcorr_err_ngmix_list)[:,1]\n",
    "\n",
    "  #biases\n",
    "  #ngmix_bias2 = linregress(X2,Y2_ngmix)\n",
    "  #m2_ngmix = ngmix_bias2.slope - 1\n",
    "  #c2_ngmix = ngmix_bias2.intercept\n",
    "\n",
    "  #errors\n",
    "  #m2_ngmix_err = ngmix_bias.stderr\n",
    "  #c2_ngmix_err = ngmix_bias.intercept_stderr\n",
    "  \n",
    "  #Y2_amc =  array(shearcorr_amc_list)[:,1] \n",
    "  #Y1err_amc = array(shearcorr_err_amc_list)[:,0]\n",
    "\n",
    "  #biases\n",
    "  #amc_bias2 = linregress(X2,Y2_amc)\n",
    "  #m2_amc = amc_bias2.slope-1\n",
    "  #c2_amc = amc_bias2.intercept\n",
    "\n",
    "  #errors\n",
    "  #m2_amc_err = amc_bias.stderr\n",
    "  #c2_amc_err = amc_bias.intercept_stderr\n",
    "  \n",
    "  result = {\n",
    "    'm1_amc' :[m1_amc,m1_amc_err],\n",
    "    'c1_amc' :[c1_amc,c1_amc_err], \n",
    "    'm1_ngmix' :[m1_ngmix,m1_ngmix_err],\n",
    "    'c1_ngmix' :[c1_ngmix,c1_ngmix_err],\n",
    "    'g1_scatter_amc' : g1_scatter_amc,\n",
    "    'g1_scatter_ngmix' : g1_scatter_ngmix,\n",
    "    #'m2_amc' :[m2_amc,m2_amc_err],\n",
    "    #'c2_amc' :[c2_amc,c2_amc_err],\n",
    "    #'m2_ngmix' :[m2_ngmix,m2_ngmix_err], \n",
    "    #'c2_ngmix' :[c2_ngmix,c2_ngmix_err],\n",
    "  }\n",
    "  \n",
    "  return result"
   ]
  },
  {
   "cell_type": "code",
   "execution_count": null,
   "id": "88bc75b5-56ac-4db9-8bfa-fa97dfb2e5b6",
   "metadata": {},
   "outputs": [
    {
     "name": "stderr",
     "output_type": "stream",
     "text": [
      "  0%|          | 0/8 [00:00<?, ?it/s]"
     ]
    }
   ],
   "source": [
    "test_result_list = []\n",
    "timestamp = time.time()\n",
    "noises=logspace(-2,-3,8)\n",
    "for noise_level in tqdm.tqdm(noises):\n",
    "  test_result_list +=[test_loop(noise_level,fieldbatches=40)]\n",
    "  save(f\"sensetest_{settings_name}_{timestamp}.npy\",test_result_list)  "
   ]
  },
  {
   "cell_type": "markdown",
   "id": "ff44d22a-dbbb-471f-9bbc-c764135d5457",
   "metadata": {},
   "source": [
    "test_result_list = load(\"sensetest_iso_vs_aniso_psf_1e-06_round_fixnoise_1659215738.4373617.npy\",allow_pickle=True)"
   ]
  },
  {
   "cell_type": "code",
   "execution_count": null,
   "id": "57ef06b0-c9d8-47b3-962b-146389310cc5",
   "metadata": {},
   "outputs": [],
   "source": [
    "len(test_result_list)"
   ]
  },
  {
   "cell_type": "code",
   "execution_count": null,
   "id": "9cbebec9-aaf9-403c-ac37-1cb4d1acb9f6",
   "metadata": {},
   "outputs": [],
   "source": [
    "m1_amc_list = [test_result['m1_amc'][0] for test_result in test_result_list]\n",
    "m1_amc_list_err = [test_result['m1_amc'][1] for test_result in test_result_list]\n",
    "m1_ngmix_list = [test_result['m1_ngmix'][0] for test_result in test_result_list]\n",
    "m1_ngmix_list_err = [test_result['m1_ngmix'][1] for test_result in test_result_list]\n",
    "g1_scatter_amc = [test_result['g1_scatter_amc'] for test_result in test_result_list]\n",
    "g1_scatter_ngmix = [test_result['g1_scatter_ngmix'] for test_result in test_result_list]"
   ]
  },
  {
   "cell_type": "code",
   "execution_count": null,
   "id": "5565b194-4b10-4ca4-9c58-7edcebe11d1e",
   "metadata": {},
   "outputs": [],
   "source": [
    "noises=logspace(-2,-3,8)[:len(test_result_list)]\n",
    "X = 1/sqrt(noises)\n",
    "Y = (array(m1_amc_list))\n",
    "plot(X,Y,label='amc',color='b')\n",
    "fill_between(X,Y-m1_amc_list_err,Y+m1_amc_list_err,color='blue',alpha=.2)\n",
    "Y = (array(m1_ngmix_list))\n",
    "plot(X,Y,label='ngmix')\n",
    "fill_between(X,Y-m1_ngmix_list_err,Y+m1_ngmix_list_err,color='red',alpha=.2)\n",
    "\n",
    "\n",
    "#yscale('log')\n",
    "#xscale('log')\n",
    "xlabel('snr')\n",
    "ylabel('m')\n",
    "legend()\n",
    "savefig('sensitivity_m1_modelfitting.jpeg')"
   ]
  },
  {
   "cell_type": "code",
   "execution_count": null,
   "id": "3820b08c-f1fb-45dc-933d-517cd01d07ad",
   "metadata": {},
   "outputs": [],
   "source": [
    "c1_amc_list = [test_result['c1_amc'][0] for test_result in test_result_list]\n",
    "c1_amc_list_err = [test_result['c1_amc'][1] for test_result in test_result_list]\n",
    "c1_ngmix_list = [test_result['c1_ngmix'][0] for test_result in test_result_list]\n",
    "c1_ngmix_list_err = [test_result['c1_ngmix'][1] for test_result in test_result_list]"
   ]
  },
  {
   "cell_type": "code",
   "execution_count": null,
   "id": "eefc65c4-650c-4b60-b477-6510f3562e73",
   "metadata": {},
   "outputs": [],
   "source": [
    "Y = (array(c1_amc_list))\n",
    "plot(X,Y,label='amc',color='b')\n",
    "fill_between(X,Y-c1_amc_list_err,Y+c1_amc_list_err,color='blue',alpha=.2)\n",
    "Y = (array(c1_ngmix_list))\n",
    "plot(X,Y,label='ngmix',color='r')\n",
    "fill_between(X,Y-c1_ngmix_list_err,Y+c1_ngmix_list_err,color='red',alpha=.2)\n",
    "#yscale('log')\n",
    "#xscale('log')\n",
    "xlabel('snr')\n",
    "ylabel('|c|')\n",
    "legend()\n",
    "savefig('sensitivity_c1_modelfitting.jpeg')"
   ]
  },
  {
   "cell_type": "code",
   "execution_count": null,
   "id": "8fc77127-672d-4487-83d4-8eba1de9fac1",
   "metadata": {},
   "outputs": [],
   "source": [
    "Y1 = abs(array(g1_scatter_amc))\n",
    "Y2 = abs(array(g1_scatter_ngmix))\n",
    "#plot([0,100],[1,1],'k')\n",
    "plot(X,Y1,label='amc w/ PSF response')\n",
    "plot(X,Y2,label='ngmix w/ gauss rPSF')\n",
    "#yscale('log')\n",
    "#xscale('log')\n",
    "xlabel('SNR')\n",
    "xlim([10,30])\n",
    "ylabel('average relative error in $ \\\\gamma_1$')\n",
    "legend()\n",
    "savefig('sense_scatter_modelfitting.jpeg')"
   ]
  },
  {
   "cell_type": "code",
   "execution_count": null,
   "id": "1f6a53c3-5f96-4263-a88a-e8af31f9bf7f",
   "metadata": {},
   "outputs": [],
   "source": []
  }
 ],
 "metadata": {
  "kernelspec": {
   "display_name": "Python 3",
   "language": "python",
   "name": "python3"
  },
  "language_info": {
   "codemirror_mode": {
    "name": "ipython",
    "version": 3
   },
   "file_extension": ".py",
   "mimetype": "text/x-python",
   "name": "python",
   "nbconvert_exporter": "python",
   "pygments_lexer": "ipython3",
   "version": "3.8.12"
  }
 },
 "nbformat": 4,
 "nbformat_minor": 5
}
