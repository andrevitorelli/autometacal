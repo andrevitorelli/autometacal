{
 "cells": [
  {
   "cell_type": "markdown",
   "id": "d7f66627-0ecf-417e-8519-dc5824cb2747",
   "metadata": {},
   "source": [
    "# PSF Experiment 2.0 - amc vs ngmix -  Moments + fixnoise"
   ]
  },
  {
   "cell_type": "markdown",
   "id": "b69026fc-869d-4d7d-b48b-5f25a3afad33",
   "metadata": {},
   "source": [
    "This notebook serves as a unit test base between amc and ngmix."
   ]
  },
  {
   "cell_type": "code",
   "execution_count": 1,
   "id": "34db291e-9142-4861-9195-f7d4500dc4b3",
   "metadata": {},
   "outputs": [
    {
     "name": "stdout",
     "output_type": "stream",
     "text": [
      "Populating the interactive namespace from numpy and matplotlib\n"
     ]
    }
   ],
   "source": [
    "%pylab inline"
   ]
  },
  {
   "cell_type": "code",
   "execution_count": 2,
   "id": "84cca4c4-4285-4773-b21d-d182785b3bcc",
   "metadata": {},
   "outputs": [],
   "source": [
    "#os\n",
    "import os\n",
    "os.environ[\"CUDA_VISIBLE_DEVICES\"] = \"2\""
   ]
  },
  {
   "cell_type": "code",
   "execution_count": 3,
   "id": "efd95363-9d3f-40c4-a65e-5ea08590a60b",
   "metadata": {},
   "outputs": [
    {
     "name": "stderr",
     "output_type": "stream",
     "text": [
      "<frozen importlib._bootstrap>:219: RuntimeWarning: scipy._lib.messagestream.MessageStream size changed, may indicate binary incompatibility. Expected 56 from C header, got 64 from PyObject\n"
     ]
    }
   ],
   "source": [
    "#this is us\n",
    "import autometacal as amc\n",
    "import tensorflow_datasets as tfds\n",
    "import tensorflow as tf\n",
    "\n",
    "#...vs them!\n",
    "import ngmix\n",
    "import galsim\n",
    "from multiprocessing import Pool"
   ]
  },
  {
   "cell_type": "markdown",
   "id": "e9adc5cc-ab73-417c-8580-ddf36564d75a",
   "metadata": {},
   "source": [
    "## Settings"
   ]
  },
  {
   "cell_type": "code",
   "execution_count": 4,
   "id": "dc4bc7b7-bc58-4209-9d16-0a97dde18d39",
   "metadata": {},
   "outputs": [],
   "source": [
    "rng = np.random.RandomState(31415)\n",
    "\n",
    "#stamp properties\n",
    "stamp_size = 51\n",
    "batch_size = 200\n",
    "scale = 0.263\n",
    "window_fwhm = 1.2\n",
    "#computation settings\n",
    "ncpus = 48\n",
    "\n",
    "#test settings\n",
    "g_psf =  array([0.01,0.0],dtype='float32')\n",
    "noise_level = 1e-5\n",
    "fixnoise = True\n",
    "shapenoise = True\n",
    "finitediff= False\n",
    "psf_noise_level = noise_level/1000\n",
    "\n",
    "#filenames\n",
    "if finitediff:\n",
    "  finitechoice = \"finitediff\"\n",
    "else:\n",
    "  finitechoice = \"amc\"\n",
    "results_folder = f\"Results/{finitechoice}_vs_ngmix\"\n",
    "settings_name = f\"anisotropic_psf_{str(noise_level)}\"\n",
    "\n",
    "#build filename\n",
    "if shapenoise:\n",
    "  settings_name += \"_shaped\"\n",
    "else:\n",
    "  settings_name += \"_round\"\n",
    "  \n",
    "if fixnoise:\n",
    "  settings_name += \"_fixnoise64\"\n",
    "else:\n",
    "  settings_name += \"_nofixnoise\"  "
   ]
  },
  {
   "cell_type": "markdown",
   "id": "4e484f58-be4b-4d96-90bd-b6cad56a53fa",
   "metadata": {},
   "source": [
    "## Get to the Data!"
   ]
  },
  {
   "cell_type": "code",
   "execution_count": 5,
   "id": "df463745-e1d5-4887-b207-6859e5499789",
   "metadata": {},
   "outputs": [],
   "source": [
    "if shapenoise:\n",
    "  data = tfds.load('GalGen/small_100k')\n",
    "else:\n",
    "  data = tfds.load('simple/small_1k_noshear')\n",
    "data = data['train'].cache()\n",
    "data = data.batch(batch_size)\n",
    "data = data.repeat()\n",
    "data = data.prefetch(tf.data.experimental.AUTOTUNE)"
   ]
  },
  {
   "cell_type": "code",
   "execution_count": 6,
   "id": "736a7062-e064-424c-90d6-4ca7526555e0",
   "metadata": {},
   "outputs": [],
   "source": [
    "batchit = data.as_numpy_iterator()\n",
    "onebatch = batchit.next()"
   ]
  },
  {
   "cell_type": "code",
   "execution_count": 7,
   "id": "9aa2aeed-dc98-40ec-a109-6cded06bee4c",
   "metadata": {},
   "outputs": [
    {
     "data": {
      "text/plain": [
       "200"
      ]
     },
     "execution_count": 7,
     "metadata": {},
     "output_type": "execute_result"
    }
   ],
   "source": [
    "len(onebatch['gal_model'])"
   ]
  },
  {
   "cell_type": "code",
   "execution_count": 8,
   "id": "3845716e-7fc0-4184-8902-1eb6e54ca242",
   "metadata": {},
   "outputs": [],
   "source": [
    "def make_psf(batch_size,stamp_size):\n",
    "  psf_fwhm = 0.7\n",
    "  psf = galsim.Moffat(beta=4.8, fwhm=psf_fwhm).shear(g1=g_psf[0],g2=g_psf[1])\n",
    "  psf_image = tf.convert_to_tensor(psf.drawImage(nx=stamp_size, ny=stamp_size, scale=scale,method='no_pixel').array,dtype=tf.float32)[tf.newaxis]\n",
    "  psf_images = tf.repeat(psf_image,batch_size,axis=0)\n",
    "  return psf_images\n",
    "\n",
    "def make_noise(noise_level,batch_size,stamp_size):\n",
    "  noise_imgs = np.random.normal(scale=noise_level,size=[batch_size,stamp_size,stamp_size])\n",
    "  return noise_imgs"
   ]
  },
  {
   "cell_type": "markdown",
   "id": "51213b13-07b1-4bb8-807a-0836f5dc16cb",
   "metadata": {},
   "source": [
    "## Create observations for ngmix"
   ]
  },
  {
   "cell_type": "code",
   "execution_count": 9,
   "id": "b64ff256-ca4a-4a8e-9183-69abfc3be5e4",
   "metadata": {},
   "outputs": [],
   "source": [
    "def observer(batch,shear_true,symmetric=True):\n",
    "\n",
    "  psf_images = make_psf(batch_size,stamp_size)\n",
    "  gal_images =amc.noiseless_real_mcal_image(onebatch['gal_model'],\n",
    "                                         psf_images,\n",
    "                                         tf.repeat([shear_true],\n",
    "                                        len(onebatch['gal_model']),axis=0))\n",
    "  \n",
    "\n",
    "  noise_images = make_noise(noise_level,batch_size,stamp_size)\n",
    "  gal_images += noise_images\n",
    "  psf_noise_images = make_noise(psf_noise_level,batch_size,stamp_size)\n",
    "  psf_images += psf_noise_images\n",
    "  \n",
    "  if symmetric:\n",
    "    psf_images90 = make_psf(batch_size,stamp_size)\n",
    "    gal_images90 = rot90(onebatch['gal_model'],axes=[1,2])\n",
    "    gal_images90 =amc.noiseless_real_mcal_image(gal_images90,\n",
    "                                         psf_images,\n",
    "                                         tf.repeat([shear_true],\n",
    "                                        len(onebatch['gal_model']),axis=0))\n",
    "    \n",
    "    noise_images90 = make_noise(noise_level,batch_size,stamp_size)\n",
    "    gal_images90 += noise_images90\n",
    "    psf_noise_images90 = make_noise(psf_noise_level,batch_size,stamp_size)\n",
    "    psf_images90 += psf_noise_images90\n",
    "    gal_images= concatenate([gal_images,gal_images90])\n",
    "    psf_images = concatenate([psf_images,psf_images90])\n",
    "    noise_images = concatenate([noise_images,noise_images90])\n",
    "\n",
    "  \n",
    "  obslist = []\n",
    "  for im, psf_im in zip(gal_images,psf_images):\n",
    "    cen = (np.array(im.shape)-1.0)/2.0\n",
    "    psf_cen = (np.array(psf_im.shape)-1.0)/2.0\n",
    "\n",
    "    jacobian = ngmix.DiagonalJacobian(\n",
    "        row=cen[0] + 0/scale, col=cen[1] + 0/scale, scale=scale,\n",
    "    )\n",
    "    psf_jacobian = ngmix.DiagonalJacobian(\n",
    "        row=psf_cen[0], col=psf_cen[1], scale=scale,\n",
    "    )\n",
    "    wt = im*0 + 1.0/noise_level**2\n",
    "    psf_wt = psf_im*0 + 1.0/psf_noise_level**2\n",
    "\n",
    "    psf_obs = ngmix.Observation(\n",
    "        psf_im,\n",
    "        weight=psf_wt,\n",
    "        jacobian=psf_jacobian,\n",
    "    )\n",
    "\n",
    "    obs = ngmix.Observation(\n",
    "        im,\n",
    "        weight=wt,\n",
    "        jacobian=jacobian,\n",
    "        psf=psf_obs,\n",
    "    )\n",
    "    obslist += [obs]\n",
    "  \n",
    "  return gal_images, psf_images ,noise_images, obslist  "
   ]
  },
  {
   "cell_type": "markdown",
   "id": "30ba8c1d-2d35-49c5-abc2-8970a5dfd276",
   "metadata": {},
   "source": [
    "## Make the ngmix runner"
   ]
  },
  {
   "cell_type": "code",
   "execution_count": 10,
   "id": "05d1f1d7-50a1-42aa-8bf2-0f12086c0f89",
   "metadata": {},
   "outputs": [],
   "source": [
    "def ngmix_booter_moments(rng,**kwargs):\n",
    "  options = {\n",
    "    'psf': 'dilate',\n",
    "    'types': ['noshear', \n",
    "              '1p', '1m', '2p', '2m', '1p_psf', '1m_psf', '2p_psf', '2m_psf'\n",
    "              ],\n",
    "    'scale': scale,\n",
    "        \n",
    "  }\n",
    "\n",
    "  weight_fwhm = window_fwhm\n",
    "  fitter = ngmix.gaussmom.GaussMom(fwhm=weight_fwhm)\n",
    "  psf_fitter = ngmix.gaussmom.GaussMom(fwhm=weight_fwhm)\n",
    "\n",
    "  # these \"runners\" run the measurement code on observations\n",
    "  psf_runner = ngmix.runners.PSFRunner(fitter=psf_fitter)\n",
    "  runner = ngmix.runners.Runner(fitter=fitter)\n",
    " \n",
    "  boot = ngmix.metacal.MetacalBootstrapper(\n",
    "      runner=runner,\n",
    "      psf_runner=psf_runner,\n",
    "      rng=rng,\n",
    "      psf=options['psf'],\n",
    "      types=options['types'],\n",
    "    fixnoise = True\n",
    "  )\n",
    "  return boot\n",
    "\n",
    "boot = ngmix_booter_moments(rng)"
   ]
  },
  {
   "cell_type": "markdown",
   "id": "fce184ff-7f49-4cad-9a70-e248c133729a",
   "metadata": {},
   "source": [
    "...and run it:"
   ]
  },
  {
   "cell_type": "code",
   "execution_count": 11,
   "id": "a84be3a4-b385-4f51-8028-46cb664aac94",
   "metadata": {},
   "outputs": [],
   "source": [
    "def ngmix_step(obs):\n",
    "  resdict, _ = boot.go(obs)\n",
    "  return resdict"
   ]
  },
  {
   "cell_type": "markdown",
   "id": "115c0ff1-c08d-4ec1-9e4b-f28e4fd5d577",
   "metadata": {},
   "source": [
    "## Extract the results"
   ]
  },
  {
   "cell_type": "code",
   "execution_count": null,
   "id": "e558ebe5-0bea-458f-ab96-6cf2ad7d95df",
   "metadata": {},
   "outputs": [],
   "source": [
    "def get_metacal_response_ngmix_moments(resdict):\n",
    "  step=0.01\n",
    "\n",
    "  #shear\n",
    "  g0s = np.array([resdict['noshear']['e'][0], resdict['noshear']['e'][1]])\n",
    "  g1p = np.array([resdict['1p']['e'][0], resdict['1p']['e'][1]])\n",
    "  g1m = np.array([resdict['1m']['e'][0], resdict['1m']['e'][1]])\n",
    "  g2p = np.array([resdict['2p']['e'][0], resdict['2p']['e'][1]])\n",
    "  g2m = np.array([resdict['2m']['e'][0], resdict['2m']['e'][1]])    \n",
    "  \n",
    "  R11 = (g1p[0]-g1m[0])/(2*step)\n",
    "  R21 = (g1p[1]-g1m[1])/(2*step) \n",
    "  R12 = (g2p[0]-g2m[0])/(2*step)\n",
    "  R22 = (g2p[1]-g2m[1])/(2*step)\n",
    "  \n",
    "  #PSF\n",
    "  g1p_psf = np.array([resdict['1p_psf']['e'][0], resdict['1p_psf']['e'][1]])\n",
    "  g1m_psf = np.array([resdict['1m_psf']['e'][0], resdict['1m_psf']['e'][1]])\n",
    "  g2p_psf = np.array([resdict['2p_psf']['e'][0], resdict['2p_psf']['e'][1]])\n",
    "  g2m_psf = np.array([resdict['2m_psf']['e'][0], resdict['2m_psf']['e'][1]])    \n",
    "  \n",
    "  R11_psf = (g1p_psf[0]-g1m_psf[0])/(2*step)\n",
    "  R21_psf = (g1p_psf[1]-g1m_psf[1])/(2*step) \n",
    "  R12_psf = (g2p_psf[0]-g2m_psf[0])/(2*step)\n",
    "  R22_psf = (g2p_psf[1]-g2m_psf[1])/(2*step)  \n",
    "  \n",
    "  ellip_dict = {\n",
    "    'noshear':g0s,\n",
    "    '1p':g1p,\n",
    "    '1m':g1m,\n",
    "    '2p':g2p,\n",
    "    '2m':g2m,\n",
    "    '1p_psf':g1p_psf,\n",
    "    '1m_psf':g1m_psf,\n",
    "    '2p_psf':g2p_psf,\n",
    "    '2m_psf':g2m_psf,    \n",
    "  } \n",
    "  \n",
    "  R = np.array(\n",
    "    [[R11,R12],\n",
    "     [R21,R22]])\n",
    "\n",
    "  Rpsf = np.array(\n",
    "    [[R11_psf,R12_psf],\n",
    "     [R21_psf,R22_psf]])\n",
    "    \n",
    "  return ellip_dict, R, Rpsf"
   ]
  },
  {
   "cell_type": "code",
   "execution_count": null,
   "id": "80a0039e-8a59-4b2c-a25c-b192dc4cdf10",
   "metadata": {},
   "outputs": [],
   "source": [
    "def metacal_shear(e,R):\n",
    "  return linalg.inv(R) @ e\n",
    "\n",
    "def metacal_shear_psf(e,R,ep, Rp):\n",
    "  return linalg.inv(R) @ (e - Rp @ ep)\n",
    "\n",
    "def bootstraper(x,nboot):\n",
    "  resample = random.randint(0,len(x),[nboot,len(x)])\n",
    "  return x[resample].mean(axis=0)\n",
    "\n",
    "\n",
    "def evaluator(ellips, R, g_psf, Rpsf):\n",
    "  nboot=1000 #bootstraps make it look professional\n",
    "\n",
    "  #uncorrected  \n",
    "  resample = random.randint(0,batch_size,[nboot,batch_size])\n",
    "  e = bootstraper(ellips,nboot).reshape(-1,2,1)\n",
    "  R = bootstraper(R,nboot)\n",
    "  Rp = bootstraper(Rpsf,nboot)\n",
    "\n",
    "  shears = metacal_shear(e,R)\n",
    "  shear = shears.mean(axis=0)\n",
    "  shear_err = shears.std(axis=0)\n",
    "\n",
    "  shearcorrs = metacal_shear_psf(e,R,g_psf.reshape(-1,2,1), Rp)\n",
    "  shearcorr = shearcorrs.mean(axis=0)\n",
    "  shearcorr_err = shearcorrs.std(axis=0)\n",
    "  return shear[...,0], shear_err[...,0],  shearcorr[...,0], shearcorr_err[...,0]"
   ]
  },
  {
   "cell_type": "code",
   "execution_count": 29,
   "id": "edebb50c-3852-440e-a78a-ff2b326cf22c",
   "metadata": {},
   "outputs": [
    {
     "ename": "ValueError",
     "evalue": "matmul: Input operand 1 has a mismatch in its core dimension 0, with gufunc signature (n?,k),(k,m?)->(n?,m?) (size 400 is different from 2)",
     "output_type": "error",
     "traceback": [
      "\u001b[0;31m---------------------------------------------------------------------------\u001b[0m",
      "\u001b[0;31mValueError\u001b[0m                                Traceback (most recent call last)",
      "\u001b[0;32m<ipython-input-29-5a7b800a9a01>\u001b[0m in \u001b[0;36m<module>\u001b[0;34m\u001b[0m\n\u001b[1;32m     10\u001b[0m   \u001b[0;32mreturn\u001b[0m \u001b[0mshear\u001b[0m\u001b[0;34m[\u001b[0m\u001b[0;34m...\u001b[0m\u001b[0;34m,\u001b[0m\u001b[0;36m0\u001b[0m\u001b[0;34m]\u001b[0m\u001b[0;34m,\u001b[0m \u001b[0mshear_err\u001b[0m\u001b[0;34m[\u001b[0m\u001b[0;34m...\u001b[0m\u001b[0;34m,\u001b[0m\u001b[0;36m0\u001b[0m\u001b[0;34m]\u001b[0m\u001b[0;34m,\u001b[0m  \u001b[0mshearcorr\u001b[0m\u001b[0;34m[\u001b[0m\u001b[0;34m...\u001b[0m\u001b[0;34m,\u001b[0m\u001b[0;36m0\u001b[0m\u001b[0;34m]\u001b[0m\u001b[0;34m,\u001b[0m \u001b[0mshearcorr_err\u001b[0m\u001b[0;34m[\u001b[0m\u001b[0;34m...\u001b[0m\u001b[0;34m,\u001b[0m\u001b[0;36m0\u001b[0m\u001b[0;34m]\u001b[0m\u001b[0;34m\u001b[0m\u001b[0;34m\u001b[0m\u001b[0m\n\u001b[1;32m     11\u001b[0m \u001b[0;34m\u001b[0m\u001b[0m\n\u001b[0;32m---> 12\u001b[0;31m \u001b[0mshear\u001b[0m\u001b[0;34m,\u001b[0m \u001b[0mshear_err\u001b[0m\u001b[0;34m,\u001b[0m \u001b[0mshearcorr\u001b[0m\u001b[0;34m,\u001b[0m \u001b[0mshearcorr_err\u001b[0m\u001b[0;34m=\u001b[0m \u001b[0mevaluator\u001b[0m\u001b[0;34m(\u001b[0m\u001b[0me_amc\u001b[0m\u001b[0;34m.\u001b[0m\u001b[0mnumpy\u001b[0m\u001b[0;34m(\u001b[0m\u001b[0;34m)\u001b[0m\u001b[0;34m,\u001b[0m \u001b[0mR_auto\u001b[0m\u001b[0;34m.\u001b[0m\u001b[0mnumpy\u001b[0m\u001b[0;34m(\u001b[0m\u001b[0;34m)\u001b[0m \u001b[0;34m,\u001b[0m\u001b[0mg_psf\u001b[0m\u001b[0;34m,\u001b[0m \u001b[0mR_psf\u001b[0m\u001b[0;34m.\u001b[0m\u001b[0mnumpy\u001b[0m\u001b[0;34m(\u001b[0m\u001b[0;34m)\u001b[0m\u001b[0;34m)\u001b[0m\u001b[0;34m\u001b[0m\u001b[0;34m\u001b[0m\u001b[0m\n\u001b[0m",
      "\u001b[0;32m<ipython-input-29-5a7b800a9a01>\u001b[0m in \u001b[0;36mevaluator\u001b[0;34m(ellips, R, g_psf, Rpsf)\u001b[0m\n\u001b[1;32m      1\u001b[0m \u001b[0;32mdef\u001b[0m \u001b[0mevaluator\u001b[0m\u001b[0;34m(\u001b[0m\u001b[0mellips\u001b[0m\u001b[0;34m,\u001b[0m \u001b[0mR\u001b[0m\u001b[0;34m,\u001b[0m \u001b[0mg_psf\u001b[0m\u001b[0;34m,\u001b[0m \u001b[0mRpsf\u001b[0m\u001b[0;34m)\u001b[0m\u001b[0;34m:\u001b[0m\u001b[0;34m\u001b[0m\u001b[0;34m\u001b[0m\u001b[0m\n\u001b[1;32m      2\u001b[0m \u001b[0;34m\u001b[0m\u001b[0m\n\u001b[0;32m----> 3\u001b[0;31m   \u001b[0mshears\u001b[0m \u001b[0;34m=\u001b[0m \u001b[0mmetacal_shear\u001b[0m\u001b[0;34m(\u001b[0m\u001b[0mellips\u001b[0m\u001b[0;34m,\u001b[0m\u001b[0mR\u001b[0m\u001b[0;34m)\u001b[0m\u001b[0;34m\u001b[0m\u001b[0;34m\u001b[0m\u001b[0m\n\u001b[0m\u001b[1;32m      4\u001b[0m   \u001b[0mshear\u001b[0m \u001b[0;34m=\u001b[0m \u001b[0mshears\u001b[0m\u001b[0;34m.\u001b[0m\u001b[0mmean\u001b[0m\u001b[0;34m(\u001b[0m\u001b[0maxis\u001b[0m\u001b[0;34m=\u001b[0m\u001b[0;36m0\u001b[0m\u001b[0;34m)\u001b[0m\u001b[0;34m\u001b[0m\u001b[0;34m\u001b[0m\u001b[0m\n\u001b[1;32m      5\u001b[0m   \u001b[0mshear_err\u001b[0m \u001b[0;34m=\u001b[0m \u001b[0mshears\u001b[0m\u001b[0;34m.\u001b[0m\u001b[0mstd\u001b[0m\u001b[0;34m(\u001b[0m\u001b[0maxis\u001b[0m\u001b[0;34m=\u001b[0m\u001b[0;36m0\u001b[0m\u001b[0;34m)\u001b[0m\u001b[0;34m\u001b[0m\u001b[0;34m\u001b[0m\u001b[0m\n",
      "\u001b[0;32m<ipython-input-13-fb1d05eb6b86>\u001b[0m in \u001b[0;36mmetacal_shear\u001b[0;34m(e, R)\u001b[0m\n\u001b[1;32m      1\u001b[0m \u001b[0;32mdef\u001b[0m \u001b[0mmetacal_shear\u001b[0m\u001b[0;34m(\u001b[0m\u001b[0me\u001b[0m\u001b[0;34m,\u001b[0m\u001b[0mR\u001b[0m\u001b[0;34m)\u001b[0m\u001b[0;34m:\u001b[0m\u001b[0;34m\u001b[0m\u001b[0;34m\u001b[0m\u001b[0m\n\u001b[0;32m----> 2\u001b[0;31m   \u001b[0;32mreturn\u001b[0m \u001b[0mlinalg\u001b[0m\u001b[0;34m.\u001b[0m\u001b[0minv\u001b[0m\u001b[0;34m(\u001b[0m\u001b[0mR\u001b[0m\u001b[0;34m)\u001b[0m \u001b[0;34m@\u001b[0m \u001b[0me\u001b[0m\u001b[0;34m\u001b[0m\u001b[0;34m\u001b[0m\u001b[0m\n\u001b[0m\u001b[1;32m      3\u001b[0m \u001b[0;34m\u001b[0m\u001b[0m\n\u001b[1;32m      4\u001b[0m \u001b[0;32mdef\u001b[0m \u001b[0mmetacal_shear_psf\u001b[0m\u001b[0;34m(\u001b[0m\u001b[0me\u001b[0m\u001b[0;34m,\u001b[0m\u001b[0mR\u001b[0m\u001b[0;34m,\u001b[0m\u001b[0mep\u001b[0m\u001b[0;34m,\u001b[0m \u001b[0mRp\u001b[0m\u001b[0;34m)\u001b[0m\u001b[0;34m:\u001b[0m\u001b[0;34m\u001b[0m\u001b[0;34m\u001b[0m\u001b[0m\n\u001b[1;32m      5\u001b[0m   \u001b[0;32mreturn\u001b[0m \u001b[0mlinalg\u001b[0m\u001b[0;34m.\u001b[0m\u001b[0minv\u001b[0m\u001b[0;34m(\u001b[0m\u001b[0mR\u001b[0m\u001b[0;34m)\u001b[0m \u001b[0;34m@\u001b[0m \u001b[0;34m(\u001b[0m\u001b[0me\u001b[0m \u001b[0;34m-\u001b[0m \u001b[0mRp\u001b[0m \u001b[0;34m@\u001b[0m \u001b[0mep\u001b[0m\u001b[0;34m)\u001b[0m\u001b[0;34m\u001b[0m\u001b[0;34m\u001b[0m\u001b[0m\n",
      "\u001b[0;31mValueError\u001b[0m: matmul: Input operand 1 has a mismatch in its core dimension 0, with gufunc signature (n?,k),(k,m?)->(n?,m?) (size 400 is different from 2)"
     ]
    }
   ],
   "source": [
    "def evaluator(ellips, R, g_psf, Rpsf):\n",
    "\n",
    "  shears = metacal_shear(ellips,R)\n",
    "  shear = shears.mean(axis=0)\n",
    "  shear_err = shears.std(axis=0)\n",
    "\n",
    "  shearcorrs = metacal_shear_psf(ellips,R,g_psf.reshape(-1,2,1), Rpsf)\n",
    "  shearcorr = shearcorrs.mean(axis=0)\n",
    "  shearcorr_err = shearcorrs.std(axis=0)/sqrt(len(ellips))\n",
    "  return shear[...,0], shear_err[...,0],  shearcorr[...,0], shearcorr_err[...,0]\n",
    "  \n",
    "shear, shear_err, shearcorr, shearcorr_err= evaluator(e_amc.numpy(), R_auto.numpy() ,g_psf, R_psf.numpy())"
   ]
  },
  {
   "cell_type": "code",
   "execution_count": null,
   "id": "8f66213a-e846-4a1a-b737-3467244aa002",
   "metadata": {},
   "outputs": [],
   "source": []
  },
  {
   "cell_type": "code",
   "execution_count": null,
   "id": "325ffaec-effd-4643-b07b-a10578e9a7cb",
   "metadata": {},
   "outputs": [],
   "source": []
  },
  {
   "cell_type": "code",
   "execution_count": null,
   "id": "9fff6ce5-ffd7-49e3-b616-b43465b650b0",
   "metadata": {},
   "outputs": [],
   "source": []
  },
  {
   "cell_type": "code",
   "execution_count": null,
   "id": "6319d721-d1e5-47f9-8e92-d1a1127cad75",
   "metadata": {},
   "outputs": [],
   "source": []
  },
  {
   "cell_type": "markdown",
   "id": "6e48bcc2-b973-4f8b-bd1f-dcbc10184d0e",
   "metadata": {},
   "source": [
    "## AutoMetaCal"
   ]
  },
  {
   "cell_type": "markdown",
   "id": "26126871-33f2-45a3-8632-32b139b09453",
   "metadata": {},
   "source": [
    "We will run with a simple moments-based method for now."
   ]
  },
  {
   "cell_type": "code",
   "execution_count": 27,
   "id": "f11a2b39-3195-40bc-9bcb-ad07499bc2a0",
   "metadata": {},
   "outputs": [],
   "source": [
    "#AutoMetaCal runner\n",
    "method = lambda im: amc.get_moment_ellipticities(im, scale=scale, fwhm=window_fwhm)\n",
    "#for amc\n",
    "if finitediff:\n",
    "  if fixnoise:\n",
    "    @tf.function\n",
    "    def response(gal_images,psf_images,noise_images):\n",
    "      return amc.metacal_psf_fixnoise.get_metacal_response_finitediff(gal_images, \n",
    "                                                           psf_images,\n",
    "                                                           psf_images,\n",
    "                                                           tf.convert_to_tensor(noise_images,dtype=tf.float32),\n",
    "                                                           .01,.01,\n",
    "                                                           method)\n",
    "  else:\n",
    "    @tf.function\n",
    "    def response(gal_images,psf_images,noise_images):\n",
    "      return amc.metacal_psf.get_metacal_response_finitediff(gal_images, \n",
    "                                                           psf_images,\n",
    "                                                           psf_images,\n",
    "                                                           #tf.convert_to_tensor(noise_images,dtype=tf.float32),\n",
    "                                                           .01,.01,\n",
    "                                                           method)\n",
    "else:\n",
    "  if fixnoise:\n",
    "    @tf.function\n",
    "    def response(gal_images,psf_images,noise_images):\n",
    "      return amc.metacal_psf_fixnoise.get_metacal_response(gal_images, \n",
    "                                                           psf_images,\n",
    "                                                           psf_images,\n",
    "                                                           tf.convert_to_tensor(noise_images,dtype=tf.float32),\n",
    "                                                           method)\n",
    "  else:\n",
    "    @tf.function\n",
    "    def response(gal_images,psf_images,noise_images):\n",
    "      return amc.metacal_psf.get_metacal_response(gal_images, \n",
    "                                                           psf_images,\n",
    "                                                           psf_images,\n",
    "                                                           #tf.convert_to_tensor(noise_images,dtype=tf.float32),\n",
    "                                                           method)"
   ]
  },
  {
   "cell_type": "code",
   "execution_count": 28,
   "id": "65a1b5ea-cf9b-4994-a0a5-c52c8cfc7df0",
   "metadata": {},
   "outputs": [
    {
     "name": "stdout",
     "output_type": "stream",
     "text": [
      "WARNING:tensorflow:Using a while_loop for converting Addons>ResamplerGrad\n"
     ]
    },
    {
     "name": "stderr",
     "output_type": "stream",
     "text": [
      "WARNING:tensorflow:Using a while_loop for converting Addons>ResamplerGrad\n"
     ]
    },
    {
     "name": "stdout",
     "output_type": "stream",
     "text": [
      "WARNING:tensorflow:Using a while_loop for converting Addons>ResamplerGrad\n"
     ]
    },
    {
     "name": "stderr",
     "output_type": "stream",
     "text": [
      "WARNING:tensorflow:Using a while_loop for converting Addons>ResamplerGrad\n"
     ]
    },
    {
     "name": "stdout",
     "output_type": "stream",
     "text": [
      "WARNING:tensorflow:Using a while_loop for converting Addons>ResamplerGrad\n"
     ]
    },
    {
     "name": "stderr",
     "output_type": "stream",
     "text": [
      "WARNING:tensorflow:Using a while_loop for converting Addons>ResamplerGrad\n"
     ]
    },
    {
     "name": "stdout",
     "output_type": "stream",
     "text": [
      "WARNING:tensorflow:Using a while_loop for converting Addons>ResamplerGrad\n"
     ]
    },
    {
     "name": "stderr",
     "output_type": "stream",
     "text": [
      "WARNING:tensorflow:Using a while_loop for converting Addons>ResamplerGrad\n"
     ]
    },
    {
     "name": "stdout",
     "output_type": "stream",
     "text": [
      "WARNING:tensorflow:Using a while_loop for converting Addons>ResamplerGrad\n"
     ]
    },
    {
     "name": "stderr",
     "output_type": "stream",
     "text": [
      "WARNING:tensorflow:Using a while_loop for converting Addons>ResamplerGrad\n"
     ]
    },
    {
     "name": "stdout",
     "output_type": "stream",
     "text": [
      "WARNING:tensorflow:Using a while_loop for converting Addons>ResamplerGrad\n"
     ]
    },
    {
     "name": "stderr",
     "output_type": "stream",
     "text": [
      "WARNING:tensorflow:Using a while_loop for converting Addons>ResamplerGrad\n"
     ]
    },
    {
     "name": "stdout",
     "output_type": "stream",
     "text": [
      "WARNING:tensorflow:Using a while_loop for converting Addons>ResamplerGrad\n"
     ]
    },
    {
     "name": "stderr",
     "output_type": "stream",
     "text": [
      "WARNING:tensorflow:Using a while_loop for converting Addons>ResamplerGrad\n"
     ]
    },
    {
     "name": "stdout",
     "output_type": "stream",
     "text": [
      "WARNING:tensorflow:Using a while_loop for converting Addons>ResamplerGrad\n"
     ]
    },
    {
     "name": "stderr",
     "output_type": "stream",
     "text": [
      "WARNING:tensorflow:Using a while_loop for converting Addons>ResamplerGrad\n"
     ]
    },
    {
     "name": "stdout",
     "output_type": "stream",
     "text": [
      "WARNING:tensorflow:Using a while_loop for converting Addons>ResamplerGrad\n"
     ]
    },
    {
     "name": "stderr",
     "output_type": "stream",
     "text": [
      "WARNING:tensorflow:Using a while_loop for converting Addons>ResamplerGrad\n"
     ]
    },
    {
     "name": "stdout",
     "output_type": "stream",
     "text": [
      "WARNING:tensorflow:Using a while_loop for converting Addons>ResamplerGrad\n"
     ]
    },
    {
     "name": "stderr",
     "output_type": "stream",
     "text": [
      "WARNING:tensorflow:Using a while_loop for converting Addons>ResamplerGrad\n"
     ]
    },
    {
     "ename": "ValueError",
     "evalue": "matmul: Input operand 1 has a mismatch in its core dimension 0, with gufunc signature (n?,k),(k,m?)->(n?,m?) (size 400 is different from 2)",
     "output_type": "error",
     "traceback": [
      "\u001b[0;31m---------------------------------------------------------------------------\u001b[0m",
      "\u001b[0;31mValueError\u001b[0m                                Traceback (most recent call last)",
      "\u001b[0;32m<ipython-input-28-e3568f35d67a>\u001b[0m in \u001b[0;36m<module>\u001b[0;34m\u001b[0m\n\u001b[1;32m      6\u001b[0m   \u001b[0mshear\u001b[0m\u001b[0;34m,\u001b[0m \u001b[0mshear_err\u001b[0m\u001b[0;34m,\u001b[0m \u001b[0mshearcorr\u001b[0m\u001b[0;34m,\u001b[0m \u001b[0mshearcorr_err\u001b[0m\u001b[0;34m=\u001b[0m \u001b[0mevaluator\u001b[0m\u001b[0;34m(\u001b[0m\u001b[0me_amc\u001b[0m\u001b[0;34m[\u001b[0m\u001b[0;34m'noshear'\u001b[0m\u001b[0;34m]\u001b[0m\u001b[0;34m.\u001b[0m\u001b[0mnumpy\u001b[0m\u001b[0;34m(\u001b[0m\u001b[0;34m)\u001b[0m\u001b[0;34m,\u001b[0m \u001b[0mR_auto\u001b[0m\u001b[0;34m.\u001b[0m\u001b[0mnumpy\u001b[0m\u001b[0;34m(\u001b[0m\u001b[0;34m)\u001b[0m \u001b[0;34m,\u001b[0m\u001b[0mg_psf\u001b[0m\u001b[0;34m,\u001b[0m \u001b[0mR_psf\u001b[0m\u001b[0;34m.\u001b[0m\u001b[0mnumpy\u001b[0m\u001b[0;34m(\u001b[0m\u001b[0;34m)\u001b[0m\u001b[0;34m)\u001b[0m\u001b[0;34m\u001b[0m\u001b[0;34m\u001b[0m\u001b[0m\n\u001b[1;32m      7\u001b[0m \u001b[0;32melse\u001b[0m\u001b[0;34m:\u001b[0m\u001b[0;34m\u001b[0m\u001b[0;34m\u001b[0m\u001b[0m\n\u001b[0;32m----> 8\u001b[0;31m   \u001b[0mshear\u001b[0m\u001b[0;34m,\u001b[0m \u001b[0mshear_err\u001b[0m\u001b[0;34m,\u001b[0m \u001b[0mshearcorr\u001b[0m\u001b[0;34m,\u001b[0m \u001b[0mshearcorr_err\u001b[0m\u001b[0;34m=\u001b[0m \u001b[0mevaluator\u001b[0m\u001b[0;34m(\u001b[0m\u001b[0me_amc\u001b[0m\u001b[0;34m.\u001b[0m\u001b[0mnumpy\u001b[0m\u001b[0;34m(\u001b[0m\u001b[0;34m)\u001b[0m\u001b[0;34m,\u001b[0m \u001b[0mR_auto\u001b[0m\u001b[0;34m.\u001b[0m\u001b[0mnumpy\u001b[0m\u001b[0;34m(\u001b[0m\u001b[0;34m)\u001b[0m \u001b[0;34m,\u001b[0m\u001b[0mg_psf\u001b[0m\u001b[0;34m,\u001b[0m \u001b[0mR_psf\u001b[0m\u001b[0;34m.\u001b[0m\u001b[0mnumpy\u001b[0m\u001b[0;34m(\u001b[0m\u001b[0;34m)\u001b[0m\u001b[0;34m)\u001b[0m\u001b[0;34m\u001b[0m\u001b[0;34m\u001b[0m\u001b[0m\n\u001b[0m\u001b[1;32m      9\u001b[0m \u001b[0mprint\u001b[0m\u001b[0;34m(\u001b[0m\u001b[0;34m'AutoMetaCal'\u001b[0m\u001b[0;34m)\u001b[0m\u001b[0;34m\u001b[0m\u001b[0;34m\u001b[0m\u001b[0m\n\u001b[1;32m     10\u001b[0m \u001b[0mprint\u001b[0m\u001b[0;34m(\u001b[0m\u001b[0;34m'-------------------------------------------------'\u001b[0m\u001b[0;34m)\u001b[0m\u001b[0;34m\u001b[0m\u001b[0;34m\u001b[0m\u001b[0m\n",
      "\u001b[0;32m<ipython-input-26-9b4211b243bd>\u001b[0m in \u001b[0;36mevaluator\u001b[0;34m(ellips, R, g_psf, Rpsf)\u001b[0m\n\u001b[1;32m      1\u001b[0m \u001b[0;32mdef\u001b[0m \u001b[0mevaluator\u001b[0m\u001b[0;34m(\u001b[0m\u001b[0mellips\u001b[0m\u001b[0;34m,\u001b[0m \u001b[0mR\u001b[0m\u001b[0;34m,\u001b[0m \u001b[0mg_psf\u001b[0m\u001b[0;34m,\u001b[0m \u001b[0mRpsf\u001b[0m\u001b[0;34m)\u001b[0m\u001b[0;34m:\u001b[0m\u001b[0;34m\u001b[0m\u001b[0;34m\u001b[0m\u001b[0m\n\u001b[1;32m      2\u001b[0m \u001b[0;34m\u001b[0m\u001b[0m\n\u001b[0;32m----> 3\u001b[0;31m   \u001b[0mshears\u001b[0m \u001b[0;34m=\u001b[0m \u001b[0mmetacal_shear\u001b[0m\u001b[0;34m(\u001b[0m\u001b[0mellips\u001b[0m\u001b[0;34m,\u001b[0m\u001b[0mR\u001b[0m\u001b[0;34m)\u001b[0m\u001b[0;34m\u001b[0m\u001b[0;34m\u001b[0m\u001b[0m\n\u001b[0m\u001b[1;32m      4\u001b[0m   \u001b[0mshear\u001b[0m \u001b[0;34m=\u001b[0m \u001b[0mshears\u001b[0m\u001b[0;34m.\u001b[0m\u001b[0mmean\u001b[0m\u001b[0;34m(\u001b[0m\u001b[0maxis\u001b[0m\u001b[0;34m=\u001b[0m\u001b[0;36m0\u001b[0m\u001b[0;34m)\u001b[0m\u001b[0;34m\u001b[0m\u001b[0;34m\u001b[0m\u001b[0m\n\u001b[1;32m      5\u001b[0m   \u001b[0mshear_err\u001b[0m \u001b[0;34m=\u001b[0m \u001b[0mshears\u001b[0m\u001b[0;34m.\u001b[0m\u001b[0mstd\u001b[0m\u001b[0;34m(\u001b[0m\u001b[0maxis\u001b[0m\u001b[0;34m=\u001b[0m\u001b[0;36m0\u001b[0m\u001b[0;34m)\u001b[0m\u001b[0;34m\u001b[0m\u001b[0;34m\u001b[0m\u001b[0m\n",
      "\u001b[0;32m<ipython-input-13-fb1d05eb6b86>\u001b[0m in \u001b[0;36mmetacal_shear\u001b[0;34m(e, R)\u001b[0m\n\u001b[1;32m      1\u001b[0m \u001b[0;32mdef\u001b[0m \u001b[0mmetacal_shear\u001b[0m\u001b[0;34m(\u001b[0m\u001b[0me\u001b[0m\u001b[0;34m,\u001b[0m\u001b[0mR\u001b[0m\u001b[0;34m)\u001b[0m\u001b[0;34m:\u001b[0m\u001b[0;34m\u001b[0m\u001b[0;34m\u001b[0m\u001b[0m\n\u001b[0;32m----> 2\u001b[0;31m   \u001b[0;32mreturn\u001b[0m \u001b[0mlinalg\u001b[0m\u001b[0;34m.\u001b[0m\u001b[0minv\u001b[0m\u001b[0;34m(\u001b[0m\u001b[0mR\u001b[0m\u001b[0;34m)\u001b[0m \u001b[0;34m@\u001b[0m \u001b[0me\u001b[0m\u001b[0;34m\u001b[0m\u001b[0;34m\u001b[0m\u001b[0m\n\u001b[0m\u001b[1;32m      3\u001b[0m \u001b[0;34m\u001b[0m\u001b[0m\n\u001b[1;32m      4\u001b[0m \u001b[0;32mdef\u001b[0m \u001b[0mmetacal_shear_psf\u001b[0m\u001b[0;34m(\u001b[0m\u001b[0me\u001b[0m\u001b[0;34m,\u001b[0m\u001b[0mR\u001b[0m\u001b[0;34m,\u001b[0m\u001b[0mep\u001b[0m\u001b[0;34m,\u001b[0m \u001b[0mRp\u001b[0m\u001b[0;34m)\u001b[0m\u001b[0;34m:\u001b[0m\u001b[0;34m\u001b[0m\u001b[0;34m\u001b[0m\u001b[0m\n\u001b[1;32m      5\u001b[0m   \u001b[0;32mreturn\u001b[0m \u001b[0mlinalg\u001b[0m\u001b[0;34m.\u001b[0m\u001b[0minv\u001b[0m\u001b[0;34m(\u001b[0m\u001b[0mR\u001b[0m\u001b[0;34m)\u001b[0m \u001b[0;34m@\u001b[0m \u001b[0;34m(\u001b[0m\u001b[0me\u001b[0m \u001b[0;34m-\u001b[0m \u001b[0mRp\u001b[0m \u001b[0;34m@\u001b[0m \u001b[0mep\u001b[0m\u001b[0;34m)\u001b[0m\u001b[0;34m\u001b[0m\u001b[0;34m\u001b[0m\u001b[0m\n",
      "\u001b[0;31mValueError\u001b[0m: matmul: Input operand 1 has a mismatch in its core dimension 0, with gufunc signature (n?,k),(k,m?)->(n?,m?) (size 400 is different from 2)"
     ]
    }
   ],
   "source": [
    "gal_images, psf_images, noise_images, _ = observer(onebatch,array([0.05,.0],dtype='float32'))\n",
    "e_amc, R_auto, R_psf = response(\n",
    "                        gal_images, \n",
    "                        psf_images,tf.convert_to_tensor(noise_images,dtype=tf.float32))\n",
    "if finitediff:\n",
    "  shear, shear_err, shearcorr, shearcorr_err= evaluator(e_amc['noshear'].numpy(), R_auto.numpy() ,g_psf, R_psf.numpy())\n",
    "else:\n",
    "  shear, shear_err, shearcorr, shearcorr_err= evaluator(e_amc.numpy(), R_auto.numpy() ,g_psf, R_psf.numpy())\n",
    "print('AutoMetaCal')\n",
    "print('-------------------------------------------------')\n",
    "print('With psf correction:')\n",
    "print(f\"shear: {shearcorr[0]:.5f} +/- {shearcorr_err[0]*3:.8f} (99.7%% conf)\")\n",
    "print('-------------------------------------------------')\n",
    "print('Without psf correction:')\n",
    "print(f\"shear: {shear[0]:.5f} +/- {shear_err[0]*3:.8f} (99.7%% conf)\")"
   ]
  },
  {
   "cell_type": "markdown",
   "id": "ca0400c8-c439-45a7-9e94-61cfd5179fed",
   "metadata": {},
   "source": [
    "## Many batches!"
   ]
  },
  {
   "cell_type": "code",
   "execution_count": 16,
   "id": "76f7c1cd-a729-40d5-8788-6c71b270a87c",
   "metadata": {
    "tags": []
   },
   "outputs": [
    {
     "name": "stderr",
     "output_type": "stream",
     "text": [
      "100%|██████████| 10/10 [22:48<00:00, 136.85s/it]\n"
     ]
    }
   ],
   "source": [
    "shear_range = linspace(-.01,.01,10)\n",
    "\n",
    "shear_ngmix_list = []\n",
    "shear_err_ngmix_list = []\n",
    "shearcorr_ngmix_list = []\n",
    "shearcorr_err_ngmix_list = []\n",
    "\n",
    "shear_amc_list = []\n",
    "shear_err_amc_list = []\n",
    "shearcorr_amc_list = []\n",
    "shearcorr_err_amc_list = []\n",
    "\n",
    "import tqdm\n",
    "for shear in tqdm.tqdm(shear_range):\n",
    "  shear_true = array([shear,0.],dtype='float32')  \n",
    "    \n",
    "  #batches to fit in memory\n",
    "  e_ngmix_list = []\n",
    "  R_ngmix_list = []\n",
    "  Rpsf_ngmix_list = []\n",
    "  e_amc_list = []\n",
    "  e_psf_list = []\n",
    "  R_amc_list = []\n",
    "  Rpsf_amc_list = []\n",
    "  \n",
    "  for i in range(4):\n",
    "    onebatch = batchit.next()\n",
    "    gal_images, psf_images, noise_images , obslist = observer(onebatch,shear_true)\n",
    "\n",
    "    #print(f\"Parallel running ngmix in {ncpus}  processes...\")\n",
    "    pool = Pool(ncpus)\n",
    "    dlist = pool.map(ngmix_step,obslist)\n",
    "    pool.close()\n",
    "    #print(\"Done!\")  \n",
    "\n",
    "    #REXtractor (REsults eXtractor! :))\n",
    "    results = [get_metacal_response_ngmix_moments(resdict) for resdict in dlist]\n",
    "    \n",
    "    #stack results ngmix\n",
    "    e_ngmix_list += [result[0]['noshear'] for result in results]\n",
    "    R_ngmix_list += [result[1] for result in results]\n",
    "    Rpsf_ngmix_list += [result[2] for result in results]\n",
    "\n",
    "    #AutoMetaCal\n",
    "    e_amc, R_auto, R_psf = response(gal_images, psf_images,tf.convert_to_tensor(noise_images,dtype=tf.float32))\n",
    "    \n",
    "    #stack results amc\n",
    "    if finitediff:\n",
    "      e_amc_list += [e_amc['noshear']]\n",
    "    else:\n",
    "      e_amc_list += [e_amc]\n",
    "    #e_psf_list += [e_psf]\n",
    "    R_amc_list +=[R_auto]\n",
    "    Rpsf_amc_list += [R_psf]\n",
    "  \n",
    "  e_ngmix = array(e_ngmix_list)\n",
    "  R_ngmix = array(R_ngmix_list)\n",
    "  #g_psf = \n",
    "  Rpsf_ngmix = array(Rpsf_ngmix_list)\n",
    "  \n",
    "  shear_ngmix, shear_err_ngmix, shearcorr_ngmix, shearcorr_err_ngmix= evaluator(e_ngmix, \n",
    "                                                                                  R_ngmix,\n",
    "                                                                                  g_psf, \n",
    "                                                                                  Rpsf_ngmix)\n",
    "  \n",
    "  e_amc = tf.concat(e_amc_list,axis=0)\n",
    "  R_amc = tf.concat(R_amc_list,axis=0)\n",
    "  #e_psf =tf.concat(e_psf_list,axis=0)\n",
    "  Rpsf_amc = tf.concat(Rpsf_amc_list,axis=0)\n",
    "  \n",
    "  shear_amc, shear_err_amc, shearcorr_amc, shearcorr_err_amc= evaluator(e_amc.numpy(), \n",
    "                                                                          R_amc.numpy() ,\n",
    "                                                                          g_psf,\n",
    "                                                                          Rpsf_amc.numpy())\n",
    "  \n",
    "  #gather field result  \n",
    "  shear_ngmix_list += [shear_ngmix]\n",
    "  shear_err_ngmix_list += [shear_err_ngmix]\n",
    "  shearcorr_ngmix_list += [shearcorr_ngmix]\n",
    "  shearcorr_err_ngmix_list += [shearcorr_err_ngmix]\n",
    "\n",
    "  shear_amc_list += [shear_amc]\n",
    "  shear_err_amc_list += [shear_err_amc]\n",
    "  shearcorr_amc_list += [shearcorr_amc]\n",
    "  shearcorr_err_amc_list += [shearcorr_err_amc]"
   ]
  },
  {
   "cell_type": "markdown",
   "id": "58234a1a-7a56-45a9-a8b7-2a68907dde76",
   "metadata": {},
   "source": [
    "## Gather Results"
   ]
  },
  {
   "cell_type": "code",
   "execution_count": 17,
   "id": "1820c288-47c3-409d-b7e0-842bc78880a3",
   "metadata": {},
   "outputs": [],
   "source": [
    "from scipy.stats import linregress"
   ]
  },
  {
   "cell_type": "code",
   "execution_count": 18,
   "id": "2a8ec69f-8d90-41ad-b510-67831b892de7",
   "metadata": {},
   "outputs": [
    {
     "data": {
      "image/png": "[encoded data removed]",
      "text/plain": [
       "<Figure size 432x360 with 1 Axes>"
      ]
     },
     "metadata": {},
     "output_type": "display_data"
    }
   ],
   "source": [
    "style.use('ggplot')\n",
    "figure(figsize=(6,5))\n",
    "\n",
    "X1 = shear_range\n",
    "Y1 =  array(shear_ngmix_list)[:,0]\n",
    "Y1err = array(shear_err_ngmix_list)[:,0]\n",
    "\n",
    "#biases\n",
    "ngmix_bias = linregress(X1,Y1)\n",
    "m_ngmix = ngmix_bias.slope-1\n",
    "c_ngmix = ngmix_bias.intercept\n",
    "\n",
    "#errors\n",
    "m_ngmix_err = ngmix_bias.stderr\n",
    "c_ngmix_err = ngmix_bias.intercept_stderr\n",
    "\n",
    "plot_text = f\"Test name: {settings_name}\\n\\n\"\n",
    "\n",
    "plot_text +=  f\"ngmix: m = {m_ngmix:.3e} +/- {m_ngmix_err:.3e}\\n\"\n",
    "plot_text += f\"ngmix: c = {c_ngmix:.3e} +/- {c_ngmix_err:.3e}\\n\"\n",
    "\n",
    "errorbar(X1,Y1 - X1,Y1err*3,fmt='o',label= 'ngmix moments')\n",
    "\n",
    "Y1 =  array(shear_amc_list)[:,0] \n",
    "Y1err = array(shear_err_ngmix_list)[:,0]\n",
    "\n",
    "#biases\n",
    "amc_bias = linregress(X1,Y1)\n",
    "m_amc = amc_bias.slope-1\n",
    "c_amc = amc_bias.intercept\n",
    "\n",
    "#errors\n",
    "m_amc_err = amc_bias.stderr\n",
    "c_amc_err = amc_bias.intercept_stderr\n",
    "\n",
    "errorbar(X1,Y1 - X1,Y1err*3,fmt='o',label= 'amc moments')\n",
    "\n",
    "plot_text += f\"\\namc: m = {m_amc:.3e} +/- {m_amc_err:.3e}\\n\"\n",
    "plot_text += f\"amc: c = {c_amc:.3e} +/- {c_amc_err:.3e}\\n\"\n",
    "\n",
    "figtext(.95,.5 ,plot_text,fontsize=15)\n",
    "\n",
    "xlabel('$g_1$ true')\n",
    "ylabel('residuals')\n",
    "\n",
    "legend(loc=3)\n",
    "title(f'R calibrated')\n",
    "savefig(f'{results_folder}/uncorrected_shear_residuals_{settings_name}.jpg',bbox_inches='tight')"
   ]
  },
  {
   "cell_type": "code",
   "execution_count": 19,
   "id": "bec7e32a-5139-451f-bf9b-fa61591f9928",
   "metadata": {},
   "outputs": [
    {
     "data": {
      "image/png": "[encoded data removed]",
      "text/plain": [
       "<Figure size 432x360 with 1 Axes>"
      ]
     },
     "metadata": {},
     "output_type": "display_data"
    }
   ],
   "source": [
    "style.use('ggplot')\n",
    "figure(figsize=(6,5))\n",
    "\n",
    "X1 = shear_range\n",
    "Y1 =  array(shearcorr_ngmix_list)[:,0]\n",
    "Y1err = array(shearcorr_err_ngmix_list)[:,0]\n",
    "\n",
    "#biases\n",
    "ngmix_bias = linregress(X1,Y1)\n",
    "m_ngmix = ngmix_bias.slope - 1\n",
    "c_ngmix = ngmix_bias.intercept\n",
    "\n",
    "#errors\n",
    "m_ngmix_err = ngmix_bias.stderr\n",
    "c_ngmix_err = ngmix_bias.intercept_stderr\n",
    "\n",
    "plot_text = f\"Test name: {settings_name}\\n\\n\"\n",
    "\n",
    "plot_text +=  f\"ngmix: m = {m_ngmix:.3e} +/- {m_ngmix_err:.3e}\\n\"\n",
    "plot_text += f\"ngmix: c = {c_ngmix:.3e} +/- {c_ngmix_err:.3e}\\n\"\n",
    "\n",
    "errorbar(X1,Y1 - X1,Y1err*3,fmt='o',label= 'ngmix moments')\n",
    "\n",
    "Y1 =  array(shearcorr_amc_list)[:,0] \n",
    "Y1err = array(shearcorr_err_ngmix_list)[:,0]\n",
    "\n",
    "#biases\n",
    "amc_bias = linregress(X1,Y1)\n",
    "m_amc = amc_bias.slope-1\n",
    "c_amc = amc_bias.intercept\n",
    "\n",
    "#errors\n",
    "m_amc_err = amc_bias.stderr\n",
    "c_amc_err = amc_bias.intercept_stderr\n",
    "\n",
    "errorbar(X1,Y1 - X1,Y1err*3,fmt='o',label= 'amc moments')\n",
    "\n",
    "plot_text += f\"\\namc: m = {m_amc:.3e} +/- {m_amc_err:.3e}\\n\"\n",
    "plot_text += f\"amc: c = {c_amc:.3e} +/- {c_amc_err:.3e}\\n\"\n",
    "\n",
    "figtext(.95,.5 ,plot_text,fontsize=15)\n",
    "\n",
    "xlabel('$g_1$ true')\n",
    "ylabel('residuals')\n",
    "\n",
    "legend(loc=3)\n",
    "title(f'R calib + Rpsf corr')\n",
    "savefig(f'{results_folder}/corrected_shear_residuals_{settings_name}.jpg',bbox_inches='tight')"
   ]
  },
  {
   "cell_type": "raw",
   "id": "fc16f869-c2ea-4557-9ad5-eb38785505e2",
   "metadata": {},
   "source": [
    "style.use('ggplot')\n",
    "figure(figsize=(20,20))\n",
    "\n",
    "\n",
    "for i in range(25):\n",
    "  \n",
    "  subplot(5,5,i+1)\n",
    "  X1 = shear_range\n",
    "  Y1 =  array(shearcorr_ngmix_list)[:,0]\n",
    "  Y1err = array(shearcorr_err_ngmix_list)[:,0]\n",
    "\n",
    "  #biases\n",
    "  ngmix_bias = linregress(X1,Y1)\n",
    "  m_ngmix = ngmix_bias.slope - 1\n",
    "  c_ngmix = ngmix_bias.intercept\n",
    "\n",
    "  #errors\n",
    "  m_ngmix_err = ngmix_bias.stderr\n",
    "  c_ngmix_err = ngmix_bias.intercept_stderr\n",
    "\n",
    "  errorbar(X1,Y1 - X1,Y1err,fmt='o',label= 'ngmix moments')\n",
    "\n",
    "  Y1 =  array(shearcorr_amc_list)[:,0] \n",
    "  Y1err = array(shearcorr_err_ngmix_list)[:,0]\n",
    "\n",
    "  #biases\n",
    "  amc_bias = linregress(X1,Y1)\n",
    "  m_amc = amc_bias.slope-1\n",
    "  c_amc = amc_bias.intercept\n",
    "\n",
    "  #errors\n",
    "  m_amc_err = amc_bias.stderr\n",
    "  c_amc_err = amc_bias.intercept_stderr\n",
    "\n",
    "  errorbar(X1,Y1 - X1,Y1err,fmt='o',label= 'amc moments')\n",
    "\n",
    "  if (i + 1 == 11) or  (i + 1 == 23) :\n",
    "    if (i + 1 == 11):\n",
    "      ylabel('residuals')\n",
    "    else:\n",
    "      xlabel('g1 true')\n",
    "\n",
    "\n",
    "  legend(loc=3)\n",
    "  title(f'g1= , g2 =')\n",
    "savefig('example_psf_plot.png',bbox_inches='tight')"
   ]
  },
  {
   "cell_type": "code",
   "execution_count": 20,
   "id": "a9ee95f1-df04-4511-970d-eb7172534f0d",
   "metadata": {},
   "outputs": [
    {
     "data": {
      "image/png": "[encoded data removed]",
      "text/plain": [
       "<Figure size 1152x360 with 2 Axes>"
      ]
     },
     "metadata": {},
     "output_type": "display_data"
    }
   ],
   "source": [
    "figure(figsize=(16,5))\n",
    "subplot(121)\n",
    "hist((Rpsf_amc - Rpsf_ngmix)[:,0,0].numpy().flatten(),alpha=0.7,bins=60, label='$R_{psf,11}$');\n",
    "hist((Rpsf_amc - Rpsf_ngmix)[:,1,1].numpy().flatten(),alpha=0.7,bins=60, label='$R_{psf,22}$');\n",
    "legend(fontsize=15)\n",
    "xlabel('$R_{psf,amc} - R_{psf,ngmix}$',fontsize=15)\n",
    "title(f'diagonal psf responsivity at g1={shear}')\n",
    "subplot(122)\n",
    "ylabel(settings_name,fontsize=20)\n",
    "hist((Rpsf_amc - Rpsf_ngmix)[:,0,1].numpy().flatten(),alpha=0.7,bins=60, label='$R_{psf,12}$');\n",
    "hist((Rpsf_amc - Rpsf_ngmix)[:,1,0].numpy().flatten(),alpha=0.7,bins=60, label='$R_{psf,21}$');\n",
    "legend(fontsize=15)\n",
    "xlabel('$R_{psf,amc} - R_{psf,ngmix}$',fontsize=15)\n",
    "title(f'off-diagonal psf responsivity at g1={shear}')\n",
    "savefig(f'{results_folder}/Rpsf_{settings_name}.jpg',bbox_inches='tight')"
   ]
  },
  {
   "cell_type": "code",
   "execution_count": 21,
   "id": "4440547d-65c4-4b73-afd4-e4a328341ac4",
   "metadata": {},
   "outputs": [
    {
     "data": {
      "text/plain": [
       "0.07515371"
      ]
     },
     "execution_count": 21,
     "metadata": {},
     "output_type": "execute_result"
    }
   ],
   "source": [
    "(Rpsf_amc - Rpsf_ngmix)[:,0,0].numpy().flatten().max()"
   ]
  },
  {
   "cell_type": "code",
   "execution_count": 22,
   "id": "467740ef-3b81-4003-b0d4-7a17234eb53b",
   "metadata": {},
   "outputs": [
    {
     "data": {
      "image/png": "[encoded data removed]",
      "text/plain": [
       "<Figure size 432x288 with 1 Axes>"
      ]
     },
     "metadata": {},
     "output_type": "display_data"
    }
   ],
   "source": [
    "hist((Rpsf_amc)[:,0,0].numpy().flatten(),alpha=0.7,bins=60, label='$R_{psf,11}$');\n",
    "hist((Rpsf_ngmix)[:,0,0].flatten(),alpha=0.7,bins=60, label='$R_{psf,22}$');"
   ]
  },
  {
   "cell_type": "code",
   "execution_count": 23,
   "id": "438e98a8-95b7-44db-90e8-c9aaaaef3731",
   "metadata": {},
   "outputs": [
    {
     "data": {
      "text/plain": [
       "0.44214652410216004"
      ]
     },
     "execution_count": 23,
     "metadata": {},
     "output_type": "execute_result"
    }
   ],
   "source": [
    "R_ngmix[:,0,0].mean()"
   ]
  },
  {
   "cell_type": "code",
   "execution_count": 24,
   "id": "67440d98-edd6-4b13-ad78-a00417d7a5b3",
   "metadata": {},
   "outputs": [
    {
     "data": {
      "text/plain": [
       "0.46569958"
      ]
     },
     "execution_count": 24,
     "metadata": {},
     "output_type": "execute_result"
    }
   ],
   "source": [
    "R_amc[:,0,0].numpy().mean()"
   ]
  },
  {
   "cell_type": "code",
   "execution_count": 25,
   "id": "0179c6d0-fd07-4abc-b4bf-fb7240c31771",
   "metadata": {},
   "outputs": [
    {
     "data": {
      "image/png": "[encoded data removed]",
      "text/plain": [
       "<Figure size 1152x360 with 2 Axes>"
      ]
     },
     "metadata": {},
     "output_type": "display_data"
    }
   ],
   "source": [
    "figure(figsize=(16,5))\n",
    "subplot(121)\n",
    "hist((R_amc - R_ngmix)[:,0,0].numpy().flatten(),alpha=0.7,bins=60, label='$R_{11}$');\n",
    "hist((R_amc - R_ngmix)[:,1,1].numpy().flatten(),alpha=0.7,bins=60, label='$R_{22}$');\n",
    "legend(fontsize=15)\n",
    "xlabel('$R_{amc} - R_{ngmix}$',fontsize=15)\n",
    "title(f'diagonal responsivity at g1={shear}')\n",
    "subplot(122)\n",
    "ylabel(settings_name,fontsize=20)\n",
    "hist((R_amc - R_ngmix)[:,0,1].numpy().flatten(),alpha=0.7,bins=60, label='$R_{12}$');\n",
    "hist((R_amc - R_ngmix)[:,1,0].numpy().flatten(),alpha=0.7,bins=60, label='$R_{21}$');\n",
    "legend(fontsize=15)\n",
    "xlabel('$R_{amc} - R_{ngmix}$',fontsize=15)\n",
    "title(f'off-diagonal responsivity at g1={shear}')\n",
    "savefig(f'{results_folder}/R_{settings_name}.jpg',bbox_inches='tight')"
   ]
  },
  {
   "cell_type": "code",
   "execution_count": null,
   "id": "8d66b5e0-a849-4d8a-bb2c-30194195b196",
   "metadata": {},
   "outputs": [],
   "source": []
  },
  {
   "cell_type": "code",
   "execution_count": null,
   "id": "b5543b24-dc5c-4cae-8f60-ad289cb2a210",
   "metadata": {},
   "outputs": [],
   "source": []
  },
  {
   "cell_type": "code",
   "execution_count": null,
   "id": "bbc68a90-cea0-46ca-ba48-0c9ab75ec469",
   "metadata": {},
   "outputs": [],
   "source": []
  },
  {
   "cell_type": "code",
   "execution_count": null,
   "id": "ff38e615-7e1b-42b1-929d-463557684136",
   "metadata": {},
   "outputs": [],
   "source": []
  }
 ],
 "metadata": {
  "kernelspec": {
   "display_name": "Python 3",
   "language": "python",
   "name": "python3"
  },
  "language_info": {
   "codemirror_mode": {
    "name": "ipython",
    "version": 3
   },
   "file_extension": ".py",
   "mimetype": "text/x-python",
   "name": "python",
   "nbconvert_exporter": "python",
   "pygments_lexer": "ipython3",
   "version": "3.8.12"
  }
 },
 "nbformat": 4,
 "nbformat_minor": 5
}
